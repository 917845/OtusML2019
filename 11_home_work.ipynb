{
 "cells": [
  {
   "cell_type": "code",
   "execution_count": 171,
   "metadata": {},
   "outputs": [],
   "source": [
    "import pandas as pd\n",
    "from bs4 import BeautifulSoup\n",
    "import requests \n",
    "import time  \n",
    "from fake_useragent import UserAgent\n",
    "\n",
    "from datetime import timedelta, date\n",
    "import random\n"
   ]
  },
  {
   "cell_type": "code",
   "execution_count": 150,
   "metadata": {},
   "outputs": [],
   "source": [
    "# Буду парсить сайт vesti.ru\n",
    "# Данные получились не богатыми, но их можно использовать, например, для поиска трендов и актуальных событий\n"
   ]
  },
  {
   "cell_type": "code",
   "execution_count": 174,
   "metadata": {},
   "outputs": [],
   "source": [
    "def get_page_links(page_date):\n",
    "    \"\"\"\n",
    "        На вход подается дата в формате dd.mm.yyyy\n",
    "        Возвращает список ссылок на новости, полученный с текущей страницы\n",
    "    \"\"\"\n",
    "    page_link = 'https://www.vesti.ru/section.html?cid=6&date={}'.format(page_date)\n",
    "    response = requests.get(page_link, headers={'User-Agent': UserAgent().chrome})\n",
    "    \n",
    "    if not response.ok:\n",
    "        return []\n",
    "    \n",
    "    try:\n",
    "        html = response.content\n",
    "        soup = BeautifulSoup(html,'html.parser')\n",
    "        obj = soup.findAll('h3', attrs = {'class': 'b-item__title'})\n",
    "        itog = [i.a.get('href') for i in obj]\n",
    "    except:\n",
    "        itog = None\n",
    "        \n",
    "    return itog\n"
   ]
  },
  {
   "cell_type": "code",
   "execution_count": 90,
   "metadata": {
    "scrolled": false
   },
   "outputs": [
    {
     "data": {
      "text/plain": [
       "['/doc.html?id=3249513',\n",
       " '/doc.html?id=3249503',\n",
       " '/doc.html?id=3249499',\n",
       " '/doc.html?id=3249480',\n",
       " '/doc.html?id=3249481',\n",
       " '/doc.html?id=3249496',\n",
       " '/doc.html?id=3249485',\n",
       " '/doc.html?id=3249470',\n",
       " '/doc.html?id=3249463',\n",
       " '/doc.html?id=3249461',\n",
       " '/doc.html?id=3249401',\n",
       " '/doc.html?id=3249449',\n",
       " '/doc.html?id=3249459',\n",
       " '/doc.html?id=3249451',\n",
       " '/doc.html?id=3249447',\n",
       " '/doc.html?id=3249435',\n",
       " '/doc.html?id=3249422',\n",
       " '/doc.html?id=3249376',\n",
       " '/doc.html?id=3249426',\n",
       " '/doc.html?id=3249421',\n",
       " '/doc.html?id=3249348',\n",
       " '/doc.html?id=3249399',\n",
       " '/doc.html?id=3249403',\n",
       " '/doc.html?id=3249394',\n",
       " '/doc.html?id=3249393',\n",
       " '/doc.html?id=3249377',\n",
       " '/doc.html?id=3249378',\n",
       " '/doc.html?id=3249337',\n",
       " '/doc.html?id=3249287',\n",
       " '/doc.html?id=3249359',\n",
       " '/doc.html?id=3249354',\n",
       " '/doc.html?id=3249360',\n",
       " '/doc.html?id=3249326',\n",
       " '/doc.html?id=3249301',\n",
       " '/doc.html?id=3249342',\n",
       " '/doc.html?id=3249320',\n",
       " '/doc.html?id=3249298',\n",
       " '/doc.html?id=3249316',\n",
       " '/doc.html?id=3249312',\n",
       " '/doc.html?id=3249282',\n",
       " '/doc.html?id=3249309',\n",
       " '/doc.html?id=3249293',\n",
       " '/doc.html?id=3249283',\n",
       " '/doc.html?id=3249291',\n",
       " '/doc.html?id=3249273',\n",
       " '/doc.html?id=3249281',\n",
       " '/doc.html?id=3249255',\n",
       " '/doc.html?id=3249268',\n",
       " '/doc.html?id=3249261',\n",
       " '/doc.html?id=3249263',\n",
       " '/doc.html?id=3249246',\n",
       " '/doc.html?id=3249241',\n",
       " '/doc.html?id=3249242',\n",
       " '/doc.html?id=3249238',\n",
       " '/doc.html?id=3249237',\n",
       " '/doc.html?id=3249236',\n",
       " '/doc.html?id=3249234',\n",
       " '/doc.html?id=3249233',\n",
       " '/doc.html?id=3249232',\n",
       " '/doc.html?id=3249229',\n",
       " '/doc.html?id=3249224',\n",
       " '/doc.html?id=3249213',\n",
       " '/doc.html?id=3249217']"
      ]
     },
     "execution_count": 90,
     "metadata": {},
     "output_type": "execute_result"
    }
   ],
   "source": [
    "get_page_links('19.03.2020')\n"
   ]
  },
  {
   "cell_type": "code",
   "execution_count": 278,
   "metadata": {},
   "outputs": [],
   "source": [
    "def get_data(url_page):\n",
    "    \"\"\"\n",
    "        Возвращает обработанный словарь с данными по одной новости\n",
    "    \"\"\"\n",
    "    \n",
    "    # запрашиваем данные по ссылке\n",
    "    try:\n",
    "        page_link = url_page\n",
    "        response = requests.get(page_link, headers={'User-Agent': UserAgent().chrome})\n",
    "    except:\n",
    "        return None\n",
    "    \n",
    "    if not response.ok:\n",
    "        return None\n",
    "    \n",
    "    # получаем содержимое страницы и переводим в суп\n",
    "    try:\n",
    "        html = response.content\n",
    "        soup = BeautifulSoup(html,'html.parser')\n",
    "    except:\n",
    "        return None\n",
    "    \n",
    "    title = None\n",
    "    description = None\n",
    "    keywords_text = None\n",
    "    \n",
    "    # Получаем основные теги:\n",
    "    try:\n",
    "        for tag in soup.head.find_all(\"meta\"):\n",
    "            if tag.get(\"name\", None) == \"keywords\":\n",
    "                keywords_text = tag.get(\"content\", None)\n",
    "                if keywords_text:\n",
    "                    keywords_text = keywords_text.split(' ')\n",
    "            elif tag.get(\"property\", None) == \"og:title\":\n",
    "                title = tag.get(\"content\", None)\n",
    "                \n",
    "            elif tag.get(\"property\", None) == \"og:description\":\n",
    "                description = tag.get(\"content\", None)\n",
    "    except:\n",
    "        title = None\n",
    "        description = None\n",
    "        keywords_text = None\n",
    "        \n",
    "    # Получаем время публикации\n",
    "    try:\n",
    "        obj_date = soup.find('div', attrs = {'class': 'article__date'})\n",
    "        date_post = obj_date.text\n",
    "        date_post = \" \".join(date_post.split())\n",
    "        time_post = date_post[:-5] + ' ' + date_post[-5:]\n",
    "        time_post\n",
    "    except:\n",
    "        time_post = None\n",
    "        \n",
    "    # Получаем текст самой новости:\n",
    "    try:\n",
    "        obj_text = soup.find('div', attrs = {'class': 'article__text'})\n",
    "        base_text = obj_text.text.split('!function')[0]\n",
    "        base_text = \" \".join(base_text.split())\n",
    "        base_text\n",
    "    except:\n",
    "        base_text = None\n",
    "    \n",
    "    # составляем словарь, в котором будут хранится все полученные и обработанные данные\n",
    "\n",
    "    data_row = {'title': title,\n",
    "                'description': description,\n",
    "                'keywords_text': keywords_text,\n",
    "                'time_post': time_post,\n",
    "                'base_text': base_text,\n",
    "               }\n",
    "\n",
    "    return data_row\n"
   ]
  },
  {
   "cell_type": "code",
   "execution_count": 160,
   "metadata": {},
   "outputs": [
    {
     "data": {
      "text/plain": [
       "{'title': 'Минфин пообещал дополнительную поддержку отраслям экономики',\n",
       " 'description': 'Правительству нужно будет оказать дополнительную поддержку отраслям экономики, пострадавшим от форс-мажорной ситуации на рынке. Об этом министр финансов Антон Силуанов заявил в программе \"Москва. Кремль. Путин\" на телеканале \"Россия 1\".',\n",
       " 'keywords': ['силуанов', 'орешкин', 'экономика', 'поддержка'],\n",
       " 'time_post': '22 марта 2020 13:41',\n",
       " 'base_text': 'Правительству нужно будет оказать дополнительную поддержку отраслям экономики, пострадавшим от форс-мажорной ситуации на рынке. Об этом министр финансов Антон Силуанов заявил в программе \"Москва. Кремль. Путин\" на телеканале \"Россия 1\". \"Это, безусловно, будет серьезное дополнительное испытание для российской экономики. С другой стороны, для бюджета созданы резервы. Уверены в том, что все расходы, которые были запланированы, профинансируем. Нам, конечно, нужно будет оказывать дополнительную поддержку отраслям экономики\", — подчеркнул Силуанов. В свою очередь, министр экономического развития РФ Максим Решетников заявил, что экономика выдержит такое давление. \"Безусловно\", — сказал он. Однако в ближайшие несколько месяцев \"будет очень сложно\", добавил он. \"Малый бизнес уже на себе это остро чувствует, особенно в крупных городах, поэтому очень важно сосредоточить все меры, чтобы дать какую-то передышку, чтобы подождать и переждать время, когда появится эта определенность\", — отметил Решетников. Министр напомнил, что \"все эти эпидемии, все эти шоки\" носят временный характер. \"Потом экономика вернется на траекторию роста, но какая будет эта траектория — очень сильно зависит от того, насколько адекватные и быстрые меры мы будем принимать сейчас\", — добавил он.'}"
      ]
     },
     "execution_count": 160,
     "metadata": {},
     "output_type": "execute_result"
    }
   ],
   "source": [
    "get_data('https://www.vesti.ru/doc.html?id=3250104')\n"
   ]
  },
  {
   "cell_type": "code",
   "execution_count": 199,
   "metadata": {},
   "outputs": [],
   "source": [
    "# функция-итерация по датам по одному дню:\n",
    "def daterange(start_date, end_date):\n",
    "    for n in range(int ((end_date - start_date).days)):\n",
    "        yield start_date + timedelta(n)\n"
   ]
  },
  {
   "cell_type": "code",
   "execution_count": 200,
   "metadata": {},
   "outputs": [],
   "source": [
    "# Соберем все ссылки на новости\n",
    "\n",
    "def get_list_links(start_date, end_date):\n",
    "    page_links = []\n",
    "    for single_date in daterange(start_date, end_date):\n",
    "        mydata = single_date.strftime(\"%d.%m.%Y\")\n",
    "        page_links = page_links + get_page_links(mydata)\n",
    "        pause = random.uniform(0.4, 1.)\n",
    "        time.sleep(pause)\n",
    "\n",
    "    return page_links\n"
   ]
  },
  {
   "cell_type": "code",
   "execution_count": 202,
   "metadata": {},
   "outputs": [
    {
     "data": {
      "text/plain": [
       "987"
      ]
     },
     "execution_count": 202,
     "metadata": {},
     "output_type": "execute_result"
    }
   ],
   "source": [
    "%%time\n",
    "start_date = date(2020, 2, 1)\n",
    "end_date = date(2020, 2, 29)\n",
    "\n",
    "list_links = get_list_links(start_date, end_date)\n",
    "\n",
    "len(list_links)\n"
   ]
  },
  {
   "cell_type": "code",
   "execution_count": 270,
   "metadata": {},
   "outputs": [
    {
     "data": {
      "text/html": [
       "<div>\n",
       "<style scoped>\n",
       "    .dataframe tbody tr th:only-of-type {\n",
       "        vertical-align: middle;\n",
       "    }\n",
       "\n",
       "    .dataframe tbody tr th {\n",
       "        vertical-align: top;\n",
       "    }\n",
       "\n",
       "    .dataframe thead th {\n",
       "        text-align: right;\n",
       "    }\n",
       "</style>\n",
       "<table border=\"1\" class=\"dataframe\">\n",
       "  <thead>\n",
       "    <tr style=\"text-align: right;\">\n",
       "      <th></th>\n",
       "      <th>title</th>\n",
       "      <th>description</th>\n",
       "      <th>keywords</th>\n",
       "      <th>time_post</th>\n",
       "      <th>base_text</th>\n",
       "    </tr>\n",
       "  </thead>\n",
       "  <tbody>\n",
       "  </tbody>\n",
       "</table>\n",
       "</div>"
      ],
      "text/plain": [
       "Empty DataFrame\n",
       "Columns: [title, description, keywords, time_post, base_text]\n",
       "Index: []"
      ]
     },
     "execution_count": 270,
     "metadata": {},
     "output_type": "execute_result"
    }
   ],
   "source": [
    "final_data = pd.DataFrame(columns=['title', 'description', 'keywords_text', 'time_post', 'base_text'])\n",
    "final_data\n"
   ]
  },
  {
   "cell_type": "code",
   "execution_count": 279,
   "metadata": {
    "scrolled": true
   },
   "outputs": [
    {
     "name": "stdout",
     "output_type": "stream",
     "text": [
      "CPU times: user 2min 20s, sys: 2.93 s, total: 2min 23s\n",
      "Wall time: 19min 19s\n"
     ]
    }
   ],
   "source": [
    "%%time\n",
    "for link in list_links:\n",
    "    link = 'https://www.vesti.ru' + link\n",
    "    new_news = get_data(link)\n",
    "    if new_news:\n",
    "        final_data = final_data.append(new_news, ignore_index = True)\n",
    "    pause = random.uniform(0.5, 1.)\n",
    "    time.sleep(pause)\n"
   ]
  },
  {
   "cell_type": "code",
   "execution_count": 283,
   "metadata": {},
   "outputs": [],
   "source": [
    "final_df = final_data.copy()\n",
    "final_df = final_df.drop('keywords', axis = 1)\n"
   ]
  },
  {
   "cell_type": "code",
   "execution_count": 288,
   "metadata": {},
   "outputs": [
    {
     "data": {
      "text/html": [
       "<div>\n",
       "<style scoped>\n",
       "    .dataframe tbody tr th:only-of-type {\n",
       "        vertical-align: middle;\n",
       "    }\n",
       "\n",
       "    .dataframe tbody tr th {\n",
       "        vertical-align: top;\n",
       "    }\n",
       "\n",
       "    .dataframe thead th {\n",
       "        text-align: right;\n",
       "    }\n",
       "</style>\n",
       "<table border=\"1\" class=\"dataframe\">\n",
       "  <thead>\n",
       "    <tr style=\"text-align: right;\">\n",
       "      <th></th>\n",
       "      <th>title</th>\n",
       "      <th>description</th>\n",
       "      <th>time_post</th>\n",
       "      <th>base_text</th>\n",
       "      <th>keywords_text</th>\n",
       "    </tr>\n",
       "  </thead>\n",
       "  <tbody>\n",
       "    <tr>\n",
       "      <td>0</td>\n",
       "      <td>Пушков прокомментировал заявление Помпео о пос...</td>\n",
       "      <td>Российский сенатор Алексей Пушков оценил заявл...</td>\n",
       "      <td>1 февраля 2020 23:41</td>\n",
       "      <td>Российский сенатор Алексей Пушков оценил заявл...</td>\n",
       "      <td>[пайетт, нефть, россия, белоруссия, пушков, се...</td>\n",
       "    </tr>\n",
       "    <tr>\n",
       "      <td>1</td>\n",
       "      <td>Затулин рассказал о влюбленности Лукашенко</td>\n",
       "      <td>\"Это манипулирование\": так охарактеризовал пер...</td>\n",
       "      <td>1 февраля 2020 17:36</td>\n",
       "      <td>\"Это манипулирование\": так охарактеризовал пер...</td>\n",
       "      <td>[сша, госдепартамент, лукашенко, помпео, белор...</td>\n",
       "    </tr>\n",
       "    <tr>\n",
       "      <td>2</td>\n",
       "      <td>США готовы обеспечить Белоруссию нефтью, но са...</td>\n",
       "      <td>Америка как самый крупный энергопроизводитель ...</td>\n",
       "      <td>1 февраля 2020 14:22</td>\n",
       "      <td>Америка как самый крупный энергопроизводитель ...</td>\n",
       "      <td>[помпео, лукашенко, посол, нефть, энергоресурс...</td>\n",
       "    </tr>\n",
       "    <tr>\n",
       "      <td>3</td>\n",
       "      <td>Рабинович пригрозил свержением Зеленскому и \"с...</td>\n",
       "      <td>Продолжение курса на узаконивание продажи земл...</td>\n",
       "      <td>1 февраля 2020 12:27</td>\n",
       "      <td>Продолжение курса на узаконивание продажи земл...</td>\n",
       "      <td>[украина, земля, продажа, рабинович, за, жизнь...</td>\n",
       "    </tr>\n",
       "    <tr>\n",
       "      <td>4</td>\n",
       "      <td>Транспорт vs экология в Иране: денег на бензин...</td>\n",
       "      <td>После осеннего трехкратного повышения цен на б...</td>\n",
       "      <td>1 февраля 2020 12:10</td>\n",
       "      <td>Москва, 1 февраля - \"Вести.Экономика\". Иран не...</td>\n",
       "      <td>None</td>\n",
       "    </tr>\n",
       "  </tbody>\n",
       "</table>\n",
       "</div>"
      ],
      "text/plain": [
       "                                               title  \\\n",
       "0  Пушков прокомментировал заявление Помпео о пос...   \n",
       "1         Затулин рассказал о влюбленности Лукашенко   \n",
       "2  США готовы обеспечить Белоруссию нефтью, но са...   \n",
       "3  Рабинович пригрозил свержением Зеленскому и \"с...   \n",
       "4  Транспорт vs экология в Иране: денег на бензин...   \n",
       "\n",
       "                                         description             time_post  \\\n",
       "0  Российский сенатор Алексей Пушков оценил заявл...  1 февраля 2020 23:41   \n",
       "1  \"Это манипулирование\": так охарактеризовал пер...  1 февраля 2020 17:36   \n",
       "2  Америка как самый крупный энергопроизводитель ...  1 февраля 2020 14:22   \n",
       "3  Продолжение курса на узаконивание продажи земл...  1 февраля 2020 12:27   \n",
       "4  После осеннего трехкратного повышения цен на б...  1 февраля 2020 12:10   \n",
       "\n",
       "                                           base_text  \\\n",
       "0  Российский сенатор Алексей Пушков оценил заявл...   \n",
       "1  \"Это манипулирование\": так охарактеризовал пер...   \n",
       "2  Америка как самый крупный энергопроизводитель ...   \n",
       "3  Продолжение курса на узаконивание продажи земл...   \n",
       "4  Москва, 1 февраля - \"Вести.Экономика\". Иран не...   \n",
       "\n",
       "                                       keywords_text  \n",
       "0  [пайетт, нефть, россия, белоруссия, пушков, се...  \n",
       "1  [сша, госдепартамент, лукашенко, помпео, белор...  \n",
       "2  [помпео, лукашенко, посол, нефть, энергоресурс...  \n",
       "3  [украина, земля, продажа, рабинович, за, жизнь...  \n",
       "4                                               None  "
      ]
     },
     "execution_count": 288,
     "metadata": {},
     "output_type": "execute_result"
    }
   ],
   "source": [
    "final_df.head()\n"
   ]
  },
  {
   "cell_type": "code",
   "execution_count": 289,
   "metadata": {},
   "outputs": [
    {
     "data": {
      "text/plain": [
       "(1311, 5)"
      ]
     },
     "execution_count": 289,
     "metadata": {},
     "output_type": "execute_result"
    }
   ],
   "source": [
    "final_df.shape\n"
   ]
  },
  {
   "cell_type": "code",
   "execution_count": 292,
   "metadata": {},
   "outputs": [
    {
     "name": "stdout",
     "output_type": "stream",
     "text": [
      "<class 'pandas.core.frame.DataFrame'>\n",
      "RangeIndex: 1311 entries, 0 to 1310\n",
      "Data columns (total 5 columns):\n",
      "title            1311 non-null object\n",
      "description      1311 non-null object\n",
      "time_post        1311 non-null object\n",
      "base_text        1311 non-null object\n",
      "keywords_text    1181 non-null object\n",
      "dtypes: object(5)\n",
      "memory usage: 51.3+ KB\n"
     ]
    }
   ],
   "source": [
    "final_df.info()\n"
   ]
  },
  {
   "cell_type": "code",
   "execution_count": null,
   "metadata": {},
   "outputs": [],
   "source": []
  }
 ],
 "metadata": {
  "kernelspec": {
   "display_name": "Python 3",
   "language": "python",
   "name": "python3"
  },
  "language_info": {
   "codemirror_mode": {
    "name": "ipython",
    "version": 3
   },
   "file_extension": ".py",
   "mimetype": "text/x-python",
   "name": "python",
   "nbconvert_exporter": "python",
   "pygments_lexer": "ipython3",
   "version": "3.7.4"
  }
 },
 "nbformat": 4,
 "nbformat_minor": 2
}
