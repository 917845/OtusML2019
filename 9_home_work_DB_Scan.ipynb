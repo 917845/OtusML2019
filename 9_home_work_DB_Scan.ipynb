{
 "cells": [
  {
   "cell_type": "markdown",
   "metadata": {},
   "source": [
    "Построение различных вариантов кластеризаций и интерпретация результатов.\n",
    "\n",
    "Цель: Используя данный датасет https://archive.ics.uci.edu/ml/datasets/Individual+household+electric+power+consumption провести кластеризацию. \n",
    "\n",
    "Для точного определения числа k использовать сравнение метода k-means, иерархической кластеризации и DBSCAN. Построить диаграмму \"ящик с усами\" и оценить выбросы по переменным и кластерам."
   ]
  },
  {
   "cell_type": "code",
   "execution_count": 1,
   "metadata": {},
   "outputs": [],
   "source": [
    "import pandas as pd\n",
    "import numpy as np\n",
    "import matplotlib.pyplot as plt\n",
    "import seaborn as sns\n",
    "from matplotlib import ticker\n",
    "\n",
    "from sklearn.cluster import KMeans, DBSCAN\n",
    "from scipy.cluster import hierarchy\n",
    "from scipy.spatial.distance import pdist, cdist\n",
    "from sklearn.metrics import silhouette_score\n",
    "from sklearn.preprocessing import StandardScaler, normalize\n",
    "\n",
    "import scipy.spatial\n"
   ]
  },
  {
   "cell_type": "code",
   "execution_count": 2,
   "metadata": {},
   "outputs": [
    {
     "name": "stderr",
     "output_type": "stream",
     "text": [
      "/Users/oleg/opt/anaconda3/lib/python3.7/site-packages/IPython/core/interactiveshell.py:3058: DtypeWarning: Columns (2,3,4,5,6,7) have mixed types. Specify dtype option on import or set low_memory=False.\n",
      "  interactivity=interactivity, compiler=compiler, result=result)\n"
     ]
    },
    {
     "data": {
      "text/html": [
       "<div>\n",
       "<style scoped>\n",
       "    .dataframe tbody tr th:only-of-type {\n",
       "        vertical-align: middle;\n",
       "    }\n",
       "\n",
       "    .dataframe tbody tr th {\n",
       "        vertical-align: top;\n",
       "    }\n",
       "\n",
       "    .dataframe thead th {\n",
       "        text-align: right;\n",
       "    }\n",
       "</style>\n",
       "<table border=\"1\" class=\"dataframe\">\n",
       "  <thead>\n",
       "    <tr style=\"text-align: right;\">\n",
       "      <th></th>\n",
       "      <th>Date</th>\n",
       "      <th>Time</th>\n",
       "      <th>Global_active_power</th>\n",
       "      <th>Global_reactive_power</th>\n",
       "      <th>Voltage</th>\n",
       "      <th>Global_intensity</th>\n",
       "      <th>Sub_metering_1</th>\n",
       "      <th>Sub_metering_2</th>\n",
       "      <th>Sub_metering_3</th>\n",
       "    </tr>\n",
       "  </thead>\n",
       "  <tbody>\n",
       "    <tr>\n",
       "      <td>0</td>\n",
       "      <td>16/12/2006</td>\n",
       "      <td>17:24:00</td>\n",
       "      <td>4.216</td>\n",
       "      <td>0.418</td>\n",
       "      <td>234.840</td>\n",
       "      <td>18.400</td>\n",
       "      <td>0.000</td>\n",
       "      <td>1.000</td>\n",
       "      <td>17.0</td>\n",
       "    </tr>\n",
       "    <tr>\n",
       "      <td>1</td>\n",
       "      <td>16/12/2006</td>\n",
       "      <td>17:25:00</td>\n",
       "      <td>5.360</td>\n",
       "      <td>0.436</td>\n",
       "      <td>233.630</td>\n",
       "      <td>23.000</td>\n",
       "      <td>0.000</td>\n",
       "      <td>1.000</td>\n",
       "      <td>16.0</td>\n",
       "    </tr>\n",
       "    <tr>\n",
       "      <td>2</td>\n",
       "      <td>16/12/2006</td>\n",
       "      <td>17:26:00</td>\n",
       "      <td>5.374</td>\n",
       "      <td>0.498</td>\n",
       "      <td>233.290</td>\n",
       "      <td>23.000</td>\n",
       "      <td>0.000</td>\n",
       "      <td>2.000</td>\n",
       "      <td>17.0</td>\n",
       "    </tr>\n",
       "    <tr>\n",
       "      <td>3</td>\n",
       "      <td>16/12/2006</td>\n",
       "      <td>17:27:00</td>\n",
       "      <td>5.388</td>\n",
       "      <td>0.502</td>\n",
       "      <td>233.740</td>\n",
       "      <td>23.000</td>\n",
       "      <td>0.000</td>\n",
       "      <td>1.000</td>\n",
       "      <td>17.0</td>\n",
       "    </tr>\n",
       "    <tr>\n",
       "      <td>4</td>\n",
       "      <td>16/12/2006</td>\n",
       "      <td>17:28:00</td>\n",
       "      <td>3.666</td>\n",
       "      <td>0.528</td>\n",
       "      <td>235.680</td>\n",
       "      <td>15.800</td>\n",
       "      <td>0.000</td>\n",
       "      <td>1.000</td>\n",
       "      <td>17.0</td>\n",
       "    </tr>\n",
       "    <tr>\n",
       "      <td>...</td>\n",
       "      <td>...</td>\n",
       "      <td>...</td>\n",
       "      <td>...</td>\n",
       "      <td>...</td>\n",
       "      <td>...</td>\n",
       "      <td>...</td>\n",
       "      <td>...</td>\n",
       "      <td>...</td>\n",
       "      <td>...</td>\n",
       "    </tr>\n",
       "    <tr>\n",
       "      <td>2075254</td>\n",
       "      <td>26/11/2010</td>\n",
       "      <td>20:58:00</td>\n",
       "      <td>0.946</td>\n",
       "      <td>0</td>\n",
       "      <td>240.43</td>\n",
       "      <td>4</td>\n",
       "      <td>0</td>\n",
       "      <td>0</td>\n",
       "      <td>0.0</td>\n",
       "    </tr>\n",
       "    <tr>\n",
       "      <td>2075255</td>\n",
       "      <td>26/11/2010</td>\n",
       "      <td>20:59:00</td>\n",
       "      <td>0.944</td>\n",
       "      <td>0</td>\n",
       "      <td>240</td>\n",
       "      <td>4</td>\n",
       "      <td>0</td>\n",
       "      <td>0</td>\n",
       "      <td>0.0</td>\n",
       "    </tr>\n",
       "    <tr>\n",
       "      <td>2075256</td>\n",
       "      <td>26/11/2010</td>\n",
       "      <td>21:00:00</td>\n",
       "      <td>0.938</td>\n",
       "      <td>0</td>\n",
       "      <td>239.82</td>\n",
       "      <td>3.8</td>\n",
       "      <td>0</td>\n",
       "      <td>0</td>\n",
       "      <td>0.0</td>\n",
       "    </tr>\n",
       "    <tr>\n",
       "      <td>2075257</td>\n",
       "      <td>26/11/2010</td>\n",
       "      <td>21:01:00</td>\n",
       "      <td>0.934</td>\n",
       "      <td>0</td>\n",
       "      <td>239.7</td>\n",
       "      <td>3.8</td>\n",
       "      <td>0</td>\n",
       "      <td>0</td>\n",
       "      <td>0.0</td>\n",
       "    </tr>\n",
       "    <tr>\n",
       "      <td>2075258</td>\n",
       "      <td>26/11/2010</td>\n",
       "      <td>21:02:00</td>\n",
       "      <td>0.932</td>\n",
       "      <td>0</td>\n",
       "      <td>239.55</td>\n",
       "      <td>3.8</td>\n",
       "      <td>0</td>\n",
       "      <td>0</td>\n",
       "      <td>0.0</td>\n",
       "    </tr>\n",
       "  </tbody>\n",
       "</table>\n",
       "<p>2075259 rows × 9 columns</p>\n",
       "</div>"
      ],
      "text/plain": [
       "               Date      Time Global_active_power Global_reactive_power  \\\n",
       "0        16/12/2006  17:24:00               4.216                 0.418   \n",
       "1        16/12/2006  17:25:00               5.360                 0.436   \n",
       "2        16/12/2006  17:26:00               5.374                 0.498   \n",
       "3        16/12/2006  17:27:00               5.388                 0.502   \n",
       "4        16/12/2006  17:28:00               3.666                 0.528   \n",
       "...             ...       ...                 ...                   ...   \n",
       "2075254  26/11/2010  20:58:00               0.946                     0   \n",
       "2075255  26/11/2010  20:59:00               0.944                     0   \n",
       "2075256  26/11/2010  21:00:00               0.938                     0   \n",
       "2075257  26/11/2010  21:01:00               0.934                     0   \n",
       "2075258  26/11/2010  21:02:00               0.932                     0   \n",
       "\n",
       "         Voltage Global_intensity Sub_metering_1 Sub_metering_2  \\\n",
       "0        234.840           18.400          0.000          1.000   \n",
       "1        233.630           23.000          0.000          1.000   \n",
       "2        233.290           23.000          0.000          2.000   \n",
       "3        233.740           23.000          0.000          1.000   \n",
       "4        235.680           15.800          0.000          1.000   \n",
       "...          ...              ...            ...            ...   \n",
       "2075254   240.43                4              0              0   \n",
       "2075255      240                4              0              0   \n",
       "2075256   239.82              3.8              0              0   \n",
       "2075257    239.7              3.8              0              0   \n",
       "2075258   239.55              3.8              0              0   \n",
       "\n",
       "         Sub_metering_3  \n",
       "0                  17.0  \n",
       "1                  16.0  \n",
       "2                  17.0  \n",
       "3                  17.0  \n",
       "4                  17.0  \n",
       "...                 ...  \n",
       "2075254             0.0  \n",
       "2075255             0.0  \n",
       "2075256             0.0  \n",
       "2075257             0.0  \n",
       "2075258             0.0  \n",
       "\n",
       "[2075259 rows x 9 columns]"
      ]
     },
     "execution_count": 2,
     "metadata": {},
     "output_type": "execute_result"
    }
   ],
   "source": [
    "data = pd.read_csv('household_power_consumption.txt', sep = ';')\n",
    "data\n"
   ]
  },
  {
   "cell_type": "code",
   "execution_count": 3,
   "metadata": {},
   "outputs": [
    {
     "name": "stdout",
     "output_type": "stream",
     "text": [
      "<class 'pandas.core.frame.DataFrame'>\n",
      "RangeIndex: 2075259 entries, 0 to 2075258\n",
      "Data columns (total 9 columns):\n",
      "Date                     object\n",
      "Time                     object\n",
      "Global_active_power      object\n",
      "Global_reactive_power    object\n",
      "Voltage                  object\n",
      "Global_intensity         object\n",
      "Sub_metering_1           object\n",
      "Sub_metering_2           object\n",
      "Sub_metering_3           float64\n",
      "dtypes: float64(1), object(8)\n",
      "memory usage: 142.5+ MB\n"
     ]
    }
   ],
   "source": [
    "data.info()\n"
   ]
  },
  {
   "cell_type": "code",
   "execution_count": 4,
   "metadata": {},
   "outputs": [
    {
     "data": {
      "text/plain": [
       "Date                         0\n",
       "Time                         0\n",
       "Global_active_power          0\n",
       "Global_reactive_power        0\n",
       "Voltage                      0\n",
       "Global_intensity             0\n",
       "Sub_metering_1               0\n",
       "Sub_metering_2               0\n",
       "Sub_metering_3           25979\n",
       "dtype: int64"
      ]
     },
     "execution_count": 4,
     "metadata": {},
     "output_type": "execute_result"
    }
   ],
   "source": [
    "data.isnull().sum()\n"
   ]
  },
  {
   "cell_type": "code",
   "execution_count": 5,
   "metadata": {},
   "outputs": [
    {
     "data": {
      "text/plain": [
       "array([17., 16., 18.,  9.,  0.,  5., 19., 10., 20.,  8.,  4.,  2.,  3.,\n",
       "       11., 13.,  6., 15., nan, 12.,  1., 14.,  7., 23., 25., 26., 28.,\n",
       "       27., 21., 22., 29., 24., 30., 31.])"
      ]
     },
     "execution_count": 5,
     "metadata": {},
     "output_type": "execute_result"
    }
   ],
   "source": [
    "data['Sub_metering_3'].unique()\n"
   ]
  },
  {
   "cell_type": "code",
   "execution_count": 6,
   "metadata": {},
   "outputs": [
    {
     "data": {
      "text/plain": [
       "0.0     852092\n",
       "1.0     471868\n",
       "18.0    353163\n",
       "17.0    156593\n",
       "19.0    121326\n",
       "12.0     16726\n",
       "16.0     15831\n",
       "11.0     11282\n",
       "29.0      6931\n",
       "13.0      5339\n",
       "20.0      4670\n",
       "28.0      4364\n",
       "10.0      3309\n",
       "30.0      3119\n",
       "9.0       2011\n",
       "6.0       1993\n",
       "2.0       1970\n",
       "7.0       1954\n",
       "3.0       1935\n",
       "8.0       1922\n",
       "4.0       1913\n",
       "5.0       1899\n",
       "27.0      1337\n",
       "26.0       771\n",
       "21.0       726\n",
       "23.0       714\n",
       "22.0       700\n",
       "25.0       689\n",
       "24.0       664\n",
       "15.0       653\n",
       "14.0       538\n",
       "31.0       278\n",
       "Name: Sub_metering_3, dtype: int64"
      ]
     },
     "execution_count": 6,
     "metadata": {},
     "output_type": "execute_result"
    }
   ],
   "source": [
    "data['Sub_metering_3'].value_counts()\n"
   ]
  },
  {
   "cell_type": "code",
   "execution_count": 7,
   "metadata": {},
   "outputs": [
    {
     "data": {
      "text/plain": [
       "['Date',\n",
       " 'Time',\n",
       " 'Global_active_power',\n",
       " 'Global_reactive_power',\n",
       " 'Voltage',\n",
       " 'Global_intensity',\n",
       " 'Sub_metering_1',\n",
       " 'Sub_metering_2',\n",
       " 'Sub_metering_3']"
      ]
     },
     "execution_count": 7,
     "metadata": {},
     "output_type": "execute_result"
    }
   ],
   "source": [
    "data.columns.tolist()\n"
   ]
  },
  {
   "cell_type": "code",
   "execution_count": 8,
   "metadata": {},
   "outputs": [],
   "source": [
    "features = ['Global_active_power',\n",
    "            'Global_reactive_power',\n",
    "            'Voltage',\n",
    "            'Global_intensity',\n",
    "            'Sub_metering_1',\n",
    "            'Sub_metering_2',\n",
    "            'Sub_metering_3'\n",
    "           ]\n"
   ]
  },
  {
   "cell_type": "code",
   "execution_count": 9,
   "metadata": {},
   "outputs": [
    {
     "data": {
      "text/html": [
       "<div>\n",
       "<style scoped>\n",
       "    .dataframe tbody tr th:only-of-type {\n",
       "        vertical-align: middle;\n",
       "    }\n",
       "\n",
       "    .dataframe tbody tr th {\n",
       "        vertical-align: top;\n",
       "    }\n",
       "\n",
       "    .dataframe thead th {\n",
       "        text-align: right;\n",
       "    }\n",
       "</style>\n",
       "<table border=\"1\" class=\"dataframe\">\n",
       "  <thead>\n",
       "    <tr style=\"text-align: right;\">\n",
       "      <th></th>\n",
       "      <th>Date</th>\n",
       "      <th>Time</th>\n",
       "      <th>Global_active_power</th>\n",
       "      <th>Global_reactive_power</th>\n",
       "      <th>Voltage</th>\n",
       "      <th>Global_intensity</th>\n",
       "      <th>Sub_metering_1</th>\n",
       "      <th>Sub_metering_2</th>\n",
       "      <th>Sub_metering_3</th>\n",
       "    </tr>\n",
       "  </thead>\n",
       "  <tbody>\n",
       "    <tr>\n",
       "      <td>6839</td>\n",
       "      <td>21/12/2006</td>\n",
       "      <td>11:23:00</td>\n",
       "      <td>?</td>\n",
       "      <td>?</td>\n",
       "      <td>?</td>\n",
       "      <td>?</td>\n",
       "      <td>?</td>\n",
       "      <td>?</td>\n",
       "      <td>NaN</td>\n",
       "    </tr>\n",
       "    <tr>\n",
       "      <td>6840</td>\n",
       "      <td>21/12/2006</td>\n",
       "      <td>11:24:00</td>\n",
       "      <td>?</td>\n",
       "      <td>?</td>\n",
       "      <td>?</td>\n",
       "      <td>?</td>\n",
       "      <td>?</td>\n",
       "      <td>?</td>\n",
       "      <td>NaN</td>\n",
       "    </tr>\n",
       "    <tr>\n",
       "      <td>19724</td>\n",
       "      <td>30/12/2006</td>\n",
       "      <td>10:08:00</td>\n",
       "      <td>?</td>\n",
       "      <td>?</td>\n",
       "      <td>?</td>\n",
       "      <td>?</td>\n",
       "      <td>?</td>\n",
       "      <td>?</td>\n",
       "      <td>NaN</td>\n",
       "    </tr>\n",
       "    <tr>\n",
       "      <td>19725</td>\n",
       "      <td>30/12/2006</td>\n",
       "      <td>10:09:00</td>\n",
       "      <td>?</td>\n",
       "      <td>?</td>\n",
       "      <td>?</td>\n",
       "      <td>?</td>\n",
       "      <td>?</td>\n",
       "      <td>?</td>\n",
       "      <td>NaN</td>\n",
       "    </tr>\n",
       "    <tr>\n",
       "      <td>41832</td>\n",
       "      <td>14/1/2007</td>\n",
       "      <td>18:36:00</td>\n",
       "      <td>?</td>\n",
       "      <td>?</td>\n",
       "      <td>?</td>\n",
       "      <td>?</td>\n",
       "      <td>?</td>\n",
       "      <td>?</td>\n",
       "      <td>NaN</td>\n",
       "    </tr>\n",
       "    <tr>\n",
       "      <td>...</td>\n",
       "      <td>...</td>\n",
       "      <td>...</td>\n",
       "      <td>...</td>\n",
       "      <td>...</td>\n",
       "      <td>...</td>\n",
       "      <td>...</td>\n",
       "      <td>...</td>\n",
       "      <td>...</td>\n",
       "      <td>...</td>\n",
       "    </tr>\n",
       "    <tr>\n",
       "      <td>1990185</td>\n",
       "      <td>28/9/2010</td>\n",
       "      <td>19:09:00</td>\n",
       "      <td>?</td>\n",
       "      <td>?</td>\n",
       "      <td>?</td>\n",
       "      <td>?</td>\n",
       "      <td>?</td>\n",
       "      <td>?</td>\n",
       "      <td>NaN</td>\n",
       "    </tr>\n",
       "    <tr>\n",
       "      <td>1990186</td>\n",
       "      <td>28/9/2010</td>\n",
       "      <td>19:10:00</td>\n",
       "      <td>?</td>\n",
       "      <td>?</td>\n",
       "      <td>?</td>\n",
       "      <td>?</td>\n",
       "      <td>?</td>\n",
       "      <td>?</td>\n",
       "      <td>NaN</td>\n",
       "    </tr>\n",
       "    <tr>\n",
       "      <td>1990187</td>\n",
       "      <td>28/9/2010</td>\n",
       "      <td>19:11:00</td>\n",
       "      <td>?</td>\n",
       "      <td>?</td>\n",
       "      <td>?</td>\n",
       "      <td>?</td>\n",
       "      <td>?</td>\n",
       "      <td>?</td>\n",
       "      <td>NaN</td>\n",
       "    </tr>\n",
       "    <tr>\n",
       "      <td>1990188</td>\n",
       "      <td>28/9/2010</td>\n",
       "      <td>19:12:00</td>\n",
       "      <td>?</td>\n",
       "      <td>?</td>\n",
       "      <td>?</td>\n",
       "      <td>?</td>\n",
       "      <td>?</td>\n",
       "      <td>?</td>\n",
       "      <td>NaN</td>\n",
       "    </tr>\n",
       "    <tr>\n",
       "      <td>2027411</td>\n",
       "      <td>24/10/2010</td>\n",
       "      <td>15:35:00</td>\n",
       "      <td>?</td>\n",
       "      <td>?</td>\n",
       "      <td>?</td>\n",
       "      <td>?</td>\n",
       "      <td>?</td>\n",
       "      <td>?</td>\n",
       "      <td>NaN</td>\n",
       "    </tr>\n",
       "  </tbody>\n",
       "</table>\n",
       "<p>25979 rows × 9 columns</p>\n",
       "</div>"
      ],
      "text/plain": [
       "               Date      Time Global_active_power Global_reactive_power  \\\n",
       "6839     21/12/2006  11:23:00                   ?                     ?   \n",
       "6840     21/12/2006  11:24:00                   ?                     ?   \n",
       "19724    30/12/2006  10:08:00                   ?                     ?   \n",
       "19725    30/12/2006  10:09:00                   ?                     ?   \n",
       "41832     14/1/2007  18:36:00                   ?                     ?   \n",
       "...             ...       ...                 ...                   ...   \n",
       "1990185   28/9/2010  19:09:00                   ?                     ?   \n",
       "1990186   28/9/2010  19:10:00                   ?                     ?   \n",
       "1990187   28/9/2010  19:11:00                   ?                     ?   \n",
       "1990188   28/9/2010  19:12:00                   ?                     ?   \n",
       "2027411  24/10/2010  15:35:00                   ?                     ?   \n",
       "\n",
       "        Voltage Global_intensity Sub_metering_1 Sub_metering_2  Sub_metering_3  \n",
       "6839          ?                ?              ?              ?             NaN  \n",
       "6840          ?                ?              ?              ?             NaN  \n",
       "19724         ?                ?              ?              ?             NaN  \n",
       "19725         ?                ?              ?              ?             NaN  \n",
       "41832         ?                ?              ?              ?             NaN  \n",
       "...         ...              ...            ...            ...             ...  \n",
       "1990185       ?                ?              ?              ?             NaN  \n",
       "1990186       ?                ?              ?              ?             NaN  \n",
       "1990187       ?                ?              ?              ?             NaN  \n",
       "1990188       ?                ?              ?              ?             NaN  \n",
       "2027411       ?                ?              ?              ?             NaN  \n",
       "\n",
       "[25979 rows x 9 columns]"
      ]
     },
     "execution_count": 9,
     "metadata": {},
     "output_type": "execute_result"
    }
   ],
   "source": [
    "data[data['Global_active_power'] == '?']\n"
   ]
  },
  {
   "cell_type": "code",
   "execution_count": 10,
   "metadata": {},
   "outputs": [],
   "source": [
    "df = data.dropna()\n"
   ]
  },
  {
   "cell_type": "code",
   "execution_count": 11,
   "metadata": {},
   "outputs": [
    {
     "name": "stderr",
     "output_type": "stream",
     "text": [
      "/Users/oleg/opt/anaconda3/lib/python3.7/site-packages/ipykernel_launcher.py:2: SettingWithCopyWarning: \n",
      "A value is trying to be set on a copy of a slice from a DataFrame.\n",
      "Try using .loc[row_indexer,col_indexer] = value instead\n",
      "\n",
      "See the caveats in the documentation: http://pandas.pydata.org/pandas-docs/stable/user_guide/indexing.html#returning-a-view-versus-a-copy\n",
      "  \n"
     ]
    }
   ],
   "source": [
    "for i in features:\n",
    "    df[i] = df[i].astype('float32')\n",
    "    "
   ]
  },
  {
   "cell_type": "code",
   "execution_count": 12,
   "metadata": {},
   "outputs": [
    {
     "name": "stdout",
     "output_type": "stream",
     "text": [
      "<class 'pandas.core.frame.DataFrame'>\n",
      "Int64Index: 2049280 entries, 0 to 2075258\n",
      "Data columns (total 9 columns):\n",
      "Date                     object\n",
      "Time                     object\n",
      "Global_active_power      float32\n",
      "Global_reactive_power    float32\n",
      "Voltage                  float32\n",
      "Global_intensity         float32\n",
      "Sub_metering_1           float32\n",
      "Sub_metering_2           float32\n",
      "Sub_metering_3           float32\n",
      "dtypes: float32(7), object(2)\n",
      "memory usage: 101.6+ MB\n"
     ]
    }
   ],
   "source": [
    "df.info()\n"
   ]
  },
  {
   "cell_type": "code",
   "execution_count": 13,
   "metadata": {},
   "outputs": [
    {
     "data": {
      "text/html": [
       "<div>\n",
       "<style scoped>\n",
       "    .dataframe tbody tr th:only-of-type {\n",
       "        vertical-align: middle;\n",
       "    }\n",
       "\n",
       "    .dataframe tbody tr th {\n",
       "        vertical-align: top;\n",
       "    }\n",
       "\n",
       "    .dataframe thead th {\n",
       "        text-align: right;\n",
       "    }\n",
       "</style>\n",
       "<table border=\"1\" class=\"dataframe\">\n",
       "  <thead>\n",
       "    <tr style=\"text-align: right;\">\n",
       "      <th></th>\n",
       "      <th>Global_active_power</th>\n",
       "      <th>Global_reactive_power</th>\n",
       "      <th>Voltage</th>\n",
       "      <th>Global_intensity</th>\n",
       "      <th>Sub_metering_1</th>\n",
       "      <th>Sub_metering_2</th>\n",
       "      <th>Sub_metering_3</th>\n",
       "    </tr>\n",
       "  </thead>\n",
       "  <tbody>\n",
       "    <tr>\n",
       "      <td>count</td>\n",
       "      <td>2.049280e+06</td>\n",
       "      <td>2.049280e+06</td>\n",
       "      <td>2.049280e+06</td>\n",
       "      <td>2.049280e+06</td>\n",
       "      <td>2.049280e+06</td>\n",
       "      <td>2.049280e+06</td>\n",
       "      <td>2.049280e+06</td>\n",
       "    </tr>\n",
       "    <tr>\n",
       "      <td>mean</td>\n",
       "      <td>1.091631e+00</td>\n",
       "      <td>1.237042e-01</td>\n",
       "      <td>2.433813e+02</td>\n",
       "      <td>4.629239e+00</td>\n",
       "      <td>1.121923e+00</td>\n",
       "      <td>1.298520e+00</td>\n",
       "      <td>6.458447e+00</td>\n",
       "    </tr>\n",
       "    <tr>\n",
       "      <td>std</td>\n",
       "      <td>1.057005e+00</td>\n",
       "      <td>1.128308e-01</td>\n",
       "      <td>4.114049e+00</td>\n",
       "      <td>4.440444e+00</td>\n",
       "      <td>6.104221e+00</td>\n",
       "      <td>5.758089e+00</td>\n",
       "      <td>8.458705e+00</td>\n",
       "    </tr>\n",
       "    <tr>\n",
       "      <td>min</td>\n",
       "      <td>7.600000e-02</td>\n",
       "      <td>0.000000e+00</td>\n",
       "      <td>2.232000e+02</td>\n",
       "      <td>2.000000e-01</td>\n",
       "      <td>0.000000e+00</td>\n",
       "      <td>0.000000e+00</td>\n",
       "      <td>0.000000e+00</td>\n",
       "    </tr>\n",
       "    <tr>\n",
       "      <td>25%</td>\n",
       "      <td>3.080000e-01</td>\n",
       "      <td>4.800000e-02</td>\n",
       "      <td>2.389900e+02</td>\n",
       "      <td>1.400000e+00</td>\n",
       "      <td>0.000000e+00</td>\n",
       "      <td>0.000000e+00</td>\n",
       "      <td>0.000000e+00</td>\n",
       "    </tr>\n",
       "    <tr>\n",
       "      <td>50%</td>\n",
       "      <td>6.020000e-01</td>\n",
       "      <td>1.000000e-01</td>\n",
       "      <td>2.410100e+02</td>\n",
       "      <td>2.600000e+00</td>\n",
       "      <td>0.000000e+00</td>\n",
       "      <td>0.000000e+00</td>\n",
       "      <td>1.000000e+00</td>\n",
       "    </tr>\n",
       "    <tr>\n",
       "      <td>75%</td>\n",
       "      <td>1.528000e+00</td>\n",
       "      <td>1.940000e-01</td>\n",
       "      <td>2.428900e+02</td>\n",
       "      <td>6.400000e+00</td>\n",
       "      <td>0.000000e+00</td>\n",
       "      <td>1.000000e+00</td>\n",
       "      <td>1.700000e+01</td>\n",
       "    </tr>\n",
       "    <tr>\n",
       "      <td>max</td>\n",
       "      <td>1.112200e+01</td>\n",
       "      <td>1.390000e+00</td>\n",
       "      <td>2.541500e+02</td>\n",
       "      <td>4.840000e+01</td>\n",
       "      <td>8.800000e+01</td>\n",
       "      <td>8.000000e+01</td>\n",
       "      <td>3.100000e+01</td>\n",
       "    </tr>\n",
       "  </tbody>\n",
       "</table>\n",
       "</div>"
      ],
      "text/plain": [
       "       Global_active_power  Global_reactive_power       Voltage  \\\n",
       "count         2.049280e+06           2.049280e+06  2.049280e+06   \n",
       "mean          1.091631e+00           1.237042e-01  2.433813e+02   \n",
       "std           1.057005e+00           1.128308e-01  4.114049e+00   \n",
       "min           7.600000e-02           0.000000e+00  2.232000e+02   \n",
       "25%           3.080000e-01           4.800000e-02  2.389900e+02   \n",
       "50%           6.020000e-01           1.000000e-01  2.410100e+02   \n",
       "75%           1.528000e+00           1.940000e-01  2.428900e+02   \n",
       "max           1.112200e+01           1.390000e+00  2.541500e+02   \n",
       "\n",
       "       Global_intensity  Sub_metering_1  Sub_metering_2  Sub_metering_3  \n",
       "count      2.049280e+06    2.049280e+06    2.049280e+06    2.049280e+06  \n",
       "mean       4.629239e+00    1.121923e+00    1.298520e+00    6.458447e+00  \n",
       "std        4.440444e+00    6.104221e+00    5.758089e+00    8.458705e+00  \n",
       "min        2.000000e-01    0.000000e+00    0.000000e+00    0.000000e+00  \n",
       "25%        1.400000e+00    0.000000e+00    0.000000e+00    0.000000e+00  \n",
       "50%        2.600000e+00    0.000000e+00    0.000000e+00    1.000000e+00  \n",
       "75%        6.400000e+00    0.000000e+00    1.000000e+00    1.700000e+01  \n",
       "max        4.840000e+01    8.800000e+01    8.000000e+01    3.100000e+01  "
      ]
     },
     "execution_count": 13,
     "metadata": {},
     "output_type": "execute_result"
    }
   ],
   "source": [
    "df.describe()\n"
   ]
  },
  {
   "cell_type": "code",
   "execution_count": 14,
   "metadata": {},
   "outputs": [
    {
     "data": {
      "image/png": "[encoded data removed]",
      "text/plain": [
       "<Figure size 1080x1440 with 8 Axes>"
      ]
     },
     "metadata": {
      "needs_background": "light"
     },
     "output_type": "display_data"
    }
   ],
   "source": [
    "fig, axes = plt.subplots(nrows = 4, ncols = 2, figsize = (15, 20))\n",
    "\n",
    "for idx, feat in enumerate(features):\n",
    "    sns.boxplot(df[feat], ax = axes[idx // 2, idx % 2])\n",
    "    axes[idx // 2, idx % 2].set_xlabel('Value')\n",
    "    axes[idx // 2, idx % 2].set_ylabel(feat);\n",
    "    plt.subplots_adjust(wspace = 0.5, hspace = 0.5)\n"
   ]
  },
  {
   "cell_type": "code",
   "execution_count": 15,
   "metadata": {},
   "outputs": [
    {
     "data": {
      "image/png": "[encoded data removed]",
      "text/plain": [
       "<Figure size 960x800 with 2 Axes>"
      ]
     },
     "metadata": {
      "needs_background": "light"
     },
     "output_type": "display_data"
    }
   ],
   "source": [
    "Corr = df.corr()\n",
    "\n",
    "plt.figure(figsize=(12,10), dpi= 80)\n",
    "sns.heatmap(Corr, xticklabels = Corr.columns, yticklabels = Corr.columns, cmap = 'RdYlGn',\n",
    "            center = 0, annot = True)\n",
    "\n",
    "plt.title('Correlogram', fontsize = 22)\n",
    "plt.xticks(fontsize=12)\n",
    "plt.yticks(fontsize=10)\n",
    "plt.axis('equal')\n",
    "plt.show()\n"
   ]
  },
  {
   "cell_type": "code",
   "execution_count": 16,
   "metadata": {},
   "outputs": [
    {
     "name": "stdout",
     "output_type": "stream",
     "text": [
      "Global_active_power --> Global_intensity : R = 0.9988886002078592\n"
     ]
    }
   ],
   "source": [
    "CorField = []\n",
    "CorPairs = []\n",
    "CorrDel = []\n",
    "\n",
    "for i in Corr:\n",
    "    for j in Corr.index[Corr[i] > 0.80]:\n",
    "        if i != j and j not in CorField and i not in CorField:\n",
    "            CorField.append(j)\n",
    "            CorPairs.append([i, j, Corr[i][Corr.index == j].values[0]])\n",
    "            CorrDel.append(i)\n",
    "            print (i, '-->', j, ': R =', Corr[i][Corr.index == j].values[0])\n"
   ]
  },
  {
   "cell_type": "markdown",
   "metadata": {},
   "source": [
    "# Обработка данных"
   ]
  },
  {
   "cell_type": "markdown",
   "metadata": {},
   "source": [
    "Удалим коррелирующие признаки:"
   ]
  },
  {
   "cell_type": "code",
   "execution_count": 17,
   "metadata": {},
   "outputs": [
    {
     "data": {
      "text/plain": [
       "['Global_active_power']"
      ]
     },
     "execution_count": 17,
     "metadata": {},
     "output_type": "execute_result"
    }
   ],
   "source": [
    "CorrDel"
   ]
  },
  {
   "cell_type": "code",
   "execution_count": 18,
   "metadata": {},
   "outputs": [],
   "source": [
    "features_no_corr = ['Global_reactive_power',\n",
    "            'Voltage',\n",
    "            'Global_intensity',\n",
    "            'Sub_metering_1',\n",
    "            'Sub_metering_2',\n",
    "            'Sub_metering_3'\n",
    "           ]\n"
   ]
  },
  {
   "cell_type": "markdown",
   "metadata": {},
   "source": [
    "Для ускорения обучения сократим данные до 20000 объектов"
   ]
  },
  {
   "cell_type": "code",
   "execution_count": 19,
   "metadata": {},
   "outputs": [
    {
     "data": {
      "text/html": [
       "<div>\n",
       "<style scoped>\n",
       "    .dataframe tbody tr th:only-of-type {\n",
       "        vertical-align: middle;\n",
       "    }\n",
       "\n",
       "    .dataframe tbody tr th {\n",
       "        vertical-align: top;\n",
       "    }\n",
       "\n",
       "    .dataframe thead th {\n",
       "        text-align: right;\n",
       "    }\n",
       "</style>\n",
       "<table border=\"1\" class=\"dataframe\">\n",
       "  <thead>\n",
       "    <tr style=\"text-align: right;\">\n",
       "      <th></th>\n",
       "      <th>Global_reactive_power</th>\n",
       "      <th>Voltage</th>\n",
       "      <th>Global_intensity</th>\n",
       "      <th>Sub_metering_1</th>\n",
       "      <th>Sub_metering_2</th>\n",
       "      <th>Sub_metering_3</th>\n",
       "    </tr>\n",
       "  </thead>\n",
       "  <tbody>\n",
       "    <tr>\n",
       "      <td>0</td>\n",
       "      <td>0.183394</td>\n",
       "      <td>-0.470326</td>\n",
       "      <td>0.824707</td>\n",
       "      <td>-0.056748</td>\n",
       "      <td>-0.068410</td>\n",
       "      <td>-0.238994</td>\n",
       "    </tr>\n",
       "    <tr>\n",
       "      <td>1</td>\n",
       "      <td>-0.544066</td>\n",
       "      <td>-0.388854</td>\n",
       "      <td>-0.308895</td>\n",
       "      <td>-0.150511</td>\n",
       "      <td>-0.181441</td>\n",
       "      <td>-0.633872</td>\n",
       "    </tr>\n",
       "    <tr>\n",
       "      <td>2</td>\n",
       "      <td>0.434771</td>\n",
       "      <td>-0.378181</td>\n",
       "      <td>0.195309</td>\n",
       "      <td>-0.108899</td>\n",
       "      <td>-0.030709</td>\n",
       "      <td>0.785497</td>\n",
       "    </tr>\n",
       "    <tr>\n",
       "      <td>3</td>\n",
       "      <td>-0.190631</td>\n",
       "      <td>-0.156740</td>\n",
       "      <td>-0.743526</td>\n",
       "      <td>-0.166862</td>\n",
       "      <td>-0.047054</td>\n",
       "      <td>-0.596828</td>\n",
       "    </tr>\n",
       "    <tr>\n",
       "      <td>4</td>\n",
       "      <td>-0.567315</td>\n",
       "      <td>0.136470</td>\n",
       "      <td>0.454412</td>\n",
       "      <td>-0.180711</td>\n",
       "      <td>-0.050959</td>\n",
       "      <td>-0.646363</td>\n",
       "    </tr>\n",
       "    <tr>\n",
       "      <td>...</td>\n",
       "      <td>...</td>\n",
       "      <td>...</td>\n",
       "      <td>...</td>\n",
       "      <td>...</td>\n",
       "      <td>...</td>\n",
       "      <td>...</td>\n",
       "    </tr>\n",
       "    <tr>\n",
       "      <td>19995</td>\n",
       "      <td>-0.676058</td>\n",
       "      <td>0.128894</td>\n",
       "      <td>-0.510851</td>\n",
       "      <td>-0.114645</td>\n",
       "      <td>-0.138205</td>\n",
       "      <td>-0.482824</td>\n",
       "    </tr>\n",
       "    <tr>\n",
       "      <td>19996</td>\n",
       "      <td>-0.442449</td>\n",
       "      <td>-0.209677</td>\n",
       "      <td>-0.577753</td>\n",
       "      <td>-0.145339</td>\n",
       "      <td>-0.175207</td>\n",
       "      <td>-0.612091</td>\n",
       "    </tr>\n",
       "    <tr>\n",
       "      <td>19997</td>\n",
       "      <td>0.317952</td>\n",
       "      <td>-0.552637</td>\n",
       "      <td>0.509132</td>\n",
       "      <td>-0.128674</td>\n",
       "      <td>-0.155117</td>\n",
       "      <td>-0.541908</td>\n",
       "    </tr>\n",
       "    <tr>\n",
       "      <td>19998</td>\n",
       "      <td>-0.416235</td>\n",
       "      <td>0.392293</td>\n",
       "      <td>-0.543522</td>\n",
       "      <td>-0.136728</td>\n",
       "      <td>-0.164826</td>\n",
       "      <td>-0.575826</td>\n",
       "    </tr>\n",
       "    <tr>\n",
       "      <td>19999</td>\n",
       "      <td>0.236974</td>\n",
       "      <td>-0.773761</td>\n",
       "      <td>0.434593</td>\n",
       "      <td>-0.059356</td>\n",
       "      <td>-0.016738</td>\n",
       "      <td>0.390466</td>\n",
       "    </tr>\n",
       "  </tbody>\n",
       "</table>\n",
       "<p>20000 rows × 6 columns</p>\n",
       "</div>"
      ],
      "text/plain": [
       "       Global_reactive_power   Voltage  Global_intensity  Sub_metering_1  \\\n",
       "0                   0.183394 -0.470326          0.824707       -0.056748   \n",
       "1                  -0.544066 -0.388854         -0.308895       -0.150511   \n",
       "2                   0.434771 -0.378181          0.195309       -0.108899   \n",
       "3                  -0.190631 -0.156740         -0.743526       -0.166862   \n",
       "4                  -0.567315  0.136470          0.454412       -0.180711   \n",
       "...                      ...       ...               ...             ...   \n",
       "19995              -0.676058  0.128894         -0.510851       -0.114645   \n",
       "19996              -0.442449 -0.209677         -0.577753       -0.145339   \n",
       "19997               0.317952 -0.552637          0.509132       -0.128674   \n",
       "19998              -0.416235  0.392293         -0.543522       -0.136728   \n",
       "19999               0.236974 -0.773761          0.434593       -0.059356   \n",
       "\n",
       "       Sub_metering_2  Sub_metering_3  \n",
       "0           -0.068410       -0.238994  \n",
       "1           -0.181441       -0.633872  \n",
       "2           -0.030709        0.785497  \n",
       "3           -0.047054       -0.596828  \n",
       "4           -0.050959       -0.646363  \n",
       "...               ...             ...  \n",
       "19995       -0.138205       -0.482824  \n",
       "19996       -0.175207       -0.612091  \n",
       "19997       -0.155117       -0.541908  \n",
       "19998       -0.164826       -0.575826  \n",
       "19999       -0.016738        0.390466  \n",
       "\n",
       "[20000 rows x 6 columns]"
      ]
     },
     "execution_count": 19,
     "metadata": {},
     "output_type": "execute_result"
    }
   ],
   "source": [
    "df_1 = df[features_no_corr].sample(n = 20000)\n",
    "scaler = StandardScaler() \n",
    "scaled_df = scaler.fit_transform(df_1)\n",
    "normalized = normalize(scaled_df)\n",
    "normalized_df = pd.DataFrame(normalized, columns = features_no_corr)\n",
    "normalized_df\n"
   ]
  },
  {
   "cell_type": "code",
   "execution_count": 20,
   "metadata": {},
   "outputs": [
    {
     "data": {
      "image/png": "[encoded data removed]",
      "text/plain": [
       "<Figure size 432x288 with 1 Axes>"
      ]
     },
     "metadata": {
      "needs_background": "light"
     },
     "output_type": "display_data"
    }
   ],
   "source": [
    "sns.boxplot(data = normalized_df, orient = \"h\", palette = \"Set2\");\n"
   ]
  },
  {
   "cell_type": "code",
   "execution_count": 21,
   "metadata": {},
   "outputs": [],
   "source": [
    "# Видим большие выбросы у признаков \"Sub_metering_1\" и \"Sub_metering_2\"\n"
   ]
  },
  {
   "cell_type": "markdown",
   "metadata": {},
   "source": [
    "# ML"
   ]
  },
  {
   "cell_type": "markdown",
   "metadata": {},
   "source": [
    "# 1. Без работы с выбросами"
   ]
  },
  {
   "cell_type": "markdown",
   "metadata": {},
   "source": [
    "## Hierarchy"
   ]
  },
  {
   "cell_type": "code",
   "execution_count": 22,
   "metadata": {},
   "outputs": [
    {
     "name": "stdout",
     "output_type": "stream",
     "text": [
      "CPU times: user 16.9 s, sys: 1.09 s, total: 18 s\n",
      "Wall time: 18 s\n"
     ]
    }
   ],
   "source": [
    "%%time\n",
    "distance_mat = pdist(normalized_df) \n",
    "Z = hierarchy.linkage(distance_mat, 'ward')\n"
   ]
  },
  {
   "cell_type": "code",
   "execution_count": 23,
   "metadata": {},
   "outputs": [
    {
     "data": {
      "image/png": "[encoded data removed]",
      "text/plain": [
       "<Figure size 1440x720 with 1 Axes>"
      ]
     },
     "metadata": {
      "needs_background": "light"
     },
     "output_type": "display_data"
    }
   ],
   "source": [
    "plt.figure(figsize=(20, 10))\n",
    "dn = hierarchy.dendrogram(Z, truncate_mode = 'lastp', p = 12, \n",
    "                          leaf_font_size = 8., leaf_rotation = 90.)\n"
   ]
  },
  {
   "cell_type": "code",
   "execution_count": 24,
   "metadata": {},
   "outputs": [
    {
     "data": {
      "image/png": "[encoded data removed]",
      "text/plain": [
       "<Figure size 432x288 with 1 Axes>"
      ]
     },
     "metadata": {
      "needs_background": "light"
     },
     "output_type": "display_data"
    },
    {
     "name": "stdout",
     "output_type": "stream",
     "text": [
      "clusters: 2\n"
     ]
    }
   ],
   "source": [
    "from scipy.cluster.hierarchy import inconsistent\n",
    "\n",
    "depth = 5\n",
    "incons = inconsistent(Z, depth)\n",
    "\n",
    "last = Z[-10:, 2]\n",
    "last_rev = last[::-1]\n",
    "idxs = np.arange(1, len(last) + 1)\n",
    "plt.plot(idxs, last_rev)\n",
    "\n",
    "acceleration = np.diff(last, 2)  # 2nd derivative of the distances\n",
    "acceleration_rev = acceleration[::-1]\n",
    "plt.plot(idxs[:-2] + 1, acceleration_rev)\n",
    "plt.show()\n",
    "k = acceleration_rev.argmax() + 2  # if idx 0 is the max of this we want 2 clusters\n",
    "print(\"clusters:\", k)\n"
   ]
  },
  {
   "cell_type": "markdown",
   "metadata": {},
   "source": [
    "## K-Means"
   ]
  },
  {
   "cell_type": "code",
   "execution_count": 25,
   "metadata": {},
   "outputs": [
    {
     "data": {
      "image/png": "[encoded data removed]",
      "text/plain": [
       "<Figure size 720x432 with 1 Axes>"
      ]
     },
     "metadata": {
      "needs_background": "light"
     },
     "output_type": "display_data"
    }
   ],
   "source": [
    "inertia = []\n",
    "k = range(1, 15)\n",
    "for k_i in k:\n",
    "    km = KMeans(n_clusters = k_i).fit(normalized_df)\n",
    "    inertia.append(km.inertia_)\n",
    "    \n",
    "m = int(max(inertia) / len(k))\n",
    "\n",
    "fig, ax = plt.subplots()\n",
    "ax.plot(k, inertia, color = 'r', linewidth = 3)\n",
    "ax.xaxis.set_major_locator(ticker.MultipleLocator(1))\n",
    "ax.yaxis.set_major_locator(ticker.MultipleLocator(m))\n",
    "ax.grid(which='major', color = 'k')\n",
    "fig.set_figwidth(10)\n",
    "fig.set_figheight(6)\n",
    "plt.xlabel('k')\n",
    "plt.ylabel('silhouettes')\n",
    "plt.title('The Elbow Method showing the optimal k');\n",
    "plt.show();\n"
   ]
  },
  {
   "cell_type": "code",
   "execution_count": 61,
   "metadata": {},
   "outputs": [],
   "source": [
    "# Перегиб где-то в районе k = 2,3,4, Наверно бОльший перелом виден в k = 2\n"
   ]
  },
  {
   "cell_type": "code",
   "execution_count": 27,
   "metadata": {},
   "outputs": [
    {
     "name": "stdout",
     "output_type": "stream",
     "text": [
      "[0.40523222, 0.36382186, 0.3533663, 0.32725614, 0.34089103, 0.3380823, 0.31287876, 0.3297325]\n",
      "CPU times: user 2min 23s, sys: 10.4 s, total: 2min 33s\n",
      "Wall time: 51.1 s\n"
     ]
    }
   ],
   "source": [
    "%%time\n",
    "silhouettes = []\n",
    "k = range(2, 10)\n",
    "for k_i in k:\n",
    "    km = KMeans(n_clusters = k_i)\n",
    "    km.fit(normalized_df)\n",
    "    silhouettes.append(silhouette_score(normalized_df, km.labels_))\n",
    "\n",
    "print(silhouettes)\n"
   ]
  },
  {
   "cell_type": "code",
   "execution_count": 28,
   "metadata": {},
   "outputs": [
    {
     "data": {
      "image/png": "[encoded data removed]",
      "text/plain": [
       "<Figure size 720x432 with 1 Axes>"
      ]
     },
     "metadata": {
      "needs_background": "light"
     },
     "output_type": "display_data"
    }
   ],
   "source": [
    "fig, ax = plt.subplots()\n",
    "ax.plot(k, silhouettes, color = 'r', linewidth = 3)\n",
    "ax.xaxis.set_major_locator(ticker.MultipleLocator(1))\n",
    "ax.yaxis.set_major_locator(ticker.MultipleLocator(0.05))\n",
    "ax.grid(which='major', color = 'k')\n",
    "\n",
    "fig.set_figwidth(10)\n",
    "fig.set_figheight(6)\n",
    "plt.xlabel('k')\n",
    "plt.ylabel('silhouettes')\n",
    "plt.title('The Elbow Method showing the optimal k');\n",
    "plt.show();\n"
   ]
  },
  {
   "cell_type": "code",
   "execution_count": 29,
   "metadata": {},
   "outputs": [],
   "source": [
    "# Максимальное значение silhouettes при k = 2\n"
   ]
  },
  {
   "cell_type": "markdown",
   "metadata": {},
   "source": [
    "## DBSCAN"
   ]
  },
  {
   "cell_type": "markdown",
   "metadata": {},
   "source": [
    "### Поиск оптимального e\n"
   ]
  },
  {
   "cell_type": "markdown",
   "metadata": {},
   "source": [
    "Примим значение min_samples равное количеству признаков плюс 1"
   ]
  },
  {
   "cell_type": "code",
   "execution_count": 30,
   "metadata": {},
   "outputs": [],
   "source": [
    "def get_plot_e(data):\n",
    "    min_samples = len(data.columns) + 1\n",
    "    df = data.to_numpy()\n",
    "    Y = cdist(df, df, 'euclidean')\n",
    "    mean_dists = sum(np.transpose(np.sort(Y)[:, :(min_samples + 1)], axes = None)) / min_samples\n",
    "    x = np.sort(mean_dists)\n",
    "    y = [i for i in range(0, len(x))]\n",
    "    fig, ax = plt.subplots()\n",
    "    ax.plot(y, x, color = 'r', linewidth = 3)\n",
    "    ax.grid(which='major', color = 'k')\n",
    "    fig.set_figwidth(10)\n",
    "    fig.set_figheight(6)\n",
    "    plt.xlabel('range')\n",
    "    plt.ylabel('mean_distance ')\n",
    "    plt.title('Ortimal e');\n",
    "    plt.show();\n"
   ]
  },
  {
   "cell_type": "code",
   "execution_count": 31,
   "metadata": {},
   "outputs": [
    {
     "data": {
      "image/png": "[encoded data removed]",
      "text/plain": [
       "<Figure size 720x432 with 1 Axes>"
      ]
     },
     "metadata": {
      "needs_background": "light"
     },
     "output_type": "display_data"
    },
    {
     "name": "stdout",
     "output_type": "stream",
     "text": [
      "CPU times: user 29.2 s, sys: 2.23 s, total: 31.4 s\n",
      "Wall time: 31.5 s\n"
     ]
    }
   ],
   "source": [
    "%%time\n",
    "get_plot_e(normalized_df)\n"
   ]
  },
  {
   "cell_type": "code",
   "execution_count": 32,
   "metadata": {},
   "outputs": [
    {
     "name": "stdout",
     "output_type": "stream",
     "text": [
      "eps = 0.200: Cluster = 6, Noize = 2.49%\n"
     ]
    }
   ],
   "source": [
    "# Перелом графика наблюдается на уровне от 0.12 до 0.25, возьмем 0.2\n",
    "eps = 0.2\n",
    "data_d = normalized_df\n",
    "min_samples = len(data_d.columns) + 1\n",
    "\n",
    "db = DBSCAN(eps = eps, min_samples = min_samples, n_jobs = -1).fit(data_d)\n",
    "core_samples_mask = np.zeros_like(db.labels_, dtype = bool)\n",
    "core_samples_mask[db.core_sample_indices_] = True\n",
    "labels = db.labels_\n",
    "\n",
    "n_clusters_ = len(set(labels)) - (1 if -1 in labels else 0)\n",
    "n_noise_ = list(labels).count(-1)\n",
    "\n",
    "print('eps = {:.3f}: Cluster = {}, Noize = {:.2f}%'.format(eps, (n_clusters_), \n",
    "                                                           (100 * n_noise_ / data_d.shape[0])))\n"
   ]
  },
  {
   "cell_type": "code",
   "execution_count": 33,
   "metadata": {},
   "outputs": [],
   "source": [
    "def frange(start, stop, step):\n",
    "    i = start\n",
    "    while i < stop:\n",
    "        yield i\n",
    "        i += step\n"
   ]
  },
  {
   "cell_type": "code",
   "execution_count": 34,
   "metadata": {},
   "outputs": [
    {
     "name": "stdout",
     "output_type": "stream",
     "text": [
      "eps = 0.10: Cluster = 47, Noize = 21.68%\n",
      "eps = 0.11: Cluster = 30, Noize = 16.64%\n",
      "eps = 0.12: Cluster = 29, Noize = 13.02%\n",
      "eps = 0.13: Cluster = 25, Noize = 10.41%\n",
      "eps = 0.14: Cluster = 23, Noize = 8.40%\n",
      "eps = 0.15: Cluster = 18, Noize = 6.64%\n",
      "eps = 0.16: Cluster = 18, Noize = 5.28%\n",
      "eps = 0.17: Cluster = 11, Noize = 4.39%\n",
      "eps = 0.18: Cluster = 10, Noize = 3.58%\n",
      "eps = 0.19: Cluster = 7, Noize = 2.97%\n",
      "eps = 0.20: Cluster = 6, Noize = 2.49%\n",
      "eps = 0.21: Cluster = 5, Noize = 2.08%\n",
      "eps = 0.22: Cluster = 5, Noize = 1.78%\n",
      "eps = 0.23: Cluster = 6, Noize = 1.50%\n",
      "eps = 0.24: Cluster = 4, Noize = 1.20%\n",
      "eps = 0.25: Cluster = 4, Noize = 0.98%\n",
      "eps = 0.26: Cluster = 4, Noize = 0.83%\n",
      "eps = 0.27: Cluster = 3, Noize = 0.72%\n",
      "eps = 0.28: Cluster = 3, Noize = 0.64%\n",
      "eps = 0.29: Cluster = 3, Noize = 0.52%\n"
     ]
    }
   ],
   "source": [
    "min_samples = len(normalized_df.columns) + 1\n",
    "\n",
    "for j in frange(0.10, 0.3, 0.01):\n",
    "\n",
    "    db = DBSCAN(eps = j, min_samples = min_samples, n_jobs = -1).fit(normalized_df)\n",
    "    core_samples_mask = np.zeros_like(db.labels_, dtype = bool)\n",
    "    core_samples_mask[db.core_sample_indices_] = True\n",
    "    labels = db.labels_\n",
    "\n",
    "    n_clusters_ = len(set(labels)) - (1 if -1 in labels else 0)\n",
    "    n_noise_ = list(labels).count(-1)\n",
    "\n",
    "    print('eps = {:.2f}: Cluster = {}, Noize = {:.2f}%'.format(j, (n_clusters_), \n",
    "                                                               (100 * n_noise_ / normalized_df.shape[0])))\n"
   ]
  },
  {
   "cell_type": "markdown",
   "metadata": {},
   "source": [
    "Если применить метод локтя к количеству кластеров, т.е. при каких значениях замедляется падение кластеров, то оптимально смотрится k = 7"
   ]
  },
  {
   "cell_type": "code",
   "execution_count": null,
   "metadata": {},
   "outputs": [],
   "source": []
  },
  {
   "cell_type": "markdown",
   "metadata": {},
   "source": [
    "### Итого:\n",
    "1. hierarchy: k = 2\n",
    "2. Метод локтя: k = 2, 3, 4\n",
    "3. Силуэт: k = 2\n",
    "4. DBSCAN: k = 7\n",
    "\n",
    "На основе всех подходов выберим k = 2\n"
   ]
  },
  {
   "cell_type": "code",
   "execution_count": 36,
   "metadata": {
    "scrolled": true
   },
   "outputs": [
    {
     "data": {
      "text/plain": [
       "array([1, 0, 1, ..., 0, 0, 1], dtype=int32)"
      ]
     },
     "execution_count": 36,
     "metadata": {},
     "output_type": "execute_result"
    }
   ],
   "source": [
    "kmeans = KMeans(n_clusters = 2)\n",
    "cluster_label = kmeans.fit_predict(normalized_df)\n",
    "cluster_label\n"
   ]
  },
  {
   "cell_type": "code",
   "execution_count": 37,
   "metadata": {},
   "outputs": [
    {
     "data": {
      "text/html": [
       "<div>\n",
       "<style scoped>\n",
       "    .dataframe tbody tr th:only-of-type {\n",
       "        vertical-align: middle;\n",
       "    }\n",
       "\n",
       "    .dataframe tbody tr th {\n",
       "        vertical-align: top;\n",
       "    }\n",
       "\n",
       "    .dataframe thead th {\n",
       "        text-align: right;\n",
       "    }\n",
       "</style>\n",
       "<table border=\"1\" class=\"dataframe\">\n",
       "  <thead>\n",
       "    <tr style=\"text-align: right;\">\n",
       "      <th></th>\n",
       "      <th>Global_reactive_power</th>\n",
       "      <th>Voltage</th>\n",
       "      <th>Global_intensity</th>\n",
       "      <th>Sub_metering_1</th>\n",
       "      <th>Sub_metering_2</th>\n",
       "      <th>Sub_metering_3</th>\n",
       "      <th>Cluster</th>\n",
       "    </tr>\n",
       "  </thead>\n",
       "  <tbody>\n",
       "    <tr>\n",
       "      <td>0</td>\n",
       "      <td>0.183394</td>\n",
       "      <td>-0.470326</td>\n",
       "      <td>0.824707</td>\n",
       "      <td>-0.056748</td>\n",
       "      <td>-0.068410</td>\n",
       "      <td>-0.238994</td>\n",
       "      <td>1</td>\n",
       "    </tr>\n",
       "    <tr>\n",
       "      <td>1</td>\n",
       "      <td>-0.544066</td>\n",
       "      <td>-0.388854</td>\n",
       "      <td>-0.308895</td>\n",
       "      <td>-0.150511</td>\n",
       "      <td>-0.181441</td>\n",
       "      <td>-0.633872</td>\n",
       "      <td>0</td>\n",
       "    </tr>\n",
       "    <tr>\n",
       "      <td>2</td>\n",
       "      <td>0.434771</td>\n",
       "      <td>-0.378181</td>\n",
       "      <td>0.195309</td>\n",
       "      <td>-0.108899</td>\n",
       "      <td>-0.030709</td>\n",
       "      <td>0.785497</td>\n",
       "      <td>1</td>\n",
       "    </tr>\n",
       "    <tr>\n",
       "      <td>3</td>\n",
       "      <td>-0.190631</td>\n",
       "      <td>-0.156740</td>\n",
       "      <td>-0.743526</td>\n",
       "      <td>-0.166862</td>\n",
       "      <td>-0.047054</td>\n",
       "      <td>-0.596828</td>\n",
       "      <td>0</td>\n",
       "    </tr>\n",
       "    <tr>\n",
       "      <td>4</td>\n",
       "      <td>-0.567315</td>\n",
       "      <td>0.136470</td>\n",
       "      <td>0.454412</td>\n",
       "      <td>-0.180711</td>\n",
       "      <td>-0.050959</td>\n",
       "      <td>-0.646363</td>\n",
       "      <td>0</td>\n",
       "    </tr>\n",
       "    <tr>\n",
       "      <td>...</td>\n",
       "      <td>...</td>\n",
       "      <td>...</td>\n",
       "      <td>...</td>\n",
       "      <td>...</td>\n",
       "      <td>...</td>\n",
       "      <td>...</td>\n",
       "      <td>...</td>\n",
       "    </tr>\n",
       "    <tr>\n",
       "      <td>19995</td>\n",
       "      <td>-0.676058</td>\n",
       "      <td>0.128894</td>\n",
       "      <td>-0.510851</td>\n",
       "      <td>-0.114645</td>\n",
       "      <td>-0.138205</td>\n",
       "      <td>-0.482824</td>\n",
       "      <td>0</td>\n",
       "    </tr>\n",
       "    <tr>\n",
       "      <td>19996</td>\n",
       "      <td>-0.442449</td>\n",
       "      <td>-0.209677</td>\n",
       "      <td>-0.577753</td>\n",
       "      <td>-0.145339</td>\n",
       "      <td>-0.175207</td>\n",
       "      <td>-0.612091</td>\n",
       "      <td>0</td>\n",
       "    </tr>\n",
       "    <tr>\n",
       "      <td>19997</td>\n",
       "      <td>0.317952</td>\n",
       "      <td>-0.552637</td>\n",
       "      <td>0.509132</td>\n",
       "      <td>-0.128674</td>\n",
       "      <td>-0.155117</td>\n",
       "      <td>-0.541908</td>\n",
       "      <td>0</td>\n",
       "    </tr>\n",
       "    <tr>\n",
       "      <td>19998</td>\n",
       "      <td>-0.416235</td>\n",
       "      <td>0.392293</td>\n",
       "      <td>-0.543522</td>\n",
       "      <td>-0.136728</td>\n",
       "      <td>-0.164826</td>\n",
       "      <td>-0.575826</td>\n",
       "      <td>0</td>\n",
       "    </tr>\n",
       "    <tr>\n",
       "      <td>19999</td>\n",
       "      <td>0.236974</td>\n",
       "      <td>-0.773761</td>\n",
       "      <td>0.434593</td>\n",
       "      <td>-0.059356</td>\n",
       "      <td>-0.016738</td>\n",
       "      <td>0.390466</td>\n",
       "      <td>1</td>\n",
       "    </tr>\n",
       "  </tbody>\n",
       "</table>\n",
       "<p>20000 rows × 7 columns</p>\n",
       "</div>"
      ],
      "text/plain": [
       "       Global_reactive_power   Voltage  Global_intensity  Sub_metering_1  \\\n",
       "0                   0.183394 -0.470326          0.824707       -0.056748   \n",
       "1                  -0.544066 -0.388854         -0.308895       -0.150511   \n",
       "2                   0.434771 -0.378181          0.195309       -0.108899   \n",
       "3                  -0.190631 -0.156740         -0.743526       -0.166862   \n",
       "4                  -0.567315  0.136470          0.454412       -0.180711   \n",
       "...                      ...       ...               ...             ...   \n",
       "19995              -0.676058  0.128894         -0.510851       -0.114645   \n",
       "19996              -0.442449 -0.209677         -0.577753       -0.145339   \n",
       "19997               0.317952 -0.552637          0.509132       -0.128674   \n",
       "19998              -0.416235  0.392293         -0.543522       -0.136728   \n",
       "19999               0.236974 -0.773761          0.434593       -0.059356   \n",
       "\n",
       "       Sub_metering_2  Sub_metering_3  Cluster  \n",
       "0           -0.068410       -0.238994        1  \n",
       "1           -0.181441       -0.633872        0  \n",
       "2           -0.030709        0.785497        1  \n",
       "3           -0.047054       -0.596828        0  \n",
       "4           -0.050959       -0.646363        0  \n",
       "...               ...             ...      ...  \n",
       "19995       -0.138205       -0.482824        0  \n",
       "19996       -0.175207       -0.612091        0  \n",
       "19997       -0.155117       -0.541908        0  \n",
       "19998       -0.164826       -0.575826        0  \n",
       "19999       -0.016738        0.390466        1  \n",
       "\n",
       "[20000 rows x 7 columns]"
      ]
     },
     "execution_count": 37,
     "metadata": {},
     "output_type": "execute_result"
    }
   ],
   "source": [
    "res = pd.Series(cluster_label, name = 'Cluster')\n",
    "result = pd.concat([normalized_df, res], axis = 1, sort = False)\n",
    "result\n"
   ]
  },
  {
   "cell_type": "code",
   "execution_count": 38,
   "metadata": {
    "scrolled": false
   },
   "outputs": [
    {
     "data": {
      "image/png": "[encoded data removed]",
      "text/plain": [
       "<Figure size 1080x1440 with 6 Axes>"
      ]
     },
     "metadata": {
      "needs_background": "light"
     },
     "output_type": "display_data"
    }
   ],
   "source": [
    "fig, axes = plt.subplots(nrows = 3, ncols = 2, figsize = (15, 20))\n",
    "res_col = result.columns.tolist()\n",
    "res_col.remove('Cluster')\n",
    "\n",
    "for idx, feat in enumerate(res_col):\n",
    "    sns.boxplot(x = 'Cluster', y = feat, data = result, ax = axes[idx // 2, idx % 2])\n",
    "    axes[idx // 2, idx % 2].set_xlabel('Cluster')\n",
    "    axes[idx // 2, idx % 2].set_ylabel(feat);\n",
    "    plt.subplots_adjust(wspace = 0.5, hspace = 0.5)\n",
    "    "
   ]
  },
  {
   "cell_type": "code",
   "execution_count": 39,
   "metadata": {},
   "outputs": [],
   "source": [
    "# Наблюдаются выбросы не только у признаков, которые были с большими выбросами\n"
   ]
  },
  {
   "cell_type": "markdown",
   "metadata": {},
   "source": [
    "# 2. С обработкой выбросов\n"
   ]
  },
  {
   "cell_type": "code",
   "execution_count": 40,
   "metadata": {},
   "outputs": [],
   "source": [
    "def outlier_detect_IQR(data, col, threshold = 3):    \n",
    "    IQR = data[col].quantile(0.65) - data[col].quantile(0.35)\n",
    "    Lower_fence = data[col].quantile(0.35) - (IQR * threshold)\n",
    "    Upper_fence = data[col].quantile(0.65) + (IQR * threshold)\n",
    "    borders = (Lower_fence, Upper_fence)\n",
    "    return borders\n",
    "\n",
    "def windsorization(data, cols):\n",
    "    data_copy = data.copy(deep=True)  \n",
    "    for col in cols:\n",
    "        borders = outlier_detect_IQR(data, col, threshold = 3)\n",
    "        data_copy.loc[data_copy[col]>borders[1], col] = borders[1]\n",
    "        data_copy.loc[data_copy[col]<borders[0], col] = borders[0]\n",
    "    return data_copy\n"
   ]
  },
  {
   "cell_type": "code",
   "execution_count": 41,
   "metadata": {},
   "outputs": [],
   "source": [
    "data_no_excess = windsorization(\n",
    "    normalized_df, cols=[\"Sub_metering_1\", \"Sub_metering_2\"])\n"
   ]
  },
  {
   "cell_type": "code",
   "execution_count": 42,
   "metadata": {},
   "outputs": [
    {
     "data": {
      "image/png": "[encoded data removed]",
      "text/plain": [
       "<Figure size 432x288 with 1 Axes>"
      ]
     },
     "metadata": {
      "needs_background": "light"
     },
     "output_type": "display_data"
    }
   ],
   "source": [
    "sns.boxplot(data = data_no_excess, orient = \"h\", palette = \"Set2\");\n"
   ]
  },
  {
   "cell_type": "markdown",
   "metadata": {},
   "source": [
    "## Hierarchy"
   ]
  },
  {
   "cell_type": "code",
   "execution_count": 43,
   "metadata": {},
   "outputs": [
    {
     "name": "stdout",
     "output_type": "stream",
     "text": [
      "CPU times: user 15.5 s, sys: 1.1 s, total: 16.6 s\n",
      "Wall time: 16.6 s\n"
     ]
    }
   ],
   "source": [
    "%%time\n",
    "distance_mat = pdist(data_no_excess) \n",
    "Z = hierarchy.linkage(distance_mat, 'ward')\n"
   ]
  },
  {
   "cell_type": "code",
   "execution_count": 44,
   "metadata": {},
   "outputs": [
    {
     "data": {
      "image/png": "[encoded data removed]",
      "text/plain": [
       "<Figure size 1440x720 with 1 Axes>"
      ]
     },
     "metadata": {
      "needs_background": "light"
     },
     "output_type": "display_data"
    }
   ],
   "source": [
    "plt.figure(figsize=(20, 10))\n",
    "dn = hierarchy.dendrogram(Z, truncate_mode = 'lastp', p = 12, \n",
    "                          leaf_font_size = 8., leaf_rotation = 90.)\n"
   ]
  },
  {
   "cell_type": "code",
   "execution_count": 45,
   "metadata": {},
   "outputs": [],
   "source": [
    "from scipy.cluster.hierarchy import inconsistent\n",
    "\n",
    "depth = 5\n",
    "incons = inconsistent(Z, depth)\n"
   ]
  },
  {
   "cell_type": "code",
   "execution_count": 46,
   "metadata": {},
   "outputs": [
    {
     "data": {
      "image/png": "[encoded data removed]",
      "text/plain": [
       "<Figure size 432x288 with 1 Axes>"
      ]
     },
     "metadata": {
      "needs_background": "light"
     },
     "output_type": "display_data"
    },
    {
     "name": "stdout",
     "output_type": "stream",
     "text": [
      "clusters: 2\n"
     ]
    }
   ],
   "source": [
    "last = Z[-10:, 2]\n",
    "last_rev = last[::-1]\n",
    "idxs = np.arange(1, len(last) + 1)\n",
    "plt.plot(idxs, last_rev)\n",
    "\n",
    "acceleration = np.diff(last, 2)  # 2nd derivative of the distances\n",
    "acceleration_rev = acceleration[::-1]\n",
    "plt.plot(idxs[:-2] + 1, acceleration_rev)\n",
    "plt.show()\n",
    "k = acceleration_rev.argmax() + 2  # if idx 0 is the max of this we want 2 clusters\n",
    "print(\"clusters:\", k)\n"
   ]
  },
  {
   "cell_type": "code",
   "execution_count": 47,
   "metadata": {},
   "outputs": [],
   "source": [
    "# Иерархическая кластеризация все равно \"рекомендует\" 2 кластера\n"
   ]
  },
  {
   "cell_type": "markdown",
   "metadata": {},
   "source": [
    "## DBSCAN"
   ]
  },
  {
   "cell_type": "code",
   "execution_count": 48,
   "metadata": {},
   "outputs": [
    {
     "data": {
      "image/png": "[encoded data removed]",
      "text/plain": [
       "<Figure size 720x432 with 1 Axes>"
      ]
     },
     "metadata": {
      "needs_background": "light"
     },
     "output_type": "display_data"
    },
    {
     "name": "stdout",
     "output_type": "stream",
     "text": [
      "CPU times: user 28.8 s, sys: 2.18 s, total: 31 s\n",
      "Wall time: 31.1 s\n"
     ]
    }
   ],
   "source": [
    "%%time\n",
    "get_plot_e(data_no_excess)\n"
   ]
  },
  {
   "cell_type": "code",
   "execution_count": 49,
   "metadata": {},
   "outputs": [
    {
     "name": "stdout",
     "output_type": "stream",
     "text": [
      "eps = 0.200: Cluster = 1, Noize = 1.54%\n"
     ]
    }
   ],
   "source": [
    "# Область перелома на графике не сильно изменилась\n",
    "\n",
    "eps = 0.2\n",
    "data_d = data_no_excess\n",
    "min_samples = len(data_d.columns) + 1\n",
    "\n",
    "db = DBSCAN(eps = eps, min_samples = min_samples, n_jobs = -1).fit(data_d)\n",
    "core_samples_mask = np.zeros_like(db.labels_, dtype = bool)\n",
    "core_samples_mask[db.core_sample_indices_] = True\n",
    "labels = db.labels_\n",
    "\n",
    "n_clusters_ = len(set(labels)) - (1 if -1 in labels else 0)\n",
    "n_noise_ = list(labels).count(-1)\n",
    "\n",
    "print('eps = {:.3f}: Cluster = {}, Noize = {:.2f}%'.format(eps, (n_clusters_), \n",
    "                                                           (100 * n_noise_ / data_d.shape[0])))\n"
   ]
  },
  {
   "cell_type": "code",
   "execution_count": 50,
   "metadata": {},
   "outputs": [],
   "source": [
    "# Теперь BDSCAN показывает 1 кластер"
   ]
  },
  {
   "cell_type": "code",
   "execution_count": 51,
   "metadata": {},
   "outputs": [
    {
     "name": "stdout",
     "output_type": "stream",
     "text": [
      "eps = 0.10: Cluster = 44, Noize = 20.41%\n",
      "eps = 0.11: Cluster = 30, Noize = 15.16%\n",
      "eps = 0.12: Cluster = 24, Noize = 11.59%\n",
      "eps = 0.13: Cluster = 19, Noize = 9.01%\n",
      "eps = 0.14: Cluster = 17, Noize = 7.01%\n",
      "eps = 0.15: Cluster = 15, Noize = 5.30%\n",
      "eps = 0.16: Cluster = 14, Noize = 4.04%\n",
      "eps = 0.17: Cluster = 7, Noize = 3.18%\n",
      "eps = 0.18: Cluster = 7, Noize = 2.42%\n",
      "eps = 0.19: Cluster = 3, Noize = 1.94%\n",
      "eps = 0.20: Cluster = 1, Noize = 1.54%\n",
      "eps = 0.21: Cluster = 1, Noize = 1.24%\n",
      "eps = 0.22: Cluster = 2, Noize = 0.97%\n",
      "eps = 0.23: Cluster = 1, Noize = 0.73%\n",
      "eps = 0.24: Cluster = 1, Noize = 0.59%\n",
      "eps = 0.25: Cluster = 1, Noize = 0.47%\n",
      "eps = 0.26: Cluster = 1, Noize = 0.34%\n",
      "eps = 0.27: Cluster = 1, Noize = 0.29%\n",
      "eps = 0.28: Cluster = 1, Noize = 0.28%\n",
      "eps = 0.29: Cluster = 1, Noize = 0.21%\n"
     ]
    }
   ],
   "source": [
    "data_d = data_no_excess\n",
    "min_samples = len(data_d.columns) + 1\n",
    "\n",
    "for j in frange(0.10, 0.3, 0.01):\n",
    "\n",
    "    db = DBSCAN(eps = j, min_samples = min_samples, n_jobs = -1).fit(data_d)\n",
    "    core_samples_mask = np.zeros_like(db.labels_, dtype = bool)\n",
    "    core_samples_mask[db.core_sample_indices_] = True\n",
    "    labels = db.labels_\n",
    "\n",
    "    n_clusters_ = len(set(labels)) - (1 if -1 in labels else 0)\n",
    "    n_noise_ = list(labels).count(-1)\n",
    "\n",
    "    print('eps = {:.2f}: Cluster = {}, Noize = {:.2f}%'.format(j, (n_clusters_), \n",
    "                                                               (100 * n_noise_ / data_d.shape[0])))\n"
   ]
  },
  {
   "cell_type": "markdown",
   "metadata": {},
   "source": [
    "Перелом числа кластеров DBSCAN приходится на k = 7\n"
   ]
  },
  {
   "cell_type": "markdown",
   "metadata": {},
   "source": [
    "## K-Means"
   ]
  },
  {
   "cell_type": "code",
   "execution_count": 52,
   "metadata": {},
   "outputs": [
    {
     "name": "stdout",
     "output_type": "stream",
     "text": [
      "[0.41328275, 0.37765938, 0.3698216, 0.3318482, 0.33553725, 0.3021535, 0.31821182, 0.32411295]\n",
      "CPU times: user 2min 31s, sys: 11.1 s, total: 2min 42s\n",
      "Wall time: 54.9 s\n"
     ]
    }
   ],
   "source": [
    "%%time\n",
    "silhouettes = []\n",
    "k = range(2, 10)\n",
    "for k_i in k:\n",
    "    km = KMeans(n_clusters = k_i)\n",
    "    km.fit(data_no_excess)\n",
    "    silhouettes.append(silhouette_score(data_no_excess, km.labels_))\n",
    "\n",
    "print(silhouettes)\n"
   ]
  },
  {
   "cell_type": "code",
   "execution_count": 53,
   "metadata": {},
   "outputs": [
    {
     "data": {
      "image/png": "[encoded data removed]",
      "text/plain": [
       "<Figure size 720x432 with 1 Axes>"
      ]
     },
     "metadata": {
      "needs_background": "light"
     },
     "output_type": "display_data"
    }
   ],
   "source": [
    "fig, ax = plt.subplots()\n",
    "ax.plot(k, silhouettes, color = 'r', linewidth = 3)\n",
    "ax.xaxis.set_major_locator(ticker.MultipleLocator(1))\n",
    "ax.yaxis.set_major_locator(ticker.MultipleLocator(0.05))\n",
    "ax.grid(which='major', color = 'k')\n",
    "\n",
    "fig.set_figwidth(10)\n",
    "fig.set_figheight(6)\n",
    "plt.xlabel('k')\n",
    "plt.ylabel('silhouettes')\n",
    "plt.title('The Elbow Method showing the optimal k');\n",
    "plt.show();\n"
   ]
  },
  {
   "cell_type": "code",
   "execution_count": 54,
   "metadata": {},
   "outputs": [],
   "source": [
    "# Максимальный silhouettes все равно на k = 2\n"
   ]
  },
  {
   "cell_type": "code",
   "execution_count": 55,
   "metadata": {},
   "outputs": [
    {
     "data": {
      "image/png": "[encoded data removed]",
      "text/plain": [
       "<Figure size 720x432 with 1 Axes>"
      ]
     },
     "metadata": {
      "needs_background": "light"
     },
     "output_type": "display_data"
    }
   ],
   "source": [
    "inertia = []\n",
    "k = range(1, 20)\n",
    "for k_i in k:\n",
    "    km = KMeans(n_clusters = k_i).fit(data_no_excess)\n",
    "    inertia.append(km.inertia_)\n",
    "    \n",
    "m = int(max(inertia) / len(k))\n",
    "fig, ax = plt.subplots()\n",
    "ax.plot(k, inertia, color = 'r', linewidth = 3)\n",
    "ax.xaxis.set_major_locator(ticker.MultipleLocator(1))\n",
    "ax.yaxis.set_major_locator(ticker.MultipleLocator(m))\n",
    "ax.grid(which='major', color = 'k')\n",
    "fig.set_figwidth(10)\n",
    "fig.set_figheight(6)\n",
    "plt.xlabel('k')\n",
    "plt.ylabel('silhouettes')\n",
    "plt.title('The Elbow Method showing the optimal k');\n",
    "plt.show();\n"
   ]
  },
  {
   "cell_type": "code",
   "execution_count": 56,
   "metadata": {},
   "outputs": [],
   "source": [
    "# Перелом по методу Локтя остался так же на уровне k = 2-5, я бы отдал предпочтение тут k = 2\n"
   ]
  },
  {
   "cell_type": "markdown",
   "metadata": {},
   "source": [
    "Итого:\n",
    "1. DBCSAN: k = 7\n",
    "2. Силуэт: k = 2\n",
    "3. inertia: k = 2-5\n",
    "4. hierarchy: k = 2\n",
    "\n",
    "Выбор опять на k = 2"
   ]
  },
  {
   "cell_type": "code",
   "execution_count": 57,
   "metadata": {},
   "outputs": [
    {
     "data": {
      "text/plain": [
       "array([0, 1, 0, ..., 1, 1, 0], dtype=int32)"
      ]
     },
     "execution_count": 57,
     "metadata": {},
     "output_type": "execute_result"
    }
   ],
   "source": [
    "kmeans = KMeans(n_clusters = 2)\n",
    "cluster_label = kmeans.fit_predict(data_no_excess)\n",
    "cluster_label\n"
   ]
  },
  {
   "cell_type": "code",
   "execution_count": 58,
   "metadata": {},
   "outputs": [
    {
     "data": {
      "text/html": [
       "<div>\n",
       "<style scoped>\n",
       "    .dataframe tbody tr th:only-of-type {\n",
       "        vertical-align: middle;\n",
       "    }\n",
       "\n",
       "    .dataframe tbody tr th {\n",
       "        vertical-align: top;\n",
       "    }\n",
       "\n",
       "    .dataframe thead th {\n",
       "        text-align: right;\n",
       "    }\n",
       "</style>\n",
       "<table border=\"1\" class=\"dataframe\">\n",
       "  <thead>\n",
       "    <tr style=\"text-align: right;\">\n",
       "      <th></th>\n",
       "      <th>Global_reactive_power</th>\n",
       "      <th>Voltage</th>\n",
       "      <th>Global_intensity</th>\n",
       "      <th>Sub_metering_1</th>\n",
       "      <th>Sub_metering_2</th>\n",
       "      <th>Sub_metering_3</th>\n",
       "      <th>Cluster</th>\n",
       "    </tr>\n",
       "  </thead>\n",
       "  <tbody>\n",
       "    <tr>\n",
       "      <td>0</td>\n",
       "      <td>0.183394</td>\n",
       "      <td>-0.470326</td>\n",
       "      <td>0.824707</td>\n",
       "      <td>-0.056748</td>\n",
       "      <td>-0.068410</td>\n",
       "      <td>-0.238994</td>\n",
       "      <td>0</td>\n",
       "    </tr>\n",
       "    <tr>\n",
       "      <td>1</td>\n",
       "      <td>-0.544066</td>\n",
       "      <td>-0.388854</td>\n",
       "      <td>-0.308895</td>\n",
       "      <td>-0.150511</td>\n",
       "      <td>-0.181441</td>\n",
       "      <td>-0.633872</td>\n",
       "      <td>1</td>\n",
       "    </tr>\n",
       "    <tr>\n",
       "      <td>2</td>\n",
       "      <td>0.434771</td>\n",
       "      <td>-0.378181</td>\n",
       "      <td>0.195309</td>\n",
       "      <td>-0.108899</td>\n",
       "      <td>-0.030709</td>\n",
       "      <td>0.785497</td>\n",
       "      <td>0</td>\n",
       "    </tr>\n",
       "    <tr>\n",
       "      <td>3</td>\n",
       "      <td>-0.190631</td>\n",
       "      <td>-0.156740</td>\n",
       "      <td>-0.743526</td>\n",
       "      <td>-0.166862</td>\n",
       "      <td>-0.047054</td>\n",
       "      <td>-0.596828</td>\n",
       "      <td>1</td>\n",
       "    </tr>\n",
       "    <tr>\n",
       "      <td>4</td>\n",
       "      <td>-0.567315</td>\n",
       "      <td>0.136470</td>\n",
       "      <td>0.454412</td>\n",
       "      <td>-0.180711</td>\n",
       "      <td>-0.050959</td>\n",
       "      <td>-0.646363</td>\n",
       "      <td>1</td>\n",
       "    </tr>\n",
       "    <tr>\n",
       "      <td>...</td>\n",
       "      <td>...</td>\n",
       "      <td>...</td>\n",
       "      <td>...</td>\n",
       "      <td>...</td>\n",
       "      <td>...</td>\n",
       "      <td>...</td>\n",
       "      <td>...</td>\n",
       "    </tr>\n",
       "    <tr>\n",
       "      <td>19995</td>\n",
       "      <td>-0.676058</td>\n",
       "      <td>0.128894</td>\n",
       "      <td>-0.510851</td>\n",
       "      <td>-0.114645</td>\n",
       "      <td>-0.138205</td>\n",
       "      <td>-0.482824</td>\n",
       "      <td>1</td>\n",
       "    </tr>\n",
       "    <tr>\n",
       "      <td>19996</td>\n",
       "      <td>-0.442449</td>\n",
       "      <td>-0.209677</td>\n",
       "      <td>-0.577753</td>\n",
       "      <td>-0.145339</td>\n",
       "      <td>-0.175207</td>\n",
       "      <td>-0.612091</td>\n",
       "      <td>1</td>\n",
       "    </tr>\n",
       "    <tr>\n",
       "      <td>19997</td>\n",
       "      <td>0.317952</td>\n",
       "      <td>-0.552637</td>\n",
       "      <td>0.509132</td>\n",
       "      <td>-0.128674</td>\n",
       "      <td>-0.155117</td>\n",
       "      <td>-0.541908</td>\n",
       "      <td>1</td>\n",
       "    </tr>\n",
       "    <tr>\n",
       "      <td>19998</td>\n",
       "      <td>-0.416235</td>\n",
       "      <td>0.392293</td>\n",
       "      <td>-0.543522</td>\n",
       "      <td>-0.136728</td>\n",
       "      <td>-0.164826</td>\n",
       "      <td>-0.575826</td>\n",
       "      <td>1</td>\n",
       "    </tr>\n",
       "    <tr>\n",
       "      <td>19999</td>\n",
       "      <td>0.236974</td>\n",
       "      <td>-0.773761</td>\n",
       "      <td>0.434593</td>\n",
       "      <td>-0.059356</td>\n",
       "      <td>-0.016738</td>\n",
       "      <td>0.390466</td>\n",
       "      <td>0</td>\n",
       "    </tr>\n",
       "  </tbody>\n",
       "</table>\n",
       "<p>20000 rows × 7 columns</p>\n",
       "</div>"
      ],
      "text/plain": [
       "       Global_reactive_power   Voltage  Global_intensity  Sub_metering_1  \\\n",
       "0                   0.183394 -0.470326          0.824707       -0.056748   \n",
       "1                  -0.544066 -0.388854         -0.308895       -0.150511   \n",
       "2                   0.434771 -0.378181          0.195309       -0.108899   \n",
       "3                  -0.190631 -0.156740         -0.743526       -0.166862   \n",
       "4                  -0.567315  0.136470          0.454412       -0.180711   \n",
       "...                      ...       ...               ...             ...   \n",
       "19995              -0.676058  0.128894         -0.510851       -0.114645   \n",
       "19996              -0.442449 -0.209677         -0.577753       -0.145339   \n",
       "19997               0.317952 -0.552637          0.509132       -0.128674   \n",
       "19998              -0.416235  0.392293         -0.543522       -0.136728   \n",
       "19999               0.236974 -0.773761          0.434593       -0.059356   \n",
       "\n",
       "       Sub_metering_2  Sub_metering_3  Cluster  \n",
       "0           -0.068410       -0.238994        0  \n",
       "1           -0.181441       -0.633872        1  \n",
       "2           -0.030709        0.785497        0  \n",
       "3           -0.047054       -0.596828        1  \n",
       "4           -0.050959       -0.646363        1  \n",
       "...               ...             ...      ...  \n",
       "19995       -0.138205       -0.482824        1  \n",
       "19996       -0.175207       -0.612091        1  \n",
       "19997       -0.155117       -0.541908        1  \n",
       "19998       -0.164826       -0.575826        1  \n",
       "19999       -0.016738        0.390466        0  \n",
       "\n",
       "[20000 rows x 7 columns]"
      ]
     },
     "execution_count": 58,
     "metadata": {},
     "output_type": "execute_result"
    }
   ],
   "source": [
    "res = pd.Series(cluster_label, name = 'Cluster')\n",
    "result = pd.concat([data_no_excess, res], axis = 1, sort = False)\n",
    "result\n"
   ]
  },
  {
   "cell_type": "code",
   "execution_count": 59,
   "metadata": {},
   "outputs": [
    {
     "data": {
      "image/png": "[encoded data removed]",
      "text/plain": [
       "<Figure size 1080x1440 with 6 Axes>"
      ]
     },
     "metadata": {
      "needs_background": "light"
     },
     "output_type": "display_data"
    }
   ],
   "source": [
    "fig, axes = plt.subplots(nrows = 3, ncols = 2, figsize = (15, 20))\n",
    "res_col = result.columns.tolist()\n",
    "res_col.remove('Cluster')\n",
    "\n",
    "for idx, feat in enumerate(res_col):\n",
    "    sns.boxplot(x = 'Cluster', y = feat, data = result, ax = axes[idx // 2, idx % 2])\n",
    "    axes[idx // 2, idx % 2].set_xlabel('Cluster')\n",
    "    axes[idx // 2, idx % 2].set_ylabel(feat);\n",
    "    plt.subplots_adjust(wspace = 0.5, hspace = 0.5)\n",
    "    "
   ]
  },
  {
   "cell_type": "code",
   "execution_count": 62,
   "metadata": {},
   "outputs": [],
   "source": [
    "# На данных мы видим меньше выбросов, чем до обработки.\n"
   ]
  },
  {
   "cell_type": "markdown",
   "metadata": {},
   "source": [
    "# Выводы:\n",
    "\n",
    "1. В моем случае работа с выбросами не повлияла на результат отбора параметров.\n",
    "2. Но данные с обработанными выбросами, как мне показалось, лучше сработала для DBSCAN\n",
    "3. Переменные, которые имели большие выбросы, при срезе \n",
    "4. Сложно найти оптимальное значение eps для DBSCAN\n"
   ]
  },
  {
   "cell_type": "code",
   "execution_count": null,
   "metadata": {},
   "outputs": [],
   "source": []
  }
 ],
 "metadata": {
  "kernelspec": {
   "display_name": "Python 3",
   "language": "python",
   "name": "python3"
  },
  "language_info": {
   "codemirror_mode": {
    "name": "ipython",
    "version": 3
   },
   "file_extension": ".py",
   "mimetype": "text/x-python",
   "name": "python",
   "nbconvert_exporter": "python",
   "pygments_lexer": "ipython3",
   "version": "3.7.4"
  }
 },
 "nbformat": 4,
 "nbformat_minor": 2
}
