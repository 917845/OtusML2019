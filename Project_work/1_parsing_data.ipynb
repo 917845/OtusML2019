{
 "cells": [
  {
   "cell_type": "code",
   "execution_count": 85,
   "metadata": {},
   "outputs": [],
   "source": [
    "import numpy as np\n",
    "import pandas as pd\n",
    "import requests \n",
    "\n",
    "from bs4 import BeautifulSoup\n",
    "from fake_useragent import UserAgent\n",
    "\n",
    "from sklearn.externals import joblib\n"
   ]
  },
  {
   "cell_type": "code",
   "execution_count": 77,
   "metadata": {},
   "outputs": [],
   "source": [
    "# Функция сбора вакансий с hh.ru:\n",
    "\n",
    "def get_id_vacancy(list_name):\n",
    "    \n",
    "    list_id_vacancy = []\n",
    "    for name_vacancy in list_name:       \n",
    "        url = 'http://api.hh.ru/vacancies/'\n",
    "        url_params = {\n",
    "            'User-Agent': UserAgent().chrome,\n",
    "            'text': name_vacancy,\n",
    "            'area': 1,\n",
    "            'page': 0,\n",
    "            \"found\": 1,\n",
    "            \"per_page\": 50,\n",
    "            \"pages\": 40,\n",
    "            'items': [{}],\n",
    "        }\n",
    "        \n",
    "        #Cобираем id текущей вакансии:\n",
    "        while True:\n",
    "            response = requests.get(url, params = url_params)\n",
    "            if not response.ok:\n",
    "                break\n",
    "            else:\n",
    "                if 'items' in response.json():\n",
    "                    for i in response.json()['items']:\n",
    "                        id_vac = i['id']\n",
    "                        if id_vac != None and id_vac not in list_id_vacancy:\n",
    "                            list_id_vacancy.append(id_vac)          \n",
    "                else:\n",
    "                    id_vac = response.json()['id']\n",
    "                    if id_vac != None and id_vac not in list_id_vacancy:\n",
    "                        list_id_vacancy.append(id_vac)\n",
    "    \n",
    "    return list_id_vacancy\n"
   ]
  },
  {
   "cell_type": "code",
   "execution_count": 78,
   "metadata": {},
   "outputs": [],
   "source": [
    "# Списки запросов для поиска вакансий:\n",
    "\n",
    "list_name = ['разработчик', 'тестировщик', 'data', 'инженер-программист', 'web-программист', 'программист']\n"
   ]
  },
  {
   "cell_type": "code",
   "execution_count": null,
   "metadata": {
    "scrolled": true
   },
   "outputs": [],
   "source": [
    "%%time\n",
    "list_id_vacancies = get_id_vacancy(list_name)\n"
   ]
  },
  {
   "cell_type": "code",
   "execution_count": 81,
   "metadata": {},
   "outputs": [
    {
     "data": {
      "text/plain": [
       "{'id': '36691474',\n",
       " 'premium': False,\n",
       " 'billing_type': {'id': 'standard_plus', 'name': 'Стандарт плюс'},\n",
       " 'relations': [],\n",
       " 'name': 'Senior Android разработчик',\n",
       " 'insider_interview': None,\n",
       " 'response_letter_required': False,\n",
       " 'area': {'id': '1', 'name': 'Москва', 'url': 'https://api.hh.ru/areas/1'},\n",
       " 'salary': {'from': 150000, 'to': 200000, 'currency': 'RUR', 'gross': False},\n",
       " 'type': {'id': 'open', 'name': 'Открытая'},\n",
       " 'address': None,\n",
       " 'allow_messages': True,\n",
       " 'site': {'id': 'hh', 'name': 'hh.ru'},\n",
       " 'experience': {'id': 'between3And6', 'name': 'От 3 до 6 лет'},\n",
       " 'schedule': {'id': 'remote', 'name': 'Удаленная работа'},\n",
       " 'employment': {'id': 'full', 'name': 'Полная занятость'},\n",
       " 'department': None,\n",
       " 'contacts': None,\n",
       " 'description': '<p>Друзья, привет.</p> <p>Нам в команду веб-разработчиков Hoodies нужен Android разработчик на зарубежный некоммерческий проект.<br /><br /><strong>Решай глобальные проблемы</strong><br />Пустынная саранча наносит непоправимый вред сельскому хозяйству. За прошлый год в Африке от неё пострадали 20 миллионов человек, что привело к продовольственному кризису, голоду и смерти.<br /><br /><strong>Методы борьбы устарели \\u200d</strong><br />Для решения проблемы африканским фермерам не хватает технологий и знаний. Мы разрабатываем решения, которые помогут сельскому хозяйству быть готовыми к нашествию саранчи, ликвидировать последствия и бороться с заболеваниями растений.<br /><br /><strong>Поддержка</strong> <strong>ООН</strong><br />В этом году к технологической борьбе с нашествиями пустынной саранчи присоединилась Организация Объединённых Наций. Она помогает идейному вдохновителю, выступает инвестором проекта, а мы воплощаем эти идеи в небольшой и уютной стартап-команде.<br /><br /><strong>Кто мы \\u200d</strong><br />Мы работаем с зарубежными стартапами, компаниями и дизайнерами. Все клиенты из США и Европы. Мы качественно делаем свою работу. Наш типичный проект – b2c или b2b SaaS. Чаще всего это веб-приложение с интересной и сложной бизнес-логикой.</p> <p><strong>Кто ты \\u200d</strong><br />Профи. Умеешь планировать, попадать в дедлайны, общаться с клиентами без менеджера. Твоя работа — наше вдохновение. А также:</p> <ul> <li>хорошо знаешь Android-разработку на Java;</li> <li>умеешь аргументировать свои мысли на английском языке и понимать клиента;</li> <li>знаешь основные паттерны проектирования;</li> <li>понимаешь и работаешь с системами continuous integration;</li> <li>владеешь инструментарием создания и проведения тестов.</li> </ul> <p><strong>Полезным опытом будет</strong><br />Работа с AndroidX, OkHttp, Retrofit, RxJava, Room, Gson, Glide, Smack XMPP.</p> <p>На проекте используется TensorFlow Lite, если вы не работали с ним - это может быть интересным опытом.</p> <p>Если тебе надоели коммерческие проекты, ты хочешь делать полезный продукт, запрыгнуть в уютный стартап и работать с проектом, не зависящим от экономической кризиса - пиши!</p>',\n",
       " 'branded_description': None,\n",
       " 'vacancy_constructor_template': None,\n",
       " 'key_skills': [{'name': 'Разработка приложений под Android'},\n",
       "  {'name': 'Разработка мобильных приложений'}],\n",
       " 'accept_handicapped': False,\n",
       " 'accept_kids': False,\n",
       " 'archived': False,\n",
       " 'response_url': None,\n",
       " 'specializations': [{'id': '1.221',\n",
       "   'name': 'Программирование, Разработка',\n",
       "   'profarea_id': '1',\n",
       "   'profarea_name': 'Информационные технологии, интернет, телеком'}],\n",
       " 'code': None,\n",
       " 'hidden': False,\n",
       " 'quick_responses_allowed': False,\n",
       " 'driver_license_types': [],\n",
       " 'accept_incomplete_resumes': False,\n",
       " 'employer': {'id': '2824279',\n",
       "  'name': 'Hoodies',\n",
       "  'url': 'https://api.hh.ru/employers/2824279',\n",
       "  'alternate_url': 'https://hh.ru/employer/2824279',\n",
       "  'logo_urls': {'original': 'https://hhcdn.ru/employer-logo-original/660639.png',\n",
       "   '240': 'https://hhcdn.ru/employer-logo/3083689.png',\n",
       "   '90': 'https://hhcdn.ru/employer-logo/3083688.png'},\n",
       "  'vacancies_url': 'https://api.hh.ru/vacancies?employer_id=2824279',\n",
       "  'trusted': True},\n",
       " 'published_at': '2020-04-23T14:17:53+0300',\n",
       " 'created_at': '2020-04-23T14:17:53+0300',\n",
       " 'negotiations_url': None,\n",
       " 'suitable_resumes_url': None,\n",
       " 'apply_alternate_url': 'https://hh.ru/applicant/vacancy_response?vacancyId=36691474',\n",
       " 'has_test': False,\n",
       " 'test': None,\n",
       " 'alternate_url': 'https://hh.ru/vacancy/36691474'}"
      ]
     },
     "execution_count": 81,
     "metadata": {},
     "output_type": "execute_result"
    }
   ],
   "source": [
    "url = 'http://api.hh.ru/vacancies/'\n",
    "url_params = {'User-Agent': UserAgent().chrome}\n",
    "j = list_id_vacancies[300]\n",
    "result = requests.get(url + j, params = url_params)\n",
    "result.json()\n"
   ]
  },
  {
   "cell_type": "code",
   "execution_count": 82,
   "metadata": {},
   "outputs": [],
   "source": [
    "# По id собираем описания вакансий:\n",
    "\n",
    "def get_descriptions_vacancies(list_id):\n",
    "    list_descriptions = []\n",
    "    url = 'http://api.hh.ru/vacancies/'\n",
    "    \n",
    "    for j in list_id:\n",
    "        description_vacancy = {}\n",
    "        result = requests.get(url + j, params = url_params)\n",
    "        if not result.ok:\n",
    "            break\n",
    "        else:\n",
    "            result = result.json()\n",
    "            list_descriptions.append(result)\n",
    "            \n",
    "    return list_descriptions\n"
   ]
  },
  {
   "cell_type": "code",
   "execution_count": 83,
   "metadata": {},
   "outputs": [
    {
     "name": "stdout",
     "output_type": "stream",
     "text": [
      "5938\n",
      "{'id': '36722104', 'premium': False, 'billing_type': {'id': 'standard', 'name': 'Стандарт'}, 'relations': [], 'name': 'Разработчик T-SQl', 'insider_interview': None, 'response_letter_required': False, 'area': {'id': '1', 'name': 'Москва', 'url': 'https://api.hh.ru/areas/1'}, 'salary': None, 'type': {'id': 'open', 'name': 'Открытая'}, 'address': None, 'allow_messages': True, 'site': {'id': 'hh', 'name': 'hh.ru'}, 'experience': {'id': 'noExperience', 'name': 'Нет опыта'}, 'schedule': {'id': 'remote', 'name': 'Удаленная работа'}, 'employment': {'id': 'full', 'name': 'Полная занятость'}, 'department': None, 'contacts': None, 'description': '<p><strong>iFellow</strong> – ИТ компания нового поколения, предлагающая сервисно-ориентированный подход к разработке ПО, тестированию и сопровождению информационных систем для бизнеса. Компания iFellow объединила в себе лучшие российские практики и передовой зарубежный опыт реализации проектов любой сложности для развития информационных технологий и бизнес-процессов.</p> <p><strong>iFellow</strong> работает на ИТ рынке с 2015 года. Начиная с 2018 года, основной специализацией компании стало направление комплексной системной интеграции и разработка программного обеспечения. Сегодня компания предлагает целый ряд инновационных решений для финансовых, страховых и телекоммуникационных компаний, грузовой и пассажирской авиации, нефтегазовой отрасли, сельского хозяйства, а также ритейла и логистики.</p> <p>На текущий момент мы расширяем нашу команду и будем рады принять в наш дружный коллектив <strong>Разработчика T-SQl</strong></p> <p><strong>Необходимо:</strong></p> <ul> <li>знание t-sql (умение писать грамотно запросы, хранимые процедуры, функции), понимание принципов построения архитектуры БД (таблицы, индексы), умение оптимизировать запросы;</li> <li>знание VBA или желание его выучить и работать на нем - придется иногда править шаблоны excel-отчетов с макросами;</li> <li>знание java (Collections, XML, HTTP, multithread)</li> <li>знание java script (чистый javascript с небольшой примесью jQuery);</li> <li>желательно иметь как минимум по году чистой работы на t-sql и java.</li> </ul> <p><strong>Мы гарантируем:</strong></p> <ul> <li>дополнительный оплачиваемый отпуск при значимых событиях в жизни;</li> <li>льготное страхование;</li> <li>ДМС после успешного прохождения испытательного срока;</li> <li>отсутствие дресс-кода;</li> <li>гибкое начало рабочего дня, график 5/2.</li> </ul> <p><strong>iFellow</strong></p> <p><strong>Quality. Clarity. Performance. Reality.</strong></p>', 'branded_description': None, 'vacancy_constructor_template': None, 'key_skills': [{'name': 'JavaScript'}, {'name': 'SQL'}, {'name': 'XML'}, {'name': 'jQuery'}, {'name': 'Java'}], 'accept_handicapped': False, 'accept_kids': False, 'archived': False, 'response_url': None, 'specializations': [{'id': '1.221', 'name': 'Программирование, Разработка', 'profarea_id': '1', 'profarea_name': 'Информационные технологии, интернет, телеком'}, {'id': '1.420', 'name': 'Администратор баз данных', 'profarea_id': '1', 'profarea_name': 'Информационные технологии, интернет, телеком'}], 'code': None, 'hidden': False, 'quick_responses_allowed': False, 'driver_license_types': [], 'accept_incomplete_resumes': False, 'employer': {'id': '3646686', 'name': 'АЙФЭЛЛ', 'url': 'https://api.hh.ru/employers/3646686', 'alternate_url': 'https://hh.ru/employer/3646686', 'logo_urls': {'90': 'https://hhcdn.ru/employer-logo/3387449.png', '240': 'https://hhcdn.ru/employer-logo/3387450.png', 'original': 'https://hhcdn.ru/employer-logo-original/736618.png'}, 'vacancies_url': 'https://api.hh.ru/vacancies?employer_id=3646686', 'trusted': True}, 'published_at': '2020-04-21T14:16:10+0300', 'created_at': '2020-04-21T14:16:10+0300', 'negotiations_url': None, 'suitable_resumes_url': None, 'apply_alternate_url': 'https://hh.ru/applicant/vacancy_response?vacancyId=36722104', 'has_test': False, 'test': None, 'alternate_url': 'https://hh.ru/vacancy/36722104'}\n",
      "CPU times: user 2min 16s, sys: 12.9 s, total: 2min 29s\n",
      "Wall time: 11min 50s\n"
     ]
    }
   ],
   "source": [
    "%%time\n",
    "\n",
    "vacancies_list = get_descriptions_vacancies(list_id_vacancies)\n",
    "print(len(vacancies_list))\n",
    "print(vacancies_list[-1])\n"
   ]
  },
  {
   "cell_type": "code",
   "execution_count": 84,
   "metadata": {},
   "outputs": [
    {
     "data": {
      "text/plain": [
       "['vacancies_list.pkl']"
      ]
     },
     "execution_count": 84,
     "metadata": {},
     "output_type": "execute_result"
    }
   ],
   "source": [
    "# Сохраним собранные данные:\n",
    "\n",
    "joblib.dump(vacancies_list, 'vacancies_list.pkl')\n"
   ]
  },
  {
   "cell_type": "code",
   "execution_count": null,
   "metadata": {},
   "outputs": [],
   "source": []
  }
 ],
 "metadata": {
  "kernelspec": {
   "display_name": "Python 3",
   "language": "python",
   "name": "python3"
  },
  "language_info": {
   "codemirror_mode": {
    "name": "ipython",
    "version": 3
   },
   "file_extension": ".py",
   "mimetype": "text/x-python",
   "name": "python",
   "nbconvert_exporter": "python",
   "pygments_lexer": "ipython3",
   "version": "3.7.6"
  }
 },
 "nbformat": 4,
 "nbformat_minor": 2
}
