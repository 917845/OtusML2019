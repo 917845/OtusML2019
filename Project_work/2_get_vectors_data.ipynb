{
 "cells": [
  {
   "cell_type": "code",
   "execution_count": 1,
   "metadata": {},
   "outputs": [],
   "source": [
    "import pandas as pd\n",
    "import numpy as np\n",
    "import matplotlib.pyplot as plt\n",
    "import re\n",
    "\n",
    "import joblib\n",
    "import pickle\n",
    "from wordcloud import WordCloud\n",
    "\n",
    "import nltk\n",
    "from gensim import corpora, models, utils\n",
    "from bs4 import BeautifulSoup\n",
    "\n",
    "from sklearn.preprocessing import StandardScaler\n",
    "\n",
    "from sklearn.cluster import KMeans\n",
    "from sklearn.metrics import silhouette_score\n",
    "from scipy.cluster import hierarchy\n",
    "from scipy.spatial.distance import pdist, cdist, cosine\n"
   ]
  },
  {
   "cell_type": "code",
   "execution_count": 2,
   "metadata": {
    "scrolled": false
   },
   "outputs": [
    {
     "data": {
      "text/plain": [
       "5938"
      ]
     },
     "execution_count": 2,
     "metadata": {},
     "output_type": "execute_result"
    }
   ],
   "source": [
    "# Загрузим данные вакансий:\n",
    "\n",
    "in_data = joblib.load(\"vacancies_list.pkl\")\n",
    "len(in_data)\n"
   ]
  },
  {
   "cell_type": "code",
   "execution_count": 3,
   "metadata": {},
   "outputs": [
    {
     "data": {
      "text/plain": [
       "{'id': '36497379',\n",
       " 'premium': False,\n",
       " 'billing_type': {'id': 'standard_plus', 'name': 'Стандарт плюс'},\n",
       " 'relations': [],\n",
       " 'name': 'Frontend-разработчик',\n",
       " 'insider_interview': None,\n",
       " 'response_letter_required': False,\n",
       " 'area': {'id': '1', 'name': 'Москва', 'url': 'https://api.hh.ru/areas/1'},\n",
       " 'salary': {'from': 120000, 'to': None, 'currency': 'RUR', 'gross': False},\n",
       " 'type': {'id': 'open', 'name': 'Открытая'},\n",
       " 'address': {'city': 'Москва',\n",
       "  'street': 'улица Сущевский Вал',\n",
       "  'building': '64',\n",
       "  'description': None,\n",
       "  'lat': 55.79179,\n",
       "  'lng': 37.626385,\n",
       "  'raw': 'Москва, улица Сущевский Вал, 64',\n",
       "  'metro': {'station_name': 'Марьина Роща',\n",
       "   'line_name': 'Люблинско-Дмитровская',\n",
       "   'station_id': '10.185',\n",
       "   'line_id': '10',\n",
       "   'lat': 55.793723,\n",
       "   'lng': 37.61618},\n",
       "  'metro_stations': [{'station_name': 'Марьина Роща',\n",
       "    'line_name': 'Люблинско-Дмитровская',\n",
       "    'station_id': '10.185',\n",
       "    'line_id': '10',\n",
       "    'lat': 55.793723,\n",
       "    'lng': 37.61618},\n",
       "   {'station_name': 'Рижская',\n",
       "    'line_name': 'Калужско-Рижская',\n",
       "    'station_id': '6.126',\n",
       "    'line_id': '6',\n",
       "    'lat': 55.792494,\n",
       "    'lng': 37.636114}]},\n",
       " 'allow_messages': True,\n",
       " 'site': {'id': 'hh', 'name': 'hh.ru'},\n",
       " 'experience': {'id': 'between1And3', 'name': 'От 1 года до 3 лет'},\n",
       " 'schedule': {'id': 'flexible', 'name': 'Гибкий график'},\n",
       " 'employment': {'id': 'full', 'name': 'Полная занятость'},\n",
       " 'department': None,\n",
       " 'contacts': None,\n",
       " 'description': '<p>Компания «ЭргоСоло» работает с 2002 года. Наш ключевой продукт – тренажер слепого десятипальцевого метода набора текста <strong>«СОЛО на клавиатуре»</strong>.</p> <p>Его прообраз появился еще в 1991 году, когда вышло первое издание самоучителя «Соло на пишущей машинке» Владимира Владимировича Шахиджаняна. В конце 1990-х была выпущена первая версия программы для настольных компьютеров. Последние несколько лет обучение частных лиц и корпоративных заказчиков ведется через онлайн-платформу.</p> <p>Среди клиентов «СОЛО» сотрудники Сбербанка, правительства Республики Татарстан, ряда крупных российских компаний, вузов и школ. Благодаря «СОЛО на клавиатуре» более 5 миллионов человек на постсоветском пространстве научились печать вслепую.</p> <p>Другой наш стратегический проект – авторский онлайн-курс Владимира Шахиджаняна <strong>«Учимся говорить публично»</strong>, который успешно освоили более 5 тысяч человек.<em> </em>В его основу лег 35-летний опыт преподавательской, журналистской и общественной деятельности автора. Сейчас мы ведем разработку новой версии курса, ориентированной на широкую аудиторию и развивающей навыки общения, проведения презентаций и публичных выступлений.</p> <p>Еще один важный проект компании – <strong>онлайн-книга «Курить, чтобы бросить!»</strong>, которая в интерактивном формате помогает справиться с курением всем желающим. Ежедневно сотни человек приступают к ее чтению, а многочисленные отзывы и благодарности подтверждают, что авторская методика и предложенные подходы действительно помогают справиться с проблемой.</p> <p>Кроме того, мы поддерживаем и развиваем ряд других тематических проектов и сообществ.</p> <p>Руководит компанией психолог, журналист и педагог Владимир Владимирович Шахиджанян, более 30 лет преподававший на факультете журналистики Московского государственного университета имени М.В. Ломоносова, автор книг «Мне интересны все люди», «1001 вопрос про ЭТО», «Учимся говорить публично», создатель наших обучающих онлайн-курсов.</p> <p>Все наши сотрудники владеют слепым десятипальцевым методом набора текста, и у вас также будет возможность его освоить. А если вы уже печатаете «вслепую», то обязательно напишите об этом в сопроводительном письме.</p> <p>В нашей команде царят домашняя атмосфера и дружелюбие. Мы ожидаем от сотрудников профессионализма, но при этом никого не заставляем трудиться на износ. Будем рады видеть в наших рядах специалистов, которые привыкли работать на результат и хотят гордиться своими проектами.</p> <p><strong>Обязанности:</strong></p> <p>– Оптимизация, развитие и рефакторинг web-интерфейсов существующих проектов.<br />– Проектирование и разработка web-интерфейсов и UI-компонентов для новых проектов.<br />– Адаптивная верстка страниц сайтов, посадочных страниц, электронных писем.</p> <p><strong>Требования:</strong></p> <p>Мы ожидаем, что вы:<br />– Имеете отличные знания HTML5/CSS3 и богатый опыт чистой верстки без препроцессоров и т.п.<br />– Имеете уверенные знания нативного JavaScript подкрепленные богатым практическим опытом.<br />– Применяете принципы ООП по назначению и не по наслышке знакомы с паттернами проектирования.<br />– Умеете писать понятный, легко читаемый и поддерживаемый код.<br />– Знакомы с особенностями работы основных браузеров (в частности мобильных).<br />– Знаете современный стек веб-технологий.<br />– Понимаете принципы работы AJAX и WebSocket.<br />– Имеете опыт разработки адаптивных веб-интерфейсов и UI-компонентов.</p> <p>Будет плюсом:<br />– Опыт работы с Twitter Bootstrap 3-4.<br />– Опыт работы с Vue.js и его экосистемой в production.<br />– Опыт работы с шаблонизаторами как на серверной, так и на клиентской сторонах.<br />– Опыт работы с XLST.<br />– Глубокое понимание взаимодействия между Client и Server, передачи и хранения данных, RESTFul.<br />– Владение командной строкой Unix.<br />– Владение системой контроля версий (git, svn и т.п.) на уровне понимания веток, слияний и практики хороших коммитов.</p> <p><strong>Стек используемых технологий:</strong></p> <p>Backend:<br />– Для разработки веб-сервисов мы используем Python, Django, Jinja2, Celery.<br />– В качестве СУБД и key-value хранилища у нас PostgreSQL, SQLite3, Redis, Berkeley DB.<br />– Кое-где применяем Elasticsearch.<br />– Для обработка запросов в режиме реального времени используем WebSocket в связке с Tornado.<br />– Конечно же Docker для инфраструктуры разработки и развертывания на серверах.</p> <p>Frontend:<br />– Классика: HTML5, CSS3, JavaScript.<br />– Для базовой верстки предпочитаем Twitter Bootstrap.<br />– В зависимости от задач используем Vanilla JS, jQuery, VueJS, PixiJS и еще много всего разного по мелочи.<br />– Немного экзотики в виде XML+XSLT.</p> <p>Системы контроля версий:<br />– GIT и SVN.</p> <p>В ближайшей перспективе планируем миграцию с собственных серверов в Яндекс.Облако с адаптацией кодовой базы под новую платформу и соответствующих PaaS-решений облака.</p> <p><strong>Условия работы:</strong></p> <p>– 7 минут пешком от метро Рижская или от метро Марьина Роща.<br />– Гибкое начало рабочего дня, график обсуждаем индивидуально.<br />– Возможность влиять на компанию и развитие ее продуктов.<br />– Хорошая столовая в офисном здании с бизнес-ланчем в обед.<br />– Для жителей Москвы возможна частичная работа из дома.<br />– Рассматриваем специалистов из регионов для удаленной работы.<br />– Официальное оформление, отпускные и больничные по ТК РФ.<br />– Готовы собеседовать по Skype и начинать сотрудничать удаленно.</p>',\n",
       " 'branded_description': None,\n",
       " 'vacancy_constructor_template': None,\n",
       " 'key_skills': [{'name': 'HTML5'},\n",
       "  {'name': 'CSS3'},\n",
       "  {'name': 'JavaScript'},\n",
       "  {'name': 'Ajax'},\n",
       "  {'name': 'WebSocket'}],\n",
       " 'accept_handicapped': False,\n",
       " 'accept_kids': False,\n",
       " 'archived': False,\n",
       " 'response_url': None,\n",
       " 'specializations': [{'id': '1.221',\n",
       "   'name': 'Программирование, Разработка',\n",
       "   'profarea_id': '1',\n",
       "   'profarea_name': 'Информационные технологии, интернет, телеком'},\n",
       "  {'id': '1.10',\n",
       "   'name': 'Web мастер',\n",
       "   'profarea_id': '1',\n",
       "   'profarea_name': 'Информационные технологии, интернет, телеком'}],\n",
       " 'code': None,\n",
       " 'hidden': False,\n",
       " 'quick_responses_allowed': False,\n",
       " 'driver_license_types': [],\n",
       " 'accept_incomplete_resumes': False,\n",
       " 'employer': {'id': '28247',\n",
       "  'name': 'ЭргоСОЛО',\n",
       "  'url': 'https://api.hh.ru/employers/28247',\n",
       "  'alternate_url': 'https://hh.ru/employer/28247',\n",
       "  'logo_urls': {'90': 'https://hhcdn.ru/employer-logo/977558.png',\n",
       "   '240': 'https://hhcdn.ru/employer-logo/977559.png',\n",
       "   'original': 'https://hhcdn.ru/employer-logo-original/226115.png'},\n",
       "  'vacancies_url': 'https://api.hh.ru/vacancies?employer_id=28247',\n",
       "  'trusted': True},\n",
       " 'published_at': '2020-04-25T22:28:04+0300',\n",
       " 'created_at': '2020-04-25T22:28:04+0300',\n",
       " 'negotiations_url': None,\n",
       " 'suitable_resumes_url': None,\n",
       " 'apply_alternate_url': 'https://hh.ru/applicant/vacancy_response?vacancyId=36497379',\n",
       " 'has_test': False,\n",
       " 'test': None,\n",
       " 'alternate_url': 'https://hh.ru/vacancy/36497379'}"
      ]
     },
     "execution_count": 3,
     "metadata": {},
     "output_type": "execute_result"
    }
   ],
   "source": [
    "in_data[1]\n"
   ]
  },
  {
   "cell_type": "code",
   "execution_count": null,
   "metadata": {},
   "outputs": [],
   "source": []
  },
  {
   "cell_type": "markdown",
   "metadata": {},
   "source": [
    "# 1. Выберем необходимые нам данные"
   ]
  },
  {
   "cell_type": "markdown",
   "metadata": {},
   "source": [
    "## 1.1. Соберем ключевые навыки для каждой вакансии\n"
   ]
  },
  {
   "cell_type": "code",
   "execution_count": 4,
   "metadata": {},
   "outputs": [
    {
     "data": {
      "text/plain": [
       "5938"
      ]
     },
     "execution_count": 4,
     "metadata": {},
     "output_type": "execute_result"
    }
   ],
   "source": [
    "all_vacancy = []\n",
    "for vacancy in in_data:\n",
    "    if 'key_skills' in vacancy:\n",
    "        skill_bloc = vacancy['key_skills']\n",
    "        one_skills = []\n",
    "        for i in skill_bloc:\n",
    "            one_skills.append(i['name'].lower())\n",
    "        \n",
    "        all_vacancy.append(one_skills)\n",
    "\n",
    "len(all_vacancy)\n"
   ]
  },
  {
   "cell_type": "code",
   "execution_count": 5,
   "metadata": {
    "scrolled": true
   },
   "outputs": [
    {
     "data": {
      "text/plain": [
       "[['perl', 'ruby', 'python', 'elixir', 'influxdb', 'kafka', 'grafana', 'php'],\n",
       " ['sass', 'javascript', 'jquery', 'html5', 'css'],\n",
       " ['c#', 'javascript', 'asp.net', 'mysql'],\n",
       " ['sql',\n",
       "  'ms sql',\n",
       "  'qlik sense',\n",
       "  'qlik view',\n",
       "  'qlik nprinting',\n",
       "  'qlik sense server',\n",
       "  'nprinting server'],\n",
       " [],\n",
       " ['c#', 'dotnet', 'asp.net', 'mvc', '.net framework'],\n",
       " [],\n",
       " ['javascript',\n",
       "  'node.js',\n",
       "  'html5',\n",
       "  'ориентация на результат',\n",
       "  'умение работать в команде'],\n",
       " ['java', 'android api', 'android studio', 'gradle', 'git', 'php'],\n",
       " ['английский язык', 'ведение документации', 'unreal', 'c++'],\n",
       " ['javascript', 'html', '1с-битрикс', 'css', 'php5', 'ооп'],\n",
       " ['бэкенд',\n",
       "  'erlang',\n",
       "  'erlang-otp',\n",
       "  'git',\n",
       "  'postgresql',\n",
       "  'redis',\n",
       "  'ruby on rails'],\n",
       " ['postgresql',\n",
       "  'git',\n",
       "  'mysql',\n",
       "  'javascript',\n",
       "  'symfony',\n",
       "  'php',\n",
       "  'rest',\n",
       "  'jquery',\n",
       "  'html5',\n",
       "  'css3',\n",
       "  'memcached',\n",
       "  'php5',\n",
       "  'linux',\n",
       "  'sql',\n",
       "  'ооп',\n",
       "  'json api',\n",
       "  'docker',\n",
       "  'sass'],\n",
       " ['wpf', 'wcf', 'c#', 'tfs', '.net framework'],\n",
       " [],\n",
       " [],\n",
       " ['php', 'mysql', 'ajax', 'html', 'css'],\n",
       " ['frontend разработчик'],\n",
       " ['python', 'django', 'postgresql', 'docker'],\n",
       " []]"
      ]
     },
     "execution_count": 5,
     "metadata": {},
     "output_type": "execute_result"
    }
   ],
   "source": [
    "all_vacancy[20:40]\n"
   ]
  },
  {
   "cell_type": "markdown",
   "metadata": {},
   "source": [
    "### Словарь предобработки\n",
    "\n",
    "Для предобработки данных будем использовать словарь с опечатками и разными написаниями навыков.\n",
    "\n",
    "Он был собран на основе наблюдений и анализа коррелирующих между собой навыков\n",
    "\n",
    "Так же навыки, в написании которых используются различные символы, изменил на буквенные написания. Например, 'c++' заменил на 'cplus' и т.п."
   ]
  },
  {
   "cell_type": "code",
   "execution_count": 6,
   "metadata": {},
   "outputs": [],
   "source": [
    "erratum = {\n",
    "\n",
    "    'f #': 'fsharp',\n",
    "    '#f': 'fsharp',\n",
    "    'f#': 'fsharp',\n",
    "    'c #': 'csharp',\n",
    "    'с#': 'csharp',\n",
    "    'c#': 'csharp',\n",
    "    'c ++': 'cplus',\n",
    "    'с++': 'cplus',\n",
    "    'c c++': 'cplus',\n",
    "    'с c++': 'cplus',\n",
    "    'с/c++': 'cplus',\n",
    "    'c/c++': 'cplus',\n",
    "    'c++': 'cplus',\n",
    "    'r#': 'rsharp',\n",
    "    'java,': 'java',\n",
    "    'qa engineer': 'qa',\n",
    "    'javascript': 'js',\n",
    "    'spring framework': 'spring',\n",
    "    'ооп': 'oop',\n",
    "    'субд': 'sql',\n",
    "    'знание js': 'js',\n",
    "    ' js': 'js',\n",
    "    '.js': 'js',\n",
    "    ' го ': 'go',\n",
    "    '1с': '1c',\n",
    "    '.net framework': '.net',\n",
    "    'postgresql': 'postgres', \n",
    "    'игры': 'games',\n",
    "    'тестировщик': 'тестирование',\n",
    "    'english': 'английский язык',\n",
    "    'ms sql server': 'sql server',\n",
    "    'data scient': 'data science',\n",
    "    'data scientist': 'data science',\n",
    "    'data scienceist': 'data science',\n",
    "    'data science': 'ds',\n",
    "    'machine learning': 'ml',\n",
    "    'битрикс': 'bitrix',\n",
    "    '1c bitrix': 'bitrix',\n",
    "    'spark,': 'spark',\n",
    "    'mongodb': 'mongo', \n",
    "    'scikit-learn': 'sklearn',\n",
    "    'scikit learn': 'sklearn',\n",
    "    'scikit': 'sklearn',\n",
    "    'django framework': 'django',\n",
    "    'анализ данных': 'data analysis',\n",
    "    'elasticsearch': 'elastic',\n",
    "    'unreal engine':'unreal',\n",
    "    'yii':'ii',\n",
    "    '.net csharp': 'net csharp',\n",
    "    '.net core': 'net core',\n",
    "    'nestjs': 'nest',\n",
    "    'matlab simulink': 'simulink',\n",
    "    'sql (percona)': 'percona',\n",
    "    'ibm datastage': 'datastage',\n",
    "    'raspberry pi': 'raspberry',\n",
    "    'rabbitmq': 'rabbit',\n",
    "    'scada': 'scad',\n",
    "    'automation engineer': 'qa automation',\n",
    "    'adobe indesign': 'indesign',\n",
    "    'qlik': 'qli',\n",
    "    'google data studio': 'data studio',\n",
    "    'salesforce.com': 'force.com',\n",
    "    'dpdk': 'pdk',\n",
    "    'bigdata': 'big data',\n",
    "    'ms sql': 'mssql',\n",
    "    'transact-sql': 't-sql',\n",
    "    'reverse engineering': 'reverse',\n",
    "    'docker swarm': 'swarm', \n",
    "    'entity framework': 'entity',\n",
    "    'unreal 4': 'unreal',\n",
    "    '1c: предприятие 8': '1c предприятие',\n",
    "    'dagger 2': 'dagger',\n",
    "    'hdfs': 'hadoop',\n",
    "    'rest api': 'rest',\n",
    "    'restful api': 'restful',\n",
    "    'тестирование по': 'тестирование', \n",
    "    'знание git': 'git',\n",
    "}"
   ]
  },
  {
   "cell_type": "code",
   "execution_count": 7,
   "metadata": {},
   "outputs": [],
   "source": [
    "# Фукнция очистки данных от знаков препинания, символов и исправления опечаток и различных написаний:\n",
    "\n",
    "def cleaned_text(text):\n",
    "    j = text.lower()\n",
    "    \n",
    "    for i in erratum:\n",
    "        if i in j:\n",
    "            while i in j:\n",
    "                j = j.replace(i, erratum[i])\n",
    "                \n",
    "    rep = re.compile(\"[^a-zA-Zа-яА-я\\d]\")\n",
    "    j = rep.sub(\" \", j)\n",
    "    return j\n"
   ]
  },
  {
   "cell_type": "code",
   "execution_count": 8,
   "metadata": {},
   "outputs": [
    {
     "data": {
      "text/plain": [
       "5938"
      ]
     },
     "execution_count": 8,
     "metadata": {},
     "output_type": "execute_result"
    }
   ],
   "source": [
    "# Очистим нашей функцией ключевые навыки:\n",
    "\n",
    "all_vacancy_cleaned = []\n",
    "\n",
    "for i in all_vacancy:\n",
    "    skills_l = []\n",
    "    for j in i:\n",
    "        j = cleaned_text(j)\n",
    "        skills_l.append(j.strip())\n",
    "    all_vacancy_cleaned.append(skills_l)\n",
    "    \n",
    "len(all_vacancy_cleaned)\n"
   ]
  },
  {
   "cell_type": "code",
   "execution_count": 9,
   "metadata": {},
   "outputs": [
    {
     "data": {
      "text/plain": [
       "[['perl', 'ruby', 'python', 'elixir', 'influxdb', 'kafka', 'grafana', 'php'],\n",
       " ['sass', 'js', 'jquery', 'html5', 'css'],\n",
       " ['csharp', 'js', 'asp net', 'mysql'],\n",
       " ['sql',\n",
       "  'mssql',\n",
       "  'qli sense',\n",
       "  'qli view',\n",
       "  'qli nprinting',\n",
       "  'qli sense server',\n",
       "  'nprinting server'],\n",
       " [],\n",
       " ['csharp', 'dotnet', 'asp net', 'mvc', 'net'],\n",
       " [],\n",
       " ['js',\n",
       "  'nodejs',\n",
       "  'html5',\n",
       "  'ориентация на результат',\n",
       "  'умение работать в команде'],\n",
       " ['java', 'android api', 'android studio', 'gradle', 'git', 'php'],\n",
       " ['английский язык', 'ведение документации', 'unreal', 'cplus']]"
      ]
     },
     "execution_count": 9,
     "metadata": {},
     "output_type": "execute_result"
    }
   ],
   "source": [
    "all_vacancy_cleaned[20:30]\n"
   ]
  },
  {
   "cell_type": "code",
   "execution_count": 10,
   "metadata": {},
   "outputs": [
    {
     "data": {
      "text/plain": [
       "2925"
      ]
     },
     "execution_count": 10,
     "metadata": {},
     "output_type": "execute_result"
    }
   ],
   "source": [
    "# Соберем все уникальные навыки:\n",
    "\n",
    "unique_skills = []\n",
    "for i in all_vacancy_cleaned:\n",
    "    for j in i:\n",
    "        if j not in unique_skills:\n",
    "            unique_skills.append(j)\n",
    "            \n",
    "len(unique_skills)\n"
   ]
  },
  {
   "cell_type": "code",
   "execution_count": 11,
   "metadata": {},
   "outputs": [
    {
     "data": {
      "text/plain": [
       "['angularjs',\n",
       " 'bootstrap',\n",
       " 'базы данных',\n",
       " 'mssql',\n",
       " 'html5',\n",
       " 'css3',\n",
       " 'js',\n",
       " 'ajax',\n",
       " 'websocket',\n",
       " 'csharp']"
      ]
     },
     "execution_count": 11,
     "metadata": {},
     "output_type": "execute_result"
    }
   ],
   "source": [
    "unique_skills[0:10]\n"
   ]
  },
  {
   "cell_type": "code",
   "execution_count": 12,
   "metadata": {},
   "outputs": [
    {
     "data": {
      "text/plain": [
       "2881"
      ]
     },
     "execution_count": 12,
     "metadata": {},
     "output_type": "execute_result"
    }
   ],
   "source": [
    "# Удалим различные слова, которые не являются навыками. Они были собраны в процессе анализа данных.\n",
    "\n",
    "del_skills = ['front-end', 'frontend', 'frontend-разработчик', 'front end', 'frontend разработчик', 'фронтенд',\n",
    "              'backend', 'back end', 'back-end', 'backend-разработчик', 'backend разработчик', 'frontend developer',\n",
    "              'разработчик', 'аналитик', 'разработка', 'обучение', 'программист', 'data', 'радио', 'full-stack',\n",
    "              'инженер', 'проектирование', 'интеграции', 'informatica', 'it', 'c', 'с', 'middle', 'full stack'\n",
    "              'фитнес', 'дизайн', 'russian', 'тренинги', 'портал', 'корпоративные мероприятия', 'fullstack'\n",
    "              'kiss', 'mes', 'renewals', 'гост', 'development', 'по', 'frameworks', 'pr', 'фитнес', 'мир',\n",
    "              'менеджмент', 'консалтинг', 'teamlead', 'стажер', 'kiss', 'full stack', 'fullstack', 'skype'\n",
    "             ]\n",
    "\n",
    "\n",
    "for i in del_skills:\n",
    "    if i in unique_skills:\n",
    "        unique_skills.remove(i)\n",
    "len(unique_skills)\n"
   ]
  },
  {
   "cell_type": "code",
   "execution_count": null,
   "metadata": {},
   "outputs": [],
   "source": []
  },
  {
   "cell_type": "markdown",
   "metadata": {},
   "source": [
    "## 1.2. Соберем данные о предлагаемой зарплате"
   ]
  },
  {
   "cell_type": "code",
   "execution_count": 13,
   "metadata": {},
   "outputs": [
    {
     "data": {
      "text/plain": [
       "5938"
      ]
     },
     "execution_count": 13,
     "metadata": {},
     "output_type": "execute_result"
    }
   ],
   "source": [
    "salary_for_frame = []\n",
    "\n",
    "for vacancy in in_data:\n",
    "    if 'salary' in vacancy:   \n",
    "        vac = vacancy['salary']\n",
    "        if vac:\n",
    "            salary_for_frame.append((vac['from'], vac['to'], vac['currency'], vac['gross']))\n",
    "        else:\n",
    "            salary_for_frame.append((None, None, None, None))\n",
    "len(salary_for_frame)\n"
   ]
  },
  {
   "cell_type": "code",
   "execution_count": 14,
   "metadata": {},
   "outputs": [
    {
     "data": {
      "text/plain": [
       "(90000, None, 'RUR', False)"
      ]
     },
     "execution_count": 14,
     "metadata": {},
     "output_type": "execute_result"
    }
   ],
   "source": [
    "salary_for_frame[20]\n"
   ]
  },
  {
   "cell_type": "code",
   "execution_count": 15,
   "metadata": {},
   "outputs": [],
   "source": [
    "salary_to = []\n",
    "salary_from = []\n",
    "salary_currency = []\n",
    "salary_gross = []\n",
    "\n",
    "for i in salary_for_frame:\n",
    "    salary_from.append(i[0])\n",
    "    salary_to.append(i[1])\n",
    "    salary_currency.append(i[2])\n",
    "    salary_gross.append(i[3])   \n",
    "    "
   ]
  },
  {
   "cell_type": "code",
   "execution_count": 16,
   "metadata": {},
   "outputs": [
    {
     "name": "stdout",
     "output_type": "stream",
     "text": [
      "1348 966\n"
     ]
    }
   ],
   "source": [
    "# Расчитаем среднюю разницу между предлагаемыми зарплатами \"от\" и \"до\":\n",
    "\n",
    "l_from = []\n",
    "l_to = []\n",
    "\n",
    "EUR = 80\n",
    "USD = 74\n",
    "\n",
    "for vacancy in in_data:\n",
    "    if 'salary' in vacancy:\n",
    "        sal = vacancy['salary']\n",
    "        \n",
    "        if sal:\n",
    "            if sal['from']:\n",
    "                if sal['currency'] == 'EUR':\n",
    "                    salaru_f = sal['from'] * EUR\n",
    "                elif sal['currency'] == 'USD':\n",
    "                    salaru_f = sal['from'] * USD\n",
    "                elif sal['currency'] == 'RUR':\n",
    "                    salaru_f = sal['from']\n",
    "                l_from.append(salaru_f)\n",
    "            \n",
    "            if sal['to']:\n",
    "                if sal['currency'] == 'EUR':\n",
    "                    salaru_t = sal['to'] * EUR\n",
    "                elif sal['currency'] == 'USD':\n",
    "                    salaru_t = sal['to'] * USD\n",
    "                elif sal['currency'] == 'RUR':\n",
    "                    salaru_t = sal['to']\n",
    "                \n",
    "                l_to.append(salaru_t)\n",
    "\n",
    "print(len(l_from), len(l_to))\n"
   ]
  },
  {
   "cell_type": "code",
   "execution_count": 17,
   "metadata": {},
   "outputs": [
    {
     "name": "stdout",
     "output_type": "stream",
     "text": [
      "120000.0 150000.0 1.25 0.8\n"
     ]
    }
   ],
   "source": [
    "coef_from = np.median(l_to) / np.median(l_from)\n",
    "coef_to = np.median(l_from) / np.median(l_to)\n",
    "\n",
    "print(np.median(l_from), np.median(l_to), coef_from, coef_to)\n"
   ]
  },
  {
   "cell_type": "markdown",
   "metadata": {},
   "source": [
    "Разница в предлагаемой зарплате \"от\" и \"до\" составляет 1,25 раза, и 0,8 - наоборот\n"
   ]
  },
  {
   "cell_type": "markdown",
   "metadata": {},
   "source": [
    "Создадим размер предлагаемой зарплаты, которую и будем использовать в дальнейших расчетах.\n",
    "\n",
    "1. Все вакансии в валюте переведем в рубли\n",
    "2. Если в вакансии указаны зарплаты \"от\" и \"до\", то возьмем среднее\n",
    "3. Если в вакансии указана зарплата только \"от\", то умножим ее на 1,25\n",
    "4. Если в вакансии указана зарплата только \"до\", то умножим ее на 0,8\n"
   ]
  },
  {
   "cell_type": "code",
   "execution_count": 18,
   "metadata": {},
   "outputs": [
    {
     "data": {
      "text/plain": [
       "5938"
      ]
     },
     "execution_count": 18,
     "metadata": {},
     "output_type": "execute_result"
    }
   ],
   "source": [
    "\n",
    "EUR = 80\n",
    "USD = 74\n",
    "\n",
    "list_salary = []\n",
    "\n",
    "for vacancy in in_data:\n",
    "    if 'salary' in vacancy: \n",
    "        sal = vacancy['salary']\n",
    "        \n",
    "        if sal:\n",
    "            if sal['from'] and sal['to']: salaru_vac = (sal['from'] + sal['to']) / 2 \n",
    "            elif sal['from']: salaru_vac = sal['from'] * coef_from\n",
    "            elif sal['to']: salaru_vac = sal['to'] * coef_to\n",
    "            else: salaru_vac = 0\n",
    "\n",
    "            if sal['currency'] == 'EUR': salaru_itog = salaru_vac * EUR\n",
    "            elif sal['currency'] == 'USD': salaru_itog = salaru_vac * USD\n",
    "            elif sal['currency'] == 'RUR': salaru_itog = salaru_vac\n",
    "                \n",
    "        else:\n",
    "            salaru_itog = 0\n",
    "        \n",
    "        list_salary.append(int(salaru_itog))\n",
    "        \n",
    "len(list_salary)\n"
   ]
  },
  {
   "cell_type": "code",
   "execution_count": 74,
   "metadata": {},
   "outputs": [
    {
     "data": {
      "image/png": "[encoded data removed]",
      "text/plain": [
       "<Figure size 432x288 with 1 Axes>"
      ]
     },
     "metadata": {
      "needs_background": "light"
     },
     "output_type": "display_data"
    }
   ],
   "source": [
    "# Посмотрим на распределение зарплат:\n",
    "\n",
    "salary_hist = [i for i in list_salary if i > 0]\n",
    "plt.hist(salary_hist, bins = 30);\n"
   ]
  },
  {
   "cell_type": "markdown",
   "metadata": {},
   "source": [
    "## 1.3. Соберем тип занятости\n"
   ]
  },
  {
   "cell_type": "code",
   "execution_count": 20,
   "metadata": {},
   "outputs": [
    {
     "data": {
      "text/plain": [
       "5938"
      ]
     },
     "execution_count": 20,
     "metadata": {},
     "output_type": "execute_result"
    }
   ],
   "source": [
    "vacancy_employment = []\n",
    "\n",
    "for vacancy in in_data:\n",
    "    if 'employment' in vacancy:\n",
    "        vacancy_employment.append(vacancy['employment']['id'])\n",
    "\n",
    "len(vacancy_employment)\n"
   ]
  },
  {
   "cell_type": "code",
   "execution_count": 21,
   "metadata": {},
   "outputs": [
    {
     "data": {
      "text/plain": [
       "array(['full', 'part', 'probation', 'project'], dtype='<U9')"
      ]
     },
     "execution_count": 21,
     "metadata": {},
     "output_type": "execute_result"
    }
   ],
   "source": [
    "np.unique(vacancy_employment)\n"
   ]
  },
  {
   "cell_type": "markdown",
   "metadata": {},
   "source": [
    "## 1.4. Соберем все описания вакансий"
   ]
  },
  {
   "cell_type": "code",
   "execution_count": 22,
   "metadata": {},
   "outputs": [
    {
     "data": {
      "text/plain": [
       "5938"
      ]
     },
     "execution_count": 22,
     "metadata": {},
     "output_type": "execute_result"
    }
   ],
   "source": [
    "vacancy_descriptions = []\n",
    "\n",
    "for vacancy in in_data:\n",
    "    if 'description' in vacancy:\n",
    "        text_vacancy = vacancy['description'].lower()\n",
    "        \n",
    "        vacancy_descriptions.append(text_vacancy)\n",
    "\n",
    "len(vacancy_descriptions)\n"
   ]
  },
  {
   "cell_type": "code",
   "execution_count": 23,
   "metadata": {},
   "outputs": [
    {
     "data": {
      "text/plain": [
       "'<p>наша компания уже много лет работает над сложными проектами, в том числе крупными b2b, которые состоят из десятков сервисов на ruby/rails, erlang, elixir, jruby, java.</p> <p>мы сами создаем и поддерживаем проекты, поэтому для нас важно контролировать корректность их работы. вам предлагается присоединиться к нашей команде и заняться разработкой инструментов, позволяющих мониторить сервисы, собирать и анализировать их логи и, в конечном итоге, улучшать их работу.</p> <p> </p> <p><strong>наш стек:</strong></p> <ul> <li>логи и apache flume, kafka, hdfs, pig, spark, elasticsearch, kibana, filebeat.</li> <li>метрики и influxdb, kapacitor, telegraf, grafana.</li> </ul> <p> </p> <p><strong>что нужно уметь:</strong></p> <ul> <li>понимать, что такое метрики сервисов, и иметь интерес к этой теме.</li> <li>иметь опыт бэкенд разработки на любом из мейнстримовых скриптовых языков: python/perl/node.js/ruby/php/...</li> <li>хорошо знать linux как со стороны разработчика, так и со стороны пользователя.</li> </ul> <p>если вы не вполне уверены в соответствии требованиям, но упомянутые технологии вам интересны, вы хотите ими заниматься и можете похвастаться способностью разбираться в сложных вещах и изучать их, то мы тоже готовы рассмотреть вашу кандидатуру: у вас будет время получить необходимые знания.</p> <p><strong>условия:</strong></p> <ul> <li>работать в офисе компании в москве (м. полянка).</li> <li>рабочий день с 10.00 до 19.00;</li> <li>оформление по тк рф;</li> <li>бонусная программа 50%-го софинанансирования покупки техники.</li> </ul> <p> </p>'"
      ]
     },
     "execution_count": 23,
     "metadata": {},
     "output_type": "execute_result"
    }
   ],
   "source": [
    "vacancy_descriptions[20]\n"
   ]
  },
  {
   "cell_type": "code",
   "execution_count": 24,
   "metadata": {},
   "outputs": [
    {
     "name": "stdout",
     "output_type": "stream",
     "text": [
      "CPU times: user 12.5 s, sys: 126 ms, total: 12.6 s\n",
      "Wall time: 12.8 s\n"
     ]
    },
    {
     "data": {
      "text/plain": [
       "5938"
      ]
     },
     "execution_count": 24,
     "metadata": {},
     "output_type": "execute_result"
    }
   ],
   "source": [
    "%%time\n",
    "\n",
    "# Удалим все html-тэги\n",
    "\n",
    "vacancy_descriptions = [BeautifulSoup(doc, \"html.parser\").text.lower() for doc in vacancy_descriptions]\n",
    "len(vacancy_descriptions)\n"
   ]
  },
  {
   "cell_type": "code",
   "execution_count": 25,
   "metadata": {},
   "outputs": [
    {
     "data": {
      "text/plain": [
       "'наша компания уже много лет работает над сложными проектами, в том числе крупными b2b, которые состоят из десятков сервисов на ruby/rails, erlang, elixir, jruby, java. мы сами создаем и поддерживаем проекты, поэтому для нас важно контролировать корректность их работы. вам предлагается присоединиться к нашей команде и заняться разработкой инструментов, позволяющих мониторить сервисы, собирать и анализировать их логи и, в конечном итоге, улучшать их работу.   наш стек:  логи и apache flume, kafka, hdfs, pig, spark, elasticsearch, kibana, filebeat. метрики и influxdb, kapacitor, telegraf, grafana.    что нужно уметь:  понимать, что такое метрики сервисов, и иметь интерес к этой теме. иметь опыт бэкенд разработки на любом из мейнстримовых скриптовых языков: python/perl/node.js/ruby/php/... хорошо знать linux как со стороны разработчика, так и со стороны пользователя.  если вы не вполне уверены в соответствии требованиям, но упомянутые технологии вам интересны, вы хотите ими заниматься и можете похвастаться способностью разбираться в сложных вещах и изучать их, то мы тоже готовы рассмотреть вашу кандидатуру: у вас будет время получить необходимые знания. условия:  работать в офисе компании в москве (м. полянка). рабочий день с 10.00 до 19.00; оформление по тк рф; бонусная программа 50%-го софинанансирования покупки техники.   '"
      ]
     },
     "execution_count": 25,
     "metadata": {},
     "output_type": "execute_result"
    }
   ],
   "source": [
    "vacancy_descriptions[20]\n"
   ]
  },
  {
   "cell_type": "code",
   "execution_count": 26,
   "metadata": {},
   "outputs": [
    {
     "data": {
      "text/plain": [
       "5938"
      ]
     },
     "execution_count": 26,
     "metadata": {},
     "output_type": "execute_result"
    }
   ],
   "source": [
    "# Очистим описания вакансий и вставим в начало и конец пробелы, \n",
    "# это будет необходимо в дальнейшем при составлении векторов навыков\n",
    "\n",
    "vacancy_descriptions_cleaned = []\n",
    "for i in vacancy_descriptions:\n",
    "    vacancy_descriptions_cleaned.append(' ' + cleaned_text(i) + ' ')\n",
    "\n",
    "len(vacancy_descriptions_cleaned)\n"
   ]
  },
  {
   "cell_type": "code",
   "execution_count": 27,
   "metadata": {},
   "outputs": [
    {
     "data": {
      "text/plain": [
       "' наша компания уже много лет работает над сложными проектами  в том числе крупными b2b  которые состоят из десятков сервисов на ruby rails  erlang  elixir  jruby  java  мы сами создаем и поддерживаем проекты  поэтому для нас важно контролировать корректность их работы  вам предлагается присоединиться к нашей команде и заняться разработкой инструментов  позволяющих мониторить сервисы  собирать и анализировать их логи и  в конечном итоге  улучшать их работу    наш стек   логи и apache flume  kafka  hadoop  pig  spark elastic  kibana  filebeat  метрики и influxdb  kapacitor  telegraf  grafana     что нужно уметь   понимать  что такое метрики сервисов  и иметь интерес к этой теме  иметь опыт бэкенд разработки на любом из мейнстримовых скриптовых языков  python perl nodejs ruby php     хорошо знать linux как со стороны разработчика  так и со стороны пользователя   если вы не вполне уверены в соответствии требованиям  но упомянутые технологии вам интересны  вы хотите ими заниматься и можете похвастаться способностью разбираться в сложных вещах и изучать их  то мы тоже готовы рассмотреть вашу кандидатуру  у вас будет время получить необходимые знания  условия   работать в офисе компании в москве  м  полянка   рабочий день с 10 00 до 19 00  оформление по тк рф  бонусная программа 50  го софинанансирования покупки техники     '"
      ]
     },
     "execution_count": 27,
     "metadata": {},
     "output_type": "execute_result"
    }
   ],
   "source": [
    "vacancy_descriptions_cleaned[20]\n"
   ]
  },
  {
   "cell_type": "markdown",
   "metadata": {},
   "source": [
    "## 1.5. Соберем названия вакансий\n"
   ]
  },
  {
   "cell_type": "code",
   "execution_count": 28,
   "metadata": {},
   "outputs": [
    {
     "data": {
      "text/plain": [
       "5938"
      ]
     },
     "execution_count": 28,
     "metadata": {},
     "output_type": "execute_result"
    }
   ],
   "source": [
    "vacancy_name = []\n",
    "\n",
    "for vacancy in in_data:\n",
    "    if 'name' in vacancy:\n",
    "        text_vacancy = vacancy['name'].lower()        \n",
    "        vacancy_name.append(text_vacancy)\n",
    "\n",
    "len(vacancy_name)\n"
   ]
  },
  {
   "cell_type": "code",
   "execution_count": 29,
   "metadata": {},
   "outputs": [
    {
     "data": {
      "text/plain": [
       "'full-stack разработчик .net/c#'"
      ]
     },
     "execution_count": 29,
     "metadata": {},
     "output_type": "execute_result"
    }
   ],
   "source": [
    "vacancy_name[3]\n"
   ]
  },
  {
   "cell_type": "code",
   "execution_count": 30,
   "metadata": {},
   "outputs": [
    {
     "data": {
      "text/plain": [
       "5938"
      ]
     },
     "execution_count": 30,
     "metadata": {},
     "output_type": "execute_result"
    }
   ],
   "source": [
    "# Обработаем названия и так же добавим в начало и конец пробелы\n",
    "\n",
    "vacancy_name_cleaned = []\n",
    "for i in vacancy_name:\n",
    "    vacancy_name_cleaned.append(' ' + cleaned_text(i) + ' ')\n",
    "\n",
    "len(vacancy_name_cleaned)\n"
   ]
  },
  {
   "cell_type": "code",
   "execution_count": 31,
   "metadata": {},
   "outputs": [
    {
     "data": {
      "text/plain": [
       "' full stack разработчик  net csharp '"
      ]
     },
     "execution_count": 31,
     "metadata": {},
     "output_type": "execute_result"
    }
   ],
   "source": [
    "vacancy_name_cleaned[3]\n"
   ]
  },
  {
   "cell_type": "markdown",
   "metadata": {},
   "source": [
    "## 1.6. Соберем все ссылки на вакансии\n"
   ]
  },
  {
   "cell_type": "code",
   "execution_count": 32,
   "metadata": {},
   "outputs": [
    {
     "data": {
      "text/plain": [
       "5938"
      ]
     },
     "execution_count": 32,
     "metadata": {},
     "output_type": "execute_result"
    }
   ],
   "source": [
    "alternate_url = []\n",
    "for vacancy in in_data:\n",
    "    if 'alternate_url' in vacancy:\n",
    "        alternate_url.append(vacancy['alternate_url'])\n",
    "\n",
    "len(alternate_url)\n"
   ]
  },
  {
   "cell_type": "markdown",
   "metadata": {},
   "source": [
    "## 1.7. Соберем требуемый опыт"
   ]
  },
  {
   "cell_type": "markdown",
   "metadata": {},
   "source": [
    "Обозначение требуемого опыта:\n",
    "    - noExperience - без опыта - junior\n",
    "    - between1And3 - от 1 года до 3 - middle\n",
    "    - between3And6 - от 3 до 6 лет - senior\n",
    "    - moreThan6 - более 6 лет - senior\n",
    "    "
   ]
  },
  {
   "cell_type": "code",
   "execution_count": 33,
   "metadata": {},
   "outputs": [
    {
     "data": {
      "text/plain": [
       "5938"
      ]
     },
     "execution_count": 33,
     "metadata": {},
     "output_type": "execute_result"
    }
   ],
   "source": [
    "experiences = []\n",
    "for i in in_data:\n",
    "    if 'experience' in i:\n",
    "        if i['experience']['id'] == 'noExperience':\n",
    "            experiences.append('junior')\n",
    "        elif i['experience']['id'] == 'between1And3':\n",
    "            experiences.append('middle')\n",
    "        else:\n",
    "            experiences.append('senior')\n",
    "\n",
    "len(experiences)\n"
   ]
  },
  {
   "cell_type": "code",
   "execution_count": 34,
   "metadata": {},
   "outputs": [
    {
     "data": {
      "text/plain": [
       "array(['junior', 'middle', 'senior'], dtype='<U6')"
      ]
     },
     "execution_count": 34,
     "metadata": {},
     "output_type": "execute_result"
    }
   ],
   "source": [
    "np.unique(experiences)\n"
   ]
  },
  {
   "cell_type": "code",
   "execution_count": null,
   "metadata": {},
   "outputs": [],
   "source": []
  },
  {
   "cell_type": "markdown",
   "metadata": {},
   "source": [
    "# 2. Сформируем профиль навыков каждой вакансии"
   ]
  },
  {
   "cell_type": "markdown",
   "metadata": {},
   "source": [
    "Мы проходим по общему списку наших ключевых навыком и, если оно встречается в описании, названии или навыках, добавляем в профиль.\n",
    "\n",
    "Чтобы не вычленять навыки из обычных слов (например, навык 'oop' можно найти в слове 'hadoop'), мы будем использовать при поиске ключевого слова только при наличии пробелов \"вокруг\" слова.\n",
    "Как раз для этого нам пригодятся пробелы в начале и конце описаний и названий, т.к. ключевой навых может стоять в начале или конце описания.\n",
    "\n"
   ]
  },
  {
   "cell_type": "code",
   "execution_count": 35,
   "metadata": {},
   "outputs": [
    {
     "name": "stdout",
     "output_type": "stream",
     "text": [
      "5938 5938\n",
      "CPU times: user 35.3 s, sys: 429 ms, total: 35.7 s\n",
      "Wall time: 36.4 s\n"
     ]
    }
   ],
   "source": [
    "%%time\n",
    "\n",
    "one_vacancy_t = [] # вектор наличия/отсутствия навыка\n",
    "one_vac_skills = [] # список навыков вакансий\n",
    "\n",
    "for s in range(len(all_vacancy_cleaned)):\n",
    "    i = all_vacancy_cleaned[s]\n",
    "    j = vacancy_descriptions_cleaned[s]\n",
    "    g = vacancy_name_cleaned[s]\n",
    "    \n",
    "    \n",
    "    one_vacancy = []\n",
    "    one_vac_s = []\n",
    "    for k in unique_skills:\n",
    "        kk = ' ' + k + ' '\n",
    "        if (kk in i) or (kk in j) or (kk in g):\n",
    "            one_vacancy.append(1)\n",
    "            one_vac_s.append(k)\n",
    "        else:\n",
    "            one_vacancy.append(0)\n",
    "    one_vacancy_t.append(one_vacancy)\n",
    "    one_vac_skills.append(one_vac_s)\n",
    "\n",
    "print(len(one_vacancy_t), len(one_vac_skills))\n"
   ]
  },
  {
   "cell_type": "code",
   "execution_count": 36,
   "metadata": {},
   "outputs": [
    {
     "data": {
      "text/plain": [
       "5938"
      ]
     },
     "execution_count": 36,
     "metadata": {},
     "output_type": "execute_result"
    }
   ],
   "source": [
    "# Переведем списки навыков каждой вакансии в строки:\n",
    "\n",
    "one_vac_skills_fr = list()\n",
    "for i in one_vac_skills:\n",
    "    st = ''\n",
    "    for j in i:\n",
    "        st = st + j + ' '\n",
    "    one_vac_skills_fr.append(st)\n",
    "\n",
    "len(one_vac_skills_fr)\n"
   ]
  },
  {
   "cell_type": "code",
   "execution_count": 37,
   "metadata": {},
   "outputs": [
    {
     "data": {
      "text/html": [
       "<div>\n",
       "<style scoped>\n",
       "    .dataframe tbody tr th:only-of-type {\n",
       "        vertical-align: middle;\n",
       "    }\n",
       "\n",
       "    .dataframe tbody tr th {\n",
       "        vertical-align: top;\n",
       "    }\n",
       "\n",
       "    .dataframe thead th {\n",
       "        text-align: right;\n",
       "    }\n",
       "</style>\n",
       "<table border=\"1\" class=\"dataframe\">\n",
       "  <thead>\n",
       "    <tr style=\"text-align: right;\">\n",
       "      <th></th>\n",
       "      <th>name</th>\n",
       "      <th>skills</th>\n",
       "      <th>describe</th>\n",
       "      <th>url</th>\n",
       "      <th>salary_from</th>\n",
       "      <th>salary_to</th>\n",
       "      <th>salary_currency</th>\n",
       "      <th>salary_gross</th>\n",
       "      <th>salary_median</th>\n",
       "      <th>experience</th>\n",
       "      <th>employment</th>\n",
       "    </tr>\n",
       "  </thead>\n",
       "  <tbody>\n",
       "    <tr>\n",
       "      <th>0</th>\n",
       "      <td>программист разработчик</td>\n",
       "      <td>angularjs bootstrap mssql spring redmine maven...</td>\n",
       "      <td>обязанности    у нас есть   работающий проект...</td>\n",
       "      <td>https://hh.ru/vacancy/36540961</td>\n",
       "      <td>200000.0</td>\n",
       "      <td>NaN</td>\n",
       "      <td>RUR</td>\n",
       "      <td>False</td>\n",
       "      <td>250000</td>\n",
       "      <td>middle</td>\n",
       "      <td>project</td>\n",
       "    </tr>\n",
       "    <tr>\n",
       "      <th>1</th>\n",
       "      <td>frontend разработчик</td>\n",
       "      <td>bootstrap html5 css3 js ajax websocket git vue...</td>\n",
       "      <td>компания  эргосоло  работает с 2002 года  наш...</td>\n",
       "      <td>https://hh.ru/vacancy/36497379</td>\n",
       "      <td>120000.0</td>\n",
       "      <td>NaN</td>\n",
       "      <td>RUR</td>\n",
       "      <td>False</td>\n",
       "      <td>150000</td>\n",
       "      <td>middle</td>\n",
       "      <td>full</td>\n",
       "    </tr>\n",
       "    <tr>\n",
       "      <th>2</th>\n",
       "      <td>ведущий frontend разработчик</td>\n",
       "      <td>bootstrap js react angular vuejs oop css es6 s...</td>\n",
       "      <td>verme уже более 6 лет является экспертом wfm ...</td>\n",
       "      <td>https://hh.ru/vacancy/35493020</td>\n",
       "      <td>150000.0</td>\n",
       "      <td>NaN</td>\n",
       "      <td>RUR</td>\n",
       "      <td>False</td>\n",
       "      <td>187500</td>\n",
       "      <td>senior</td>\n",
       "      <td>full</td>\n",
       "    </tr>\n",
       "    <tr>\n",
       "      <th>3</th>\n",
       "      <td>full stack разработчик  net csharp</td>\n",
       "      <td>mssql csharp net wpf рефакторинг умение работа...</td>\n",
       "      <td>региональное представительство компании quipu...</td>\n",
       "      <td>https://hh.ru/vacancy/36741295</td>\n",
       "      <td>1800.0</td>\n",
       "      <td>NaN</td>\n",
       "      <td>EUR</td>\n",
       "      <td>False</td>\n",
       "      <td>180000</td>\n",
       "      <td>middle</td>\n",
       "      <td>full</td>\n",
       "    </tr>\n",
       "    <tr>\n",
       "      <th>4</th>\n",
       "      <td>frontend разработчик</td>\n",
       "      <td>react webpack redux typescript api ux saga sty...</td>\n",
       "      <td>расширяем команду  и ищемjs разработчика  с ш...</td>\n",
       "      <td>https://hh.ru/vacancy/36676120</td>\n",
       "      <td>220000.0</td>\n",
       "      <td>260000.0</td>\n",
       "      <td>RUR</td>\n",
       "      <td>False</td>\n",
       "      <td>240000</td>\n",
       "      <td>senior</td>\n",
       "      <td>full</td>\n",
       "    </tr>\n",
       "  </tbody>\n",
       "</table>\n",
       "</div>"
      ],
      "text/plain": [
       "                                   name  \\\n",
       "0              программист разработчик    \n",
       "1                 frontend разработчик    \n",
       "2         ведущий frontend разработчик    \n",
       "3   full stack разработчик  net csharp    \n",
       "4                 frontend разработчик    \n",
       "\n",
       "                                              skills  \\\n",
       "0  angularjs bootstrap mssql spring redmine maven...   \n",
       "1  bootstrap html5 css3 js ajax websocket git vue...   \n",
       "2  bootstrap js react angular vuejs oop css es6 s...   \n",
       "3  mssql csharp net wpf рефакторинг умение работа...   \n",
       "4  react webpack redux typescript api ux saga sty...   \n",
       "\n",
       "                                            describe  \\\n",
       "0   обязанности    у нас есть   работающий проект...   \n",
       "1   компания  эргосоло  работает с 2002 года  наш...   \n",
       "2   verme уже более 6 лет является экспертом wfm ...   \n",
       "3   региональное представительство компании quipu...   \n",
       "4   расширяем команду  и ищемjs разработчика  с ш...   \n",
       "\n",
       "                              url  salary_from  salary_to salary_currency  \\\n",
       "0  https://hh.ru/vacancy/36540961     200000.0        NaN             RUR   \n",
       "1  https://hh.ru/vacancy/36497379     120000.0        NaN             RUR   \n",
       "2  https://hh.ru/vacancy/35493020     150000.0        NaN             RUR   \n",
       "3  https://hh.ru/vacancy/36741295       1800.0        NaN             EUR   \n",
       "4  https://hh.ru/vacancy/36676120     220000.0   260000.0             RUR   \n",
       "\n",
       "  salary_gross  salary_median experience employment  \n",
       "0        False         250000     middle    project  \n",
       "1        False         150000     middle       full  \n",
       "2        False         187500     senior       full  \n",
       "3        False         180000     middle       full  \n",
       "4        False         240000     senior       full  "
      ]
     },
     "execution_count": 37,
     "metadata": {},
     "output_type": "execute_result"
    }
   ],
   "source": [
    "# Создадим DataFrame с данными вакансий:\n",
    "\n",
    "dic_for_frame = {\n",
    "    'name': vacancy_name_cleaned,\n",
    "    'skills': one_vac_skills_fr,\n",
    "    'describe': vacancy_descriptions_cleaned,\n",
    "    'url': alternate_url,\n",
    "    'salary_from': salary_from,\n",
    "    'salary_to': salary_to,\n",
    "    'salary_currency': salary_currency,\n",
    "    'salary_gross': salary_gross,\n",
    "    'salary_median': list_salary,\n",
    "    'experience': experiences,\n",
    "    'employment': vacancy_employment,\n",
    "}\n",
    "\n",
    "data_vacances = pd.DataFrame(dic_for_frame)\n",
    "data_vacances.head()\n"
   ]
  },
  {
   "cell_type": "code",
   "execution_count": null,
   "metadata": {},
   "outputs": [],
   "source": []
  },
  {
   "cell_type": "markdown",
   "metadata": {},
   "source": [
    "# 3. Краткий обзор собранных данных"
   ]
  },
  {
   "cell_type": "markdown",
   "metadata": {},
   "source": [
    "## 3.1. Посмотрим на требуемый опыт"
   ]
  },
  {
   "cell_type": "code",
   "execution_count": 38,
   "metadata": {},
   "outputs": [
    {
     "data": {
      "text/plain": [
       "middle    2735\n",
       "senior    2653\n",
       "junior     550\n",
       "Name: experience, dtype: int64"
      ]
     },
     "execution_count": 38,
     "metadata": {},
     "output_type": "execute_result"
    }
   ],
   "source": [
    "data_vacances['experience'].value_counts()\n"
   ]
  },
  {
   "cell_type": "markdown",
   "metadata": {},
   "source": [
    "## 3.2. Тип занятости"
   ]
  },
  {
   "cell_type": "code",
   "execution_count": 39,
   "metadata": {},
   "outputs": [
    {
     "data": {
      "text/plain": [
       "full         5771\n",
       "part           75\n",
       "project        57\n",
       "probation      35\n",
       "Name: employment, dtype: int64"
      ]
     },
     "execution_count": 39,
     "metadata": {},
     "output_type": "execute_result"
    }
   ],
   "source": [
    "data_vacances['employment'].value_counts()\n"
   ]
  },
  {
   "cell_type": "code",
   "execution_count": null,
   "metadata": {},
   "outputs": [],
   "source": []
  },
  {
   "cell_type": "markdown",
   "metadata": {},
   "source": [
    "## 3.3. Посмотрим на зарплаты "
   ]
  },
  {
   "cell_type": "code",
   "execution_count": 40,
   "metadata": {},
   "outputs": [
    {
     "data": {
      "image/png": "[encoded data removed]",
      "text/plain": [
       "<Figure size 432x288 with 1 Axes>"
      ]
     },
     "metadata": {
      "needs_background": "light"
     },
     "output_type": "display_data"
    }
   ],
   "source": [
    "plt.hist(data_vacances['salary_median']);\n"
   ]
  },
  {
   "cell_type": "code",
   "execution_count": 41,
   "metadata": {},
   "outputs": [
    {
     "data": {
      "text/html": [
       "<div>\n",
       "<style scoped>\n",
       "    .dataframe tbody tr th:only-of-type {\n",
       "        vertical-align: middle;\n",
       "    }\n",
       "\n",
       "    .dataframe tbody tr th {\n",
       "        vertical-align: top;\n",
       "    }\n",
       "\n",
       "    .dataframe thead th {\n",
       "        text-align: right;\n",
       "    }\n",
       "</style>\n",
       "<table border=\"1\" class=\"dataframe\">\n",
       "  <thead>\n",
       "    <tr style=\"text-align: right;\">\n",
       "      <th></th>\n",
       "      <th>name</th>\n",
       "      <th>skills</th>\n",
       "      <th>describe</th>\n",
       "      <th>url</th>\n",
       "      <th>salary_from</th>\n",
       "      <th>salary_to</th>\n",
       "      <th>salary_currency</th>\n",
       "      <th>salary_gross</th>\n",
       "      <th>salary_median</th>\n",
       "      <th>experience</th>\n",
       "      <th>employment</th>\n",
       "    </tr>\n",
       "  </thead>\n",
       "  <tbody>\n",
       "    <tr>\n",
       "      <th>1</th>\n",
       "      <td>frontend разработчик</td>\n",
       "      <td>bootstrap html5 css3 js ajax websocket git vue...</td>\n",
       "      <td>компания  эргосоло  работает с 2002 года  наш...</td>\n",
       "      <td>https://hh.ru/vacancy/36497379</td>\n",
       "      <td>120000.0</td>\n",
       "      <td>NaN</td>\n",
       "      <td>RUR</td>\n",
       "      <td>False</td>\n",
       "      <td>150000</td>\n",
       "      <td>middle</td>\n",
       "      <td>full</td>\n",
       "    </tr>\n",
       "    <tr>\n",
       "      <th>2</th>\n",
       "      <td>ведущий frontend разработчик</td>\n",
       "      <td>bootstrap js react angular vuejs oop css es6 s...</td>\n",
       "      <td>verme уже более 6 лет является экспертом wfm ...</td>\n",
       "      <td>https://hh.ru/vacancy/35493020</td>\n",
       "      <td>150000.0</td>\n",
       "      <td>NaN</td>\n",
       "      <td>RUR</td>\n",
       "      <td>False</td>\n",
       "      <td>187500</td>\n",
       "      <td>senior</td>\n",
       "      <td>full</td>\n",
       "    </tr>\n",
       "    <tr>\n",
       "      <th>3</th>\n",
       "      <td>full stack разработчик  net csharp</td>\n",
       "      <td>mssql csharp net wpf рефакторинг умение работа...</td>\n",
       "      <td>региональное представительство компании quipu...</td>\n",
       "      <td>https://hh.ru/vacancy/36741295</td>\n",
       "      <td>1800.0</td>\n",
       "      <td>NaN</td>\n",
       "      <td>EUR</td>\n",
       "      <td>False</td>\n",
       "      <td>180000</td>\n",
       "      <td>middle</td>\n",
       "      <td>full</td>\n",
       "    </tr>\n",
       "    <tr>\n",
       "      <th>4</th>\n",
       "      <td>frontend разработчик</td>\n",
       "      <td>react webpack redux typescript api ux saga sty...</td>\n",
       "      <td>расширяем команду  и ищемjs разработчика  с ш...</td>\n",
       "      <td>https://hh.ru/vacancy/36676120</td>\n",
       "      <td>220000.0</td>\n",
       "      <td>260000.0</td>\n",
       "      <td>RUR</td>\n",
       "      <td>False</td>\n",
       "      <td>240000</td>\n",
       "      <td>senior</td>\n",
       "      <td>full</td>\n",
       "    </tr>\n",
       "    <tr>\n",
       "      <th>5</th>\n",
       "      <td>frontend разработчик</td>\n",
       "      <td>angularjs react less git sass angular scss spa...</td>\n",
       "      <td>приглашаем front end разработчика с опытом от...</td>\n",
       "      <td>https://hh.ru/vacancy/36669665</td>\n",
       "      <td>NaN</td>\n",
       "      <td>60000.0</td>\n",
       "      <td>RUR</td>\n",
       "      <td>True</td>\n",
       "      <td>48000</td>\n",
       "      <td>middle</td>\n",
       "      <td>full</td>\n",
       "    </tr>\n",
       "    <tr>\n",
       "      <th>...</th>\n",
       "      <td>...</td>\n",
       "      <td>...</td>\n",
       "      <td>...</td>\n",
       "      <td>...</td>\n",
       "      <td>...</td>\n",
       "      <td>...</td>\n",
       "      <td>...</td>\n",
       "      <td>...</td>\n",
       "      <td>...</td>\n",
       "      <td>...</td>\n",
       "      <td>...</td>\n",
       "    </tr>\n",
       "    <tr>\n",
       "      <th>5925</th>\n",
       "      <td>java developer  voip</td>\n",
       "      <td>cplus agile rest java docker golang kubernetes...</td>\n",
       "      <td>наш клиент  американская компания ooma  разра...</td>\n",
       "      <td>https://hh.ru/vacancy/34313448</td>\n",
       "      <td>NaN</td>\n",
       "      <td>300000.0</td>\n",
       "      <td>RUR</td>\n",
       "      <td>False</td>\n",
       "      <td>240000</td>\n",
       "      <td>senior</td>\n",
       "      <td>full</td>\n",
       "    </tr>\n",
       "    <tr>\n",
       "      <th>5926</th>\n",
       "      <td>программист bitrix  bitrix24</td>\n",
       "      <td>less oop php jquery css sql html 1c bitrix jso...</td>\n",
       "      <td>задачи   разработка и поддержка веб сайтов на...</td>\n",
       "      <td>https://hh.ru/vacancy/36718950</td>\n",
       "      <td>60000.0</td>\n",
       "      <td>110000.0</td>\n",
       "      <td>RUR</td>\n",
       "      <td>False</td>\n",
       "      <td>85000</td>\n",
       "      <td>senior</td>\n",
       "      <td>full</td>\n",
       "    </tr>\n",
       "    <tr>\n",
       "      <th>5928</th>\n",
       "      <td>разработчик на java  senior   москва</td>\n",
       "      <td>базы данных react nodejs gulp webpack java pos...</td>\n",
       "      <td>привет  я саша cto в driverpack  у нас неболь...</td>\n",
       "      <td>https://hh.ru/vacancy/36532390</td>\n",
       "      <td>NaN</td>\n",
       "      <td>300000.0</td>\n",
       "      <td>RUR</td>\n",
       "      <td>False</td>\n",
       "      <td>240000</td>\n",
       "      <td>senior</td>\n",
       "      <td>full</td>\n",
       "    </tr>\n",
       "    <tr>\n",
       "      <th>5930</th>\n",
       "      <td>back end разработчик  java   sql</td>\n",
       "      <td>mssql git sql java oracle spring oracle pl sql...</td>\n",
       "      <td>it компания с многолетней экспертизой в разра...</td>\n",
       "      <td>https://hh.ru/vacancy/33443666</td>\n",
       "      <td>NaN</td>\n",
       "      <td>180000.0</td>\n",
       "      <td>RUR</td>\n",
       "      <td>False</td>\n",
       "      <td>144000</td>\n",
       "      <td>middle</td>\n",
       "      <td>full</td>\n",
       "    </tr>\n",
       "    <tr>\n",
       "      <th>5931</th>\n",
       "      <td>разработчик алгоритмов управления кластером  ...</td>\n",
       "      <td>kubernetes api cloud ethernet распределенные с...</td>\n",
       "      <td>облачные вычисления и распределенные системы ...</td>\n",
       "      <td>https://hh.ru/vacancy/36725072</td>\n",
       "      <td>200000.0</td>\n",
       "      <td>500000.0</td>\n",
       "      <td>RUR</td>\n",
       "      <td>False</td>\n",
       "      <td>350000</td>\n",
       "      <td>middle</td>\n",
       "      <td>full</td>\n",
       "    </tr>\n",
       "  </tbody>\n",
       "</table>\n",
       "<p>1513 rows × 11 columns</p>\n",
       "</div>"
      ],
      "text/plain": [
       "                                                   name  \\\n",
       "1                                 frontend разработчик    \n",
       "2                         ведущий frontend разработчик    \n",
       "3                   full stack разработчик  net csharp    \n",
       "4                                 frontend разработчик    \n",
       "5                                 frontend разработчик    \n",
       "...                                                 ...   \n",
       "5925                             java developer  voip     \n",
       "5926                      программист bitrix  bitrix24    \n",
       "5928              разработчик на java  senior   москва    \n",
       "5930                 back end разработчик  java   sql     \n",
       "5931   разработчик алгоритмов управления кластером  ...   \n",
       "\n",
       "                                                 skills  \\\n",
       "1     bootstrap html5 css3 js ajax websocket git vue...   \n",
       "2     bootstrap js react angular vuejs oop css es6 s...   \n",
       "3     mssql csharp net wpf рефакторинг умение работа...   \n",
       "4     react webpack redux typescript api ux saga sty...   \n",
       "5     angularjs react less git sass angular scss spa...   \n",
       "...                                                 ...   \n",
       "5925  cplus agile rest java docker golang kubernetes...   \n",
       "5926  less oop php jquery css sql html 1c bitrix jso...   \n",
       "5928  базы данных react nodejs gulp webpack java pos...   \n",
       "5930  mssql git sql java oracle spring oracle pl sql...   \n",
       "5931  kubernetes api cloud ethernet распределенные с...   \n",
       "\n",
       "                                               describe  \\\n",
       "1      компания  эргосоло  работает с 2002 года  наш...   \n",
       "2      verme уже более 6 лет является экспертом wfm ...   \n",
       "3      региональное представительство компании quipu...   \n",
       "4      расширяем команду  и ищемjs разработчика  с ш...   \n",
       "5      приглашаем front end разработчика с опытом от...   \n",
       "...                                                 ...   \n",
       "5925   наш клиент  американская компания ooma  разра...   \n",
       "5926   задачи   разработка и поддержка веб сайтов на...   \n",
       "5928   привет  я саша cto в driverpack  у нас неболь...   \n",
       "5930   it компания с многолетней экспертизой в разра...   \n",
       "5931   облачные вычисления и распределенные системы ...   \n",
       "\n",
       "                                 url  salary_from  salary_to salary_currency  \\\n",
       "1     https://hh.ru/vacancy/36497379     120000.0        NaN             RUR   \n",
       "2     https://hh.ru/vacancy/35493020     150000.0        NaN             RUR   \n",
       "3     https://hh.ru/vacancy/36741295       1800.0        NaN             EUR   \n",
       "4     https://hh.ru/vacancy/36676120     220000.0   260000.0             RUR   \n",
       "5     https://hh.ru/vacancy/36669665          NaN    60000.0             RUR   \n",
       "...                              ...          ...        ...             ...   \n",
       "5925  https://hh.ru/vacancy/34313448          NaN   300000.0             RUR   \n",
       "5926  https://hh.ru/vacancy/36718950      60000.0   110000.0             RUR   \n",
       "5928  https://hh.ru/vacancy/36532390          NaN   300000.0             RUR   \n",
       "5930  https://hh.ru/vacancy/33443666          NaN   180000.0             RUR   \n",
       "5931  https://hh.ru/vacancy/36725072     200000.0   500000.0             RUR   \n",
       "\n",
       "     salary_gross  salary_median experience employment  \n",
       "1           False         150000     middle       full  \n",
       "2           False         187500     senior       full  \n",
       "3           False         180000     middle       full  \n",
       "4           False         240000     senior       full  \n",
       "5            True          48000     middle       full  \n",
       "...           ...            ...        ...        ...  \n",
       "5925        False         240000     senior       full  \n",
       "5926        False          85000     senior       full  \n",
       "5928        False         240000     senior       full  \n",
       "5930        False         144000     middle       full  \n",
       "5931        False         350000     middle       full  \n",
       "\n",
       "[1513 rows x 11 columns]"
      ]
     },
     "execution_count": 41,
     "metadata": {},
     "output_type": "execute_result"
    }
   ],
   "source": [
    "# Отберем вакансии с зарплатой более 10000 и с полной занятостью.\n",
    "df = data_vacances[data_vacances['salary_median'] > 10000]\n",
    "df = df[df['employment'] == 'full']\n",
    "df\n"
   ]
  },
  {
   "cell_type": "code",
   "execution_count": 42,
   "metadata": {},
   "outputs": [
    {
     "data": {
      "image/png": "[encoded data removed]",
      "text/plain": [
       "<Figure size 432x288 with 1 Axes>"
      ]
     },
     "metadata": {
      "needs_background": "light"
     },
     "output_type": "display_data"
    }
   ],
   "source": [
    "plt.hist(df['salary_median']);\n"
   ]
  },
  {
   "cell_type": "code",
   "execution_count": 43,
   "metadata": {},
   "outputs": [
    {
     "name": "stdout",
     "output_type": "stream",
     "text": [
      "17500 721500\n"
     ]
    }
   ],
   "source": [
    "# Посмотрим на минимальную и максимальную предлагаемую зарплату:\n",
    "\n",
    "print(df['salary_median'].min(), df['salary_median'].max())\n"
   ]
  },
  {
   "cell_type": "code",
   "execution_count": 44,
   "metadata": {},
   "outputs": [
    {
     "name": "stdout",
     "output_type": "stream",
     "text": [
      "100000\n",
      "125000\n",
      "175000\n"
     ]
    }
   ],
   "source": [
    "# Посмотрим на среднюю зарплату у каждого уровня опыта:\n",
    "\n",
    "print(int(df[df['experience'] == 'junior']['salary_median'].median()))\n",
    "print(int(df[df['experience'] == 'middle']['salary_median'].median()))\n",
    "print(int(df[df['experience'] == 'senior']['salary_median'].median()))\n"
   ]
  },
  {
   "cell_type": "code",
   "execution_count": 45,
   "metadata": {},
   "outputs": [
    {
     "data": {
      "image/png": "[encoded data removed]",
      "text/plain": [
       "<Figure size 432x288 with 1 Axes>"
      ]
     },
     "metadata": {
      "needs_background": "light"
     },
     "output_type": "display_data"
    }
   ],
   "source": [
    "# Посмотрим на распределение зарплат у junior:\n",
    "\n",
    "xcz = df[(df['experience'] == 'junior')]\n",
    "plt.hist(xcz['salary_median']);\n"
   ]
  },
  {
   "cell_type": "code",
   "execution_count": 46,
   "metadata": {},
   "outputs": [
    {
     "data": {
      "image/png": "[encoded data removed]",
      "text/plain": [
       "<Figure size 432x288 with 1 Axes>"
      ]
     },
     "metadata": {
      "needs_background": "light"
     },
     "output_type": "display_data"
    }
   ],
   "source": [
    "# Посмотрим на распределение зарплат у middle:\n",
    "\n",
    "xcz = df[(df['experience'] == 'middle')]\n",
    "plt.hist(xcz['salary_median']);\n"
   ]
  },
  {
   "cell_type": "code",
   "execution_count": 47,
   "metadata": {},
   "outputs": [
    {
     "data": {
      "image/png": "[encoded data removed]",
      "text/plain": [
       "<Figure size 432x288 with 1 Axes>"
      ]
     },
     "metadata": {
      "needs_background": "light"
     },
     "output_type": "display_data"
    }
   ],
   "source": [
    "# Посмотрим на распределение зарплат у senior:\n",
    "\n",
    "xcz = df[df['experience'] == 'senior']\n",
    "plt.hist(xcz['salary_median']);\n"
   ]
  },
  {
   "cell_type": "code",
   "execution_count": 68,
   "metadata": {
    "scrolled": false
   },
   "outputs": [
    {
     "data": {
      "text/plain": [
       "16"
      ]
     },
     "execution_count": 68,
     "metadata": {},
     "output_type": "execute_result"
    }
   ],
   "source": [
    "# Посмотрим сколько вакансий с предлагаемой зарплатой ниже 40 000 р.:\n",
    "\n",
    "df[(df['salary_median'] < 40000)].shape[0]\n"
   ]
  },
  {
   "cell_type": "code",
   "execution_count": 69,
   "metadata": {},
   "outputs": [
    {
     "data": {
      "text/plain": [
       "index                0\n",
       "name                 0\n",
       "skills               0\n",
       "describe             0\n",
       "url                  0\n",
       "salary_from        221\n",
       "salary_to          595\n",
       "salary_currency      0\n",
       "salary_gross         3\n",
       "salary_median        0\n",
       "experience           0\n",
       "employment           0\n",
       "dtype: int64"
      ]
     },
     "execution_count": 69,
     "metadata": {},
     "output_type": "execute_result"
    }
   ],
   "source": [
    "# Посмотрим на пропуски в наших данных:\n",
    "\n",
    "pd.isnull(df).sum()\n"
   ]
  },
  {
   "cell_type": "code",
   "execution_count": null,
   "metadata": {},
   "outputs": [],
   "source": []
  },
  {
   "cell_type": "markdown",
   "metadata": {},
   "source": [
    "# 4. Переведем вакансии в вектора навыков"
   ]
  },
  {
   "cell_type": "code",
   "execution_count": 50,
   "metadata": {},
   "outputs": [
    {
     "name": "stdout",
     "output_type": "stream",
     "text": [
      "1513 1513\n",
      "CPU times: user 8.71 s, sys: 118 ms, total: 8.83 s\n",
      "Wall time: 8.9 s\n"
     ]
    }
   ],
   "source": [
    "%%time\n",
    "\n",
    "df.reset_index(inplace = True)\n",
    "\n",
    "one_vacancy_vec = [] # вектор наличия/отсутствия навыка\n",
    "one_vacancy_skills = [] # список вакансий\n",
    "\n",
    "for s in range(len(df)):\n",
    "    i = df['skills'][s]\n",
    "    j = df['describe'][s]\n",
    "    g = df['name'][s]\n",
    "    \n",
    "    one_vacancy = []\n",
    "    one_vac_s = []\n",
    "    for k in unique_skills:\n",
    "        kk = ' ' + k + ' '\n",
    "        if (kk in i) or (kk in j) or (kk in g):\n",
    "            one_vacancy.append(1)\n",
    "            one_vac_s.append(k)\n",
    "        else:\n",
    "            one_vacancy.append(0)\n",
    "    one_vacancy_vec.append(one_vacancy)\n",
    "    one_vacancy_skills.append(one_vac_s)\n",
    "\n",
    "print(len(one_vacancy_vec), len(one_vacancy_skills))\n"
   ]
  },
  {
   "cell_type": "code",
   "execution_count": 51,
   "metadata": {},
   "outputs": [
    {
     "name": "stdout",
     "output_type": "stream",
     "text": [
      "CPU times: user 1.5 s, sys: 84.2 ms, total: 1.58 s\n",
      "Wall time: 1.57 s\n"
     ]
    },
    {
     "data": {
      "text/html": [
       "<div>\n",
       "<style scoped>\n",
       "    .dataframe tbody tr th:only-of-type {\n",
       "        vertical-align: middle;\n",
       "    }\n",
       "\n",
       "    .dataframe tbody tr th {\n",
       "        vertical-align: top;\n",
       "    }\n",
       "\n",
       "    .dataframe thead th {\n",
       "        text-align: right;\n",
       "    }\n",
       "</style>\n",
       "<table border=\"1\" class=\"dataframe\">\n",
       "  <thead>\n",
       "    <tr style=\"text-align: right;\">\n",
       "      <th></th>\n",
       "      <th>angularjs</th>\n",
       "      <th>bootstrap</th>\n",
       "      <th>базы данных</th>\n",
       "      <th>mssql</th>\n",
       "      <th>html5</th>\n",
       "      <th>css3</th>\n",
       "      <th>js</th>\n",
       "      <th>ajax</th>\n",
       "      <th>websocket</th>\n",
       "      <th>csharp</th>\n",
       "      <th>...</th>\n",
       "      <th>радиоэлектроника</th>\n",
       "      <th>lean</th>\n",
       "      <th>nwjs</th>\n",
       "      <th>electron</th>\n",
       "      <th>реф приложения</th>\n",
       "      <th>ie6</th>\n",
       "      <th>работа с большим пулом запросов</th>\n",
       "      <th>1c ерп</th>\n",
       "      <th>sprig boot</th>\n",
       "      <th>pistgresql</th>\n",
       "    </tr>\n",
       "  </thead>\n",
       "  <tbody>\n",
       "    <tr>\n",
       "      <th>0</th>\n",
       "      <td>0</td>\n",
       "      <td>1</td>\n",
       "      <td>0</td>\n",
       "      <td>0</td>\n",
       "      <td>1</td>\n",
       "      <td>1</td>\n",
       "      <td>1</td>\n",
       "      <td>1</td>\n",
       "      <td>1</td>\n",
       "      <td>0</td>\n",
       "      <td>...</td>\n",
       "      <td>0</td>\n",
       "      <td>0</td>\n",
       "      <td>0</td>\n",
       "      <td>0</td>\n",
       "      <td>0</td>\n",
       "      <td>0</td>\n",
       "      <td>0</td>\n",
       "      <td>0</td>\n",
       "      <td>0</td>\n",
       "      <td>0</td>\n",
       "    </tr>\n",
       "    <tr>\n",
       "      <th>1</th>\n",
       "      <td>0</td>\n",
       "      <td>1</td>\n",
       "      <td>0</td>\n",
       "      <td>0</td>\n",
       "      <td>0</td>\n",
       "      <td>0</td>\n",
       "      <td>1</td>\n",
       "      <td>0</td>\n",
       "      <td>0</td>\n",
       "      <td>0</td>\n",
       "      <td>...</td>\n",
       "      <td>0</td>\n",
       "      <td>0</td>\n",
       "      <td>0</td>\n",
       "      <td>0</td>\n",
       "      <td>0</td>\n",
       "      <td>0</td>\n",
       "      <td>0</td>\n",
       "      <td>0</td>\n",
       "      <td>0</td>\n",
       "      <td>0</td>\n",
       "    </tr>\n",
       "    <tr>\n",
       "      <th>2</th>\n",
       "      <td>0</td>\n",
       "      <td>0</td>\n",
       "      <td>0</td>\n",
       "      <td>1</td>\n",
       "      <td>0</td>\n",
       "      <td>0</td>\n",
       "      <td>0</td>\n",
       "      <td>0</td>\n",
       "      <td>0</td>\n",
       "      <td>1</td>\n",
       "      <td>...</td>\n",
       "      <td>0</td>\n",
       "      <td>0</td>\n",
       "      <td>0</td>\n",
       "      <td>0</td>\n",
       "      <td>0</td>\n",
       "      <td>0</td>\n",
       "      <td>0</td>\n",
       "      <td>0</td>\n",
       "      <td>0</td>\n",
       "      <td>0</td>\n",
       "    </tr>\n",
       "    <tr>\n",
       "      <th>3</th>\n",
       "      <td>0</td>\n",
       "      <td>0</td>\n",
       "      <td>0</td>\n",
       "      <td>0</td>\n",
       "      <td>0</td>\n",
       "      <td>0</td>\n",
       "      <td>0</td>\n",
       "      <td>0</td>\n",
       "      <td>0</td>\n",
       "      <td>0</td>\n",
       "      <td>...</td>\n",
       "      <td>0</td>\n",
       "      <td>0</td>\n",
       "      <td>0</td>\n",
       "      <td>0</td>\n",
       "      <td>0</td>\n",
       "      <td>0</td>\n",
       "      <td>0</td>\n",
       "      <td>0</td>\n",
       "      <td>0</td>\n",
       "      <td>0</td>\n",
       "    </tr>\n",
       "    <tr>\n",
       "      <th>4</th>\n",
       "      <td>1</td>\n",
       "      <td>0</td>\n",
       "      <td>0</td>\n",
       "      <td>0</td>\n",
       "      <td>0</td>\n",
       "      <td>0</td>\n",
       "      <td>0</td>\n",
       "      <td>0</td>\n",
       "      <td>0</td>\n",
       "      <td>0</td>\n",
       "      <td>...</td>\n",
       "      <td>0</td>\n",
       "      <td>0</td>\n",
       "      <td>0</td>\n",
       "      <td>0</td>\n",
       "      <td>0</td>\n",
       "      <td>0</td>\n",
       "      <td>0</td>\n",
       "      <td>0</td>\n",
       "      <td>0</td>\n",
       "      <td>0</td>\n",
       "    </tr>\n",
       "    <tr>\n",
       "      <th>...</th>\n",
       "      <td>...</td>\n",
       "      <td>...</td>\n",
       "      <td>...</td>\n",
       "      <td>...</td>\n",
       "      <td>...</td>\n",
       "      <td>...</td>\n",
       "      <td>...</td>\n",
       "      <td>...</td>\n",
       "      <td>...</td>\n",
       "      <td>...</td>\n",
       "      <td>...</td>\n",
       "      <td>...</td>\n",
       "      <td>...</td>\n",
       "      <td>...</td>\n",
       "      <td>...</td>\n",
       "      <td>...</td>\n",
       "      <td>...</td>\n",
       "      <td>...</td>\n",
       "      <td>...</td>\n",
       "      <td>...</td>\n",
       "      <td>...</td>\n",
       "    </tr>\n",
       "    <tr>\n",
       "      <th>1508</th>\n",
       "      <td>0</td>\n",
       "      <td>0</td>\n",
       "      <td>0</td>\n",
       "      <td>0</td>\n",
       "      <td>0</td>\n",
       "      <td>0</td>\n",
       "      <td>0</td>\n",
       "      <td>0</td>\n",
       "      <td>0</td>\n",
       "      <td>0</td>\n",
       "      <td>...</td>\n",
       "      <td>0</td>\n",
       "      <td>0</td>\n",
       "      <td>0</td>\n",
       "      <td>0</td>\n",
       "      <td>0</td>\n",
       "      <td>0</td>\n",
       "      <td>0</td>\n",
       "      <td>0</td>\n",
       "      <td>0</td>\n",
       "      <td>0</td>\n",
       "    </tr>\n",
       "    <tr>\n",
       "      <th>1509</th>\n",
       "      <td>0</td>\n",
       "      <td>0</td>\n",
       "      <td>0</td>\n",
       "      <td>0</td>\n",
       "      <td>0</td>\n",
       "      <td>0</td>\n",
       "      <td>0</td>\n",
       "      <td>0</td>\n",
       "      <td>0</td>\n",
       "      <td>0</td>\n",
       "      <td>...</td>\n",
       "      <td>0</td>\n",
       "      <td>0</td>\n",
       "      <td>0</td>\n",
       "      <td>0</td>\n",
       "      <td>0</td>\n",
       "      <td>0</td>\n",
       "      <td>0</td>\n",
       "      <td>0</td>\n",
       "      <td>0</td>\n",
       "      <td>0</td>\n",
       "    </tr>\n",
       "    <tr>\n",
       "      <th>1510</th>\n",
       "      <td>0</td>\n",
       "      <td>0</td>\n",
       "      <td>1</td>\n",
       "      <td>0</td>\n",
       "      <td>0</td>\n",
       "      <td>0</td>\n",
       "      <td>0</td>\n",
       "      <td>0</td>\n",
       "      <td>0</td>\n",
       "      <td>0</td>\n",
       "      <td>...</td>\n",
       "      <td>0</td>\n",
       "      <td>0</td>\n",
       "      <td>1</td>\n",
       "      <td>0</td>\n",
       "      <td>0</td>\n",
       "      <td>0</td>\n",
       "      <td>0</td>\n",
       "      <td>0</td>\n",
       "      <td>0</td>\n",
       "      <td>0</td>\n",
       "    </tr>\n",
       "    <tr>\n",
       "      <th>1511</th>\n",
       "      <td>0</td>\n",
       "      <td>0</td>\n",
       "      <td>0</td>\n",
       "      <td>1</td>\n",
       "      <td>0</td>\n",
       "      <td>0</td>\n",
       "      <td>0</td>\n",
       "      <td>0</td>\n",
       "      <td>0</td>\n",
       "      <td>0</td>\n",
       "      <td>...</td>\n",
       "      <td>0</td>\n",
       "      <td>0</td>\n",
       "      <td>0</td>\n",
       "      <td>0</td>\n",
       "      <td>0</td>\n",
       "      <td>0</td>\n",
       "      <td>0</td>\n",
       "      <td>0</td>\n",
       "      <td>0</td>\n",
       "      <td>0</td>\n",
       "    </tr>\n",
       "    <tr>\n",
       "      <th>1512</th>\n",
       "      <td>0</td>\n",
       "      <td>0</td>\n",
       "      <td>0</td>\n",
       "      <td>0</td>\n",
       "      <td>0</td>\n",
       "      <td>0</td>\n",
       "      <td>0</td>\n",
       "      <td>0</td>\n",
       "      <td>0</td>\n",
       "      <td>0</td>\n",
       "      <td>...</td>\n",
       "      <td>0</td>\n",
       "      <td>0</td>\n",
       "      <td>0</td>\n",
       "      <td>0</td>\n",
       "      <td>0</td>\n",
       "      <td>0</td>\n",
       "      <td>0</td>\n",
       "      <td>0</td>\n",
       "      <td>0</td>\n",
       "      <td>0</td>\n",
       "    </tr>\n",
       "  </tbody>\n",
       "</table>\n",
       "<p>1513 rows × 2881 columns</p>\n",
       "</div>"
      ],
      "text/plain": [
       "      angularjs  bootstrap  базы данных  mssql  html5  css3  js  ajax  \\\n",
       "0             0          1            0      0      1     1   1     1   \n",
       "1             0          1            0      0      0     0   1     0   \n",
       "2             0          0            0      1      0     0   0     0   \n",
       "3             0          0            0      0      0     0   0     0   \n",
       "4             1          0            0      0      0     0   0     0   \n",
       "...         ...        ...          ...    ...    ...   ...  ..   ...   \n",
       "1508          0          0            0      0      0     0   0     0   \n",
       "1509          0          0            0      0      0     0   0     0   \n",
       "1510          0          0            1      0      0     0   0     0   \n",
       "1511          0          0            0      1      0     0   0     0   \n",
       "1512          0          0            0      0      0     0   0     0   \n",
       "\n",
       "      websocket  csharp  ...  радиоэлектроника  lean  nwjs  electron  \\\n",
       "0             1       0  ...                 0     0     0         0   \n",
       "1             0       0  ...                 0     0     0         0   \n",
       "2             0       1  ...                 0     0     0         0   \n",
       "3             0       0  ...                 0     0     0         0   \n",
       "4             0       0  ...                 0     0     0         0   \n",
       "...         ...     ...  ...               ...   ...   ...       ...   \n",
       "1508          0       0  ...                 0     0     0         0   \n",
       "1509          0       0  ...                 0     0     0         0   \n",
       "1510          0       0  ...                 0     0     1         0   \n",
       "1511          0       0  ...                 0     0     0         0   \n",
       "1512          0       0  ...                 0     0     0         0   \n",
       "\n",
       "      реф приложения  ie6  работа с большим пулом запросов  1c ерп  \\\n",
       "0                  0    0                                0       0   \n",
       "1                  0    0                                0       0   \n",
       "2                  0    0                                0       0   \n",
       "3                  0    0                                0       0   \n",
       "4                  0    0                                0       0   \n",
       "...              ...  ...                              ...     ...   \n",
       "1508               0    0                                0       0   \n",
       "1509               0    0                                0       0   \n",
       "1510               0    0                                0       0   \n",
       "1511               0    0                                0       0   \n",
       "1512               0    0                                0       0   \n",
       "\n",
       "      sprig boot  pistgresql  \n",
       "0              0           0  \n",
       "1              0           0  \n",
       "2              0           0  \n",
       "3              0           0  \n",
       "4              0           0  \n",
       "...          ...         ...  \n",
       "1508           0           0  \n",
       "1509           0           0  \n",
       "1510           0           0  \n",
       "1511           0           0  \n",
       "1512           0           0  \n",
       "\n",
       "[1513 rows x 2881 columns]"
      ]
     },
     "execution_count": 51,
     "metadata": {},
     "output_type": "execute_result"
    }
   ],
   "source": [
    "%%time\n",
    "\n",
    "# Создадим DataFrame векторов вакансий:\n",
    "\n",
    "vacances_in_skills = pd.DataFrame(one_vacancy_vec, columns = unique_skills)\n",
    "vacances_in_skills\n"
   ]
  },
  {
   "cell_type": "markdown",
   "metadata": {},
   "source": [
    "### Удалим слишком частые и слишком редкие признаки"
   ]
  },
  {
   "cell_type": "code",
   "execution_count": 52,
   "metadata": {},
   "outputs": [
    {
     "data": {
      "image/png": "[encoded data removed]",
      "text/plain": [
       "<Figure size 432x288 with 1 Axes>"
      ]
     },
     "metadata": {
      "needs_background": "light"
     },
     "output_type": "display_data"
    }
   ],
   "source": [
    "plt.hist(vacances_in_skills.sum(), bins = 10);\n"
   ]
  },
  {
   "cell_type": "code",
   "execution_count": 53,
   "metadata": {},
   "outputs": [
    {
     "data": {
      "text/plain": [
       "2601"
      ]
     },
     "execution_count": 53,
     "metadata": {},
     "output_type": "execute_result"
    }
   ],
   "source": [
    "del_columns_small = []\n",
    "for i in vacances_in_skills:\n",
    "    if vacances_in_skills[i].sum() < 15:\n",
    "        del_columns_small.append(i)\n",
    "\n",
    "len(del_columns_small)\n"
   ]
  },
  {
   "cell_type": "code",
   "execution_count": 54,
   "metadata": {},
   "outputs": [
    {
     "data": {
      "text/plain": [
       "0"
      ]
     },
     "execution_count": 54,
     "metadata": {},
     "output_type": "execute_result"
    }
   ],
   "source": [
    "del_columns_many = []\n",
    "for i in vacances_in_skills:\n",
    "    if vacances_in_skills[i].sum() > 500:\n",
    "        del_columns_many.append(i)\n",
    "\n",
    "len(del_columns_many)\n"
   ]
  },
  {
   "cell_type": "code",
   "execution_count": 55,
   "metadata": {},
   "outputs": [
    {
     "data": {
      "text/plain": [
       "[]"
      ]
     },
     "execution_count": 55,
     "metadata": {},
     "output_type": "execute_result"
    }
   ],
   "source": [
    "del_columns_many"
   ]
  },
  {
   "cell_type": "code",
   "execution_count": 56,
   "metadata": {},
   "outputs": [
    {
     "data": {
      "text/html": [
       "<div>\n",
       "<style scoped>\n",
       "    .dataframe tbody tr th:only-of-type {\n",
       "        vertical-align: middle;\n",
       "    }\n",
       "\n",
       "    .dataframe tbody tr th {\n",
       "        vertical-align: top;\n",
       "    }\n",
       "\n",
       "    .dataframe thead th {\n",
       "        text-align: right;\n",
       "    }\n",
       "</style>\n",
       "<table border=\"1\" class=\"dataframe\">\n",
       "  <thead>\n",
       "    <tr style=\"text-align: right;\">\n",
       "      <th></th>\n",
       "      <th>angularjs</th>\n",
       "      <th>bootstrap</th>\n",
       "      <th>базы данных</th>\n",
       "      <th>mssql</th>\n",
       "      <th>html5</th>\n",
       "      <th>css3</th>\n",
       "      <th>js</th>\n",
       "      <th>ajax</th>\n",
       "      <th>websocket</th>\n",
       "      <th>csharp</th>\n",
       "      <th>...</th>\n",
       "      <th>отчеты</th>\n",
       "      <th>анализ требований</th>\n",
       "      <th>html css</th>\n",
       "      <th>github</th>\n",
       "      <th>communication skills</th>\n",
       "      <th>код ревью</th>\n",
       "      <th>dry</th>\n",
       "      <th>microsoft</th>\n",
       "      <th>mobile</th>\n",
       "      <th>внимательность</th>\n",
       "    </tr>\n",
       "  </thead>\n",
       "  <tbody>\n",
       "    <tr>\n",
       "      <th>0</th>\n",
       "      <td>0</td>\n",
       "      <td>1</td>\n",
       "      <td>0</td>\n",
       "      <td>0</td>\n",
       "      <td>1</td>\n",
       "      <td>1</td>\n",
       "      <td>1</td>\n",
       "      <td>1</td>\n",
       "      <td>1</td>\n",
       "      <td>0</td>\n",
       "      <td>...</td>\n",
       "      <td>0</td>\n",
       "      <td>0</td>\n",
       "      <td>0</td>\n",
       "      <td>0</td>\n",
       "      <td>0</td>\n",
       "      <td>0</td>\n",
       "      <td>0</td>\n",
       "      <td>0</td>\n",
       "      <td>0</td>\n",
       "      <td>0</td>\n",
       "    </tr>\n",
       "    <tr>\n",
       "      <th>1</th>\n",
       "      <td>0</td>\n",
       "      <td>1</td>\n",
       "      <td>0</td>\n",
       "      <td>0</td>\n",
       "      <td>0</td>\n",
       "      <td>0</td>\n",
       "      <td>1</td>\n",
       "      <td>0</td>\n",
       "      <td>0</td>\n",
       "      <td>0</td>\n",
       "      <td>...</td>\n",
       "      <td>0</td>\n",
       "      <td>0</td>\n",
       "      <td>0</td>\n",
       "      <td>0</td>\n",
       "      <td>0</td>\n",
       "      <td>0</td>\n",
       "      <td>0</td>\n",
       "      <td>0</td>\n",
       "      <td>0</td>\n",
       "      <td>0</td>\n",
       "    </tr>\n",
       "    <tr>\n",
       "      <th>2</th>\n",
       "      <td>0</td>\n",
       "      <td>0</td>\n",
       "      <td>0</td>\n",
       "      <td>1</td>\n",
       "      <td>0</td>\n",
       "      <td>0</td>\n",
       "      <td>0</td>\n",
       "      <td>0</td>\n",
       "      <td>0</td>\n",
       "      <td>1</td>\n",
       "      <td>...</td>\n",
       "      <td>0</td>\n",
       "      <td>0</td>\n",
       "      <td>0</td>\n",
       "      <td>0</td>\n",
       "      <td>0</td>\n",
       "      <td>0</td>\n",
       "      <td>0</td>\n",
       "      <td>0</td>\n",
       "      <td>0</td>\n",
       "      <td>0</td>\n",
       "    </tr>\n",
       "    <tr>\n",
       "      <th>3</th>\n",
       "      <td>0</td>\n",
       "      <td>0</td>\n",
       "      <td>0</td>\n",
       "      <td>0</td>\n",
       "      <td>0</td>\n",
       "      <td>0</td>\n",
       "      <td>0</td>\n",
       "      <td>0</td>\n",
       "      <td>0</td>\n",
       "      <td>0</td>\n",
       "      <td>...</td>\n",
       "      <td>0</td>\n",
       "      <td>0</td>\n",
       "      <td>0</td>\n",
       "      <td>0</td>\n",
       "      <td>0</td>\n",
       "      <td>0</td>\n",
       "      <td>0</td>\n",
       "      <td>0</td>\n",
       "      <td>0</td>\n",
       "      <td>0</td>\n",
       "    </tr>\n",
       "    <tr>\n",
       "      <th>4</th>\n",
       "      <td>1</td>\n",
       "      <td>0</td>\n",
       "      <td>0</td>\n",
       "      <td>0</td>\n",
       "      <td>0</td>\n",
       "      <td>0</td>\n",
       "      <td>0</td>\n",
       "      <td>0</td>\n",
       "      <td>0</td>\n",
       "      <td>0</td>\n",
       "      <td>...</td>\n",
       "      <td>0</td>\n",
       "      <td>0</td>\n",
       "      <td>0</td>\n",
       "      <td>0</td>\n",
       "      <td>0</td>\n",
       "      <td>0</td>\n",
       "      <td>1</td>\n",
       "      <td>0</td>\n",
       "      <td>0</td>\n",
       "      <td>0</td>\n",
       "    </tr>\n",
       "    <tr>\n",
       "      <th>...</th>\n",
       "      <td>...</td>\n",
       "      <td>...</td>\n",
       "      <td>...</td>\n",
       "      <td>...</td>\n",
       "      <td>...</td>\n",
       "      <td>...</td>\n",
       "      <td>...</td>\n",
       "      <td>...</td>\n",
       "      <td>...</td>\n",
       "      <td>...</td>\n",
       "      <td>...</td>\n",
       "      <td>...</td>\n",
       "      <td>...</td>\n",
       "      <td>...</td>\n",
       "      <td>...</td>\n",
       "      <td>...</td>\n",
       "      <td>...</td>\n",
       "      <td>...</td>\n",
       "      <td>...</td>\n",
       "      <td>...</td>\n",
       "      <td>...</td>\n",
       "    </tr>\n",
       "    <tr>\n",
       "      <th>1508</th>\n",
       "      <td>0</td>\n",
       "      <td>0</td>\n",
       "      <td>0</td>\n",
       "      <td>0</td>\n",
       "      <td>0</td>\n",
       "      <td>0</td>\n",
       "      <td>0</td>\n",
       "      <td>0</td>\n",
       "      <td>0</td>\n",
       "      <td>0</td>\n",
       "      <td>...</td>\n",
       "      <td>0</td>\n",
       "      <td>0</td>\n",
       "      <td>0</td>\n",
       "      <td>0</td>\n",
       "      <td>0</td>\n",
       "      <td>0</td>\n",
       "      <td>0</td>\n",
       "      <td>0</td>\n",
       "      <td>0</td>\n",
       "      <td>0</td>\n",
       "    </tr>\n",
       "    <tr>\n",
       "      <th>1509</th>\n",
       "      <td>0</td>\n",
       "      <td>0</td>\n",
       "      <td>0</td>\n",
       "      <td>0</td>\n",
       "      <td>0</td>\n",
       "      <td>0</td>\n",
       "      <td>0</td>\n",
       "      <td>0</td>\n",
       "      <td>0</td>\n",
       "      <td>0</td>\n",
       "      <td>...</td>\n",
       "      <td>0</td>\n",
       "      <td>0</td>\n",
       "      <td>0</td>\n",
       "      <td>0</td>\n",
       "      <td>0</td>\n",
       "      <td>0</td>\n",
       "      <td>0</td>\n",
       "      <td>0</td>\n",
       "      <td>0</td>\n",
       "      <td>0</td>\n",
       "    </tr>\n",
       "    <tr>\n",
       "      <th>1510</th>\n",
       "      <td>0</td>\n",
       "      <td>0</td>\n",
       "      <td>1</td>\n",
       "      <td>0</td>\n",
       "      <td>0</td>\n",
       "      <td>0</td>\n",
       "      <td>0</td>\n",
       "      <td>0</td>\n",
       "      <td>0</td>\n",
       "      <td>0</td>\n",
       "      <td>...</td>\n",
       "      <td>0</td>\n",
       "      <td>0</td>\n",
       "      <td>0</td>\n",
       "      <td>0</td>\n",
       "      <td>0</td>\n",
       "      <td>0</td>\n",
       "      <td>0</td>\n",
       "      <td>0</td>\n",
       "      <td>0</td>\n",
       "      <td>0</td>\n",
       "    </tr>\n",
       "    <tr>\n",
       "      <th>1511</th>\n",
       "      <td>0</td>\n",
       "      <td>0</td>\n",
       "      <td>0</td>\n",
       "      <td>1</td>\n",
       "      <td>0</td>\n",
       "      <td>0</td>\n",
       "      <td>0</td>\n",
       "      <td>0</td>\n",
       "      <td>0</td>\n",
       "      <td>0</td>\n",
       "      <td>...</td>\n",
       "      <td>0</td>\n",
       "      <td>0</td>\n",
       "      <td>0</td>\n",
       "      <td>0</td>\n",
       "      <td>0</td>\n",
       "      <td>0</td>\n",
       "      <td>0</td>\n",
       "      <td>0</td>\n",
       "      <td>0</td>\n",
       "      <td>0</td>\n",
       "    </tr>\n",
       "    <tr>\n",
       "      <th>1512</th>\n",
       "      <td>0</td>\n",
       "      <td>0</td>\n",
       "      <td>0</td>\n",
       "      <td>0</td>\n",
       "      <td>0</td>\n",
       "      <td>0</td>\n",
       "      <td>0</td>\n",
       "      <td>0</td>\n",
       "      <td>0</td>\n",
       "      <td>0</td>\n",
       "      <td>...</td>\n",
       "      <td>0</td>\n",
       "      <td>0</td>\n",
       "      <td>0</td>\n",
       "      <td>0</td>\n",
       "      <td>0</td>\n",
       "      <td>0</td>\n",
       "      <td>0</td>\n",
       "      <td>0</td>\n",
       "      <td>0</td>\n",
       "      <td>0</td>\n",
       "    </tr>\n",
       "  </tbody>\n",
       "</table>\n",
       "<p>1513 rows × 280 columns</p>\n",
       "</div>"
      ],
      "text/plain": [
       "      angularjs  bootstrap  базы данных  mssql  html5  css3  js  ajax  \\\n",
       "0             0          1            0      0      1     1   1     1   \n",
       "1             0          1            0      0      0     0   1     0   \n",
       "2             0          0            0      1      0     0   0     0   \n",
       "3             0          0            0      0      0     0   0     0   \n",
       "4             1          0            0      0      0     0   0     0   \n",
       "...         ...        ...          ...    ...    ...   ...  ..   ...   \n",
       "1508          0          0            0      0      0     0   0     0   \n",
       "1509          0          0            0      0      0     0   0     0   \n",
       "1510          0          0            1      0      0     0   0     0   \n",
       "1511          0          0            0      1      0     0   0     0   \n",
       "1512          0          0            0      0      0     0   0     0   \n",
       "\n",
       "      websocket  csharp  ...  отчеты  анализ требований  html css  github  \\\n",
       "0             1       0  ...       0                  0         0       0   \n",
       "1             0       0  ...       0                  0         0       0   \n",
       "2             0       1  ...       0                  0         0       0   \n",
       "3             0       0  ...       0                  0         0       0   \n",
       "4             0       0  ...       0                  0         0       0   \n",
       "...         ...     ...  ...     ...                ...       ...     ...   \n",
       "1508          0       0  ...       0                  0         0       0   \n",
       "1509          0       0  ...       0                  0         0       0   \n",
       "1510          0       0  ...       0                  0         0       0   \n",
       "1511          0       0  ...       0                  0         0       0   \n",
       "1512          0       0  ...       0                  0         0       0   \n",
       "\n",
       "      communication skills  код ревью  dry  microsoft  mobile  внимательность  \n",
       "0                        0          0    0          0       0               0  \n",
       "1                        0          0    0          0       0               0  \n",
       "2                        0          0    0          0       0               0  \n",
       "3                        0          0    0          0       0               0  \n",
       "4                        0          0    1          0       0               0  \n",
       "...                    ...        ...  ...        ...     ...             ...  \n",
       "1508                     0          0    0          0       0               0  \n",
       "1509                     0          0    0          0       0               0  \n",
       "1510                     0          0    0          0       0               0  \n",
       "1511                     0          0    0          0       0               0  \n",
       "1512                     0          0    0          0       0               0  \n",
       "\n",
       "[1513 rows x 280 columns]"
      ]
     },
     "execution_count": 56,
     "metadata": {},
     "output_type": "execute_result"
    }
   ],
   "source": [
    "del_columns = del_columns_many + del_columns_small\n",
    "vacances_in_skills_opt = vacances_in_skills.drop(del_columns, axis = 1)\n",
    "vacances_in_skills_opt\n"
   ]
  },
  {
   "cell_type": "code",
   "execution_count": 57,
   "metadata": {},
   "outputs": [
    {
     "data": {
      "image/png": "[encoded data removed]",
      "text/plain": [
       "<Figure size 432x288 with 1 Axes>"
      ]
     },
     "metadata": {
      "needs_background": "light"
     },
     "output_type": "display_data"
    }
   ],
   "source": [
    "plt.hist(vacances_in_skills_opt.sum(), bins = 20);\n"
   ]
  },
  {
   "cell_type": "code",
   "execution_count": null,
   "metadata": {},
   "outputs": [],
   "source": []
  },
  {
   "cell_type": "markdown",
   "metadata": {},
   "source": [
    "### Удалим элементы с малым и большим количеством данных"
   ]
  },
  {
   "cell_type": "code",
   "execution_count": 58,
   "metadata": {},
   "outputs": [
    {
     "data": {
      "image/png": "[encoded data removed]",
      "text/plain": [
       "<Figure size 432x288 with 1 Axes>"
      ]
     },
     "metadata": {
      "needs_background": "light"
     },
     "output_type": "display_data"
    }
   ],
   "source": [
    "plt.hist(vacances_in_skills_opt.sum(axis = 1));\n"
   ]
  },
  {
   "cell_type": "code",
   "execution_count": 59,
   "metadata": {},
   "outputs": [
    {
     "data": {
      "text/plain": [
       "284"
      ]
     },
     "execution_count": 59,
     "metadata": {},
     "output_type": "execute_result"
    }
   ],
   "source": [
    "index_label_del = vacances_in_skills_opt[(vacances_in_skills_opt.sum(axis = 1) < 5)].index.tolist()\n",
    "index_label_del_2 = vacances_in_skills_opt[(vacances_in_skills_opt.sum(axis = 1) > 40)].index.tolist()\n",
    "\n",
    "index_del = index_label_del + index_label_del_2\n",
    "\n",
    "len(index_del)\n"
   ]
  },
  {
   "cell_type": "code",
   "execution_count": 60,
   "metadata": {},
   "outputs": [
    {
     "data": {
      "text/html": [
       "<div>\n",
       "<style scoped>\n",
       "    .dataframe tbody tr th:only-of-type {\n",
       "        vertical-align: middle;\n",
       "    }\n",
       "\n",
       "    .dataframe tbody tr th {\n",
       "        vertical-align: top;\n",
       "    }\n",
       "\n",
       "    .dataframe thead th {\n",
       "        text-align: right;\n",
       "    }\n",
       "</style>\n",
       "<table border=\"1\" class=\"dataframe\">\n",
       "  <thead>\n",
       "    <tr style=\"text-align: right;\">\n",
       "      <th></th>\n",
       "      <th>angularjs</th>\n",
       "      <th>bootstrap</th>\n",
       "      <th>базы данных</th>\n",
       "      <th>mssql</th>\n",
       "      <th>html5</th>\n",
       "      <th>css3</th>\n",
       "      <th>js</th>\n",
       "      <th>ajax</th>\n",
       "      <th>websocket</th>\n",
       "      <th>csharp</th>\n",
       "      <th>...</th>\n",
       "      <th>отчеты</th>\n",
       "      <th>анализ требований</th>\n",
       "      <th>html css</th>\n",
       "      <th>github</th>\n",
       "      <th>communication skills</th>\n",
       "      <th>код ревью</th>\n",
       "      <th>dry</th>\n",
       "      <th>microsoft</th>\n",
       "      <th>mobile</th>\n",
       "      <th>внимательность</th>\n",
       "    </tr>\n",
       "  </thead>\n",
       "  <tbody>\n",
       "    <tr>\n",
       "      <th>0</th>\n",
       "      <td>0</td>\n",
       "      <td>1</td>\n",
       "      <td>0</td>\n",
       "      <td>0</td>\n",
       "      <td>1</td>\n",
       "      <td>1</td>\n",
       "      <td>1</td>\n",
       "      <td>1</td>\n",
       "      <td>1</td>\n",
       "      <td>0</td>\n",
       "      <td>...</td>\n",
       "      <td>0</td>\n",
       "      <td>0</td>\n",
       "      <td>0</td>\n",
       "      <td>0</td>\n",
       "      <td>0</td>\n",
       "      <td>0</td>\n",
       "      <td>0</td>\n",
       "      <td>0</td>\n",
       "      <td>0</td>\n",
       "      <td>0</td>\n",
       "    </tr>\n",
       "    <tr>\n",
       "      <th>1</th>\n",
       "      <td>0</td>\n",
       "      <td>1</td>\n",
       "      <td>0</td>\n",
       "      <td>0</td>\n",
       "      <td>0</td>\n",
       "      <td>0</td>\n",
       "      <td>1</td>\n",
       "      <td>0</td>\n",
       "      <td>0</td>\n",
       "      <td>0</td>\n",
       "      <td>...</td>\n",
       "      <td>0</td>\n",
       "      <td>0</td>\n",
       "      <td>0</td>\n",
       "      <td>0</td>\n",
       "      <td>0</td>\n",
       "      <td>0</td>\n",
       "      <td>0</td>\n",
       "      <td>0</td>\n",
       "      <td>0</td>\n",
       "      <td>0</td>\n",
       "    </tr>\n",
       "    <tr>\n",
       "      <th>2</th>\n",
       "      <td>0</td>\n",
       "      <td>0</td>\n",
       "      <td>0</td>\n",
       "      <td>1</td>\n",
       "      <td>0</td>\n",
       "      <td>0</td>\n",
       "      <td>0</td>\n",
       "      <td>0</td>\n",
       "      <td>0</td>\n",
       "      <td>1</td>\n",
       "      <td>...</td>\n",
       "      <td>0</td>\n",
       "      <td>0</td>\n",
       "      <td>0</td>\n",
       "      <td>0</td>\n",
       "      <td>0</td>\n",
       "      <td>0</td>\n",
       "      <td>0</td>\n",
       "      <td>0</td>\n",
       "      <td>0</td>\n",
       "      <td>0</td>\n",
       "    </tr>\n",
       "    <tr>\n",
       "      <th>3</th>\n",
       "      <td>0</td>\n",
       "      <td>0</td>\n",
       "      <td>0</td>\n",
       "      <td>0</td>\n",
       "      <td>0</td>\n",
       "      <td>0</td>\n",
       "      <td>0</td>\n",
       "      <td>0</td>\n",
       "      <td>0</td>\n",
       "      <td>0</td>\n",
       "      <td>...</td>\n",
       "      <td>0</td>\n",
       "      <td>0</td>\n",
       "      <td>0</td>\n",
       "      <td>0</td>\n",
       "      <td>0</td>\n",
       "      <td>0</td>\n",
       "      <td>0</td>\n",
       "      <td>0</td>\n",
       "      <td>0</td>\n",
       "      <td>0</td>\n",
       "    </tr>\n",
       "    <tr>\n",
       "      <th>4</th>\n",
       "      <td>1</td>\n",
       "      <td>0</td>\n",
       "      <td>0</td>\n",
       "      <td>0</td>\n",
       "      <td>0</td>\n",
       "      <td>0</td>\n",
       "      <td>0</td>\n",
       "      <td>0</td>\n",
       "      <td>0</td>\n",
       "      <td>0</td>\n",
       "      <td>...</td>\n",
       "      <td>0</td>\n",
       "      <td>0</td>\n",
       "      <td>0</td>\n",
       "      <td>0</td>\n",
       "      <td>0</td>\n",
       "      <td>0</td>\n",
       "      <td>1</td>\n",
       "      <td>0</td>\n",
       "      <td>0</td>\n",
       "      <td>0</td>\n",
       "    </tr>\n",
       "    <tr>\n",
       "      <th>...</th>\n",
       "      <td>...</td>\n",
       "      <td>...</td>\n",
       "      <td>...</td>\n",
       "      <td>...</td>\n",
       "      <td>...</td>\n",
       "      <td>...</td>\n",
       "      <td>...</td>\n",
       "      <td>...</td>\n",
       "      <td>...</td>\n",
       "      <td>...</td>\n",
       "      <td>...</td>\n",
       "      <td>...</td>\n",
       "      <td>...</td>\n",
       "      <td>...</td>\n",
       "      <td>...</td>\n",
       "      <td>...</td>\n",
       "      <td>...</td>\n",
       "      <td>...</td>\n",
       "      <td>...</td>\n",
       "      <td>...</td>\n",
       "      <td>...</td>\n",
       "    </tr>\n",
       "    <tr>\n",
       "      <th>1507</th>\n",
       "      <td>0</td>\n",
       "      <td>0</td>\n",
       "      <td>0</td>\n",
       "      <td>1</td>\n",
       "      <td>0</td>\n",
       "      <td>0</td>\n",
       "      <td>0</td>\n",
       "      <td>0</td>\n",
       "      <td>0</td>\n",
       "      <td>0</td>\n",
       "      <td>...</td>\n",
       "      <td>0</td>\n",
       "      <td>0</td>\n",
       "      <td>0</td>\n",
       "      <td>0</td>\n",
       "      <td>0</td>\n",
       "      <td>0</td>\n",
       "      <td>0</td>\n",
       "      <td>0</td>\n",
       "      <td>0</td>\n",
       "      <td>0</td>\n",
       "    </tr>\n",
       "    <tr>\n",
       "      <th>1508</th>\n",
       "      <td>0</td>\n",
       "      <td>0</td>\n",
       "      <td>0</td>\n",
       "      <td>0</td>\n",
       "      <td>0</td>\n",
       "      <td>0</td>\n",
       "      <td>0</td>\n",
       "      <td>0</td>\n",
       "      <td>0</td>\n",
       "      <td>0</td>\n",
       "      <td>...</td>\n",
       "      <td>0</td>\n",
       "      <td>0</td>\n",
       "      <td>0</td>\n",
       "      <td>0</td>\n",
       "      <td>0</td>\n",
       "      <td>0</td>\n",
       "      <td>0</td>\n",
       "      <td>0</td>\n",
       "      <td>0</td>\n",
       "      <td>0</td>\n",
       "    </tr>\n",
       "    <tr>\n",
       "      <th>1509</th>\n",
       "      <td>0</td>\n",
       "      <td>0</td>\n",
       "      <td>0</td>\n",
       "      <td>0</td>\n",
       "      <td>0</td>\n",
       "      <td>0</td>\n",
       "      <td>0</td>\n",
       "      <td>0</td>\n",
       "      <td>0</td>\n",
       "      <td>0</td>\n",
       "      <td>...</td>\n",
       "      <td>0</td>\n",
       "      <td>0</td>\n",
       "      <td>0</td>\n",
       "      <td>0</td>\n",
       "      <td>0</td>\n",
       "      <td>0</td>\n",
       "      <td>0</td>\n",
       "      <td>0</td>\n",
       "      <td>0</td>\n",
       "      <td>0</td>\n",
       "    </tr>\n",
       "    <tr>\n",
       "      <th>1510</th>\n",
       "      <td>0</td>\n",
       "      <td>0</td>\n",
       "      <td>1</td>\n",
       "      <td>0</td>\n",
       "      <td>0</td>\n",
       "      <td>0</td>\n",
       "      <td>0</td>\n",
       "      <td>0</td>\n",
       "      <td>0</td>\n",
       "      <td>0</td>\n",
       "      <td>...</td>\n",
       "      <td>0</td>\n",
       "      <td>0</td>\n",
       "      <td>0</td>\n",
       "      <td>0</td>\n",
       "      <td>0</td>\n",
       "      <td>0</td>\n",
       "      <td>0</td>\n",
       "      <td>0</td>\n",
       "      <td>0</td>\n",
       "      <td>0</td>\n",
       "    </tr>\n",
       "    <tr>\n",
       "      <th>1511</th>\n",
       "      <td>0</td>\n",
       "      <td>0</td>\n",
       "      <td>0</td>\n",
       "      <td>1</td>\n",
       "      <td>0</td>\n",
       "      <td>0</td>\n",
       "      <td>0</td>\n",
       "      <td>0</td>\n",
       "      <td>0</td>\n",
       "      <td>0</td>\n",
       "      <td>...</td>\n",
       "      <td>0</td>\n",
       "      <td>0</td>\n",
       "      <td>0</td>\n",
       "      <td>0</td>\n",
       "      <td>0</td>\n",
       "      <td>0</td>\n",
       "      <td>0</td>\n",
       "      <td>0</td>\n",
       "      <td>0</td>\n",
       "      <td>0</td>\n",
       "    </tr>\n",
       "  </tbody>\n",
       "</table>\n",
       "<p>1229 rows × 280 columns</p>\n",
       "</div>"
      ],
      "text/plain": [
       "      angularjs  bootstrap  базы данных  mssql  html5  css3  js  ajax  \\\n",
       "0             0          1            0      0      1     1   1     1   \n",
       "1             0          1            0      0      0     0   1     0   \n",
       "2             0          0            0      1      0     0   0     0   \n",
       "3             0          0            0      0      0     0   0     0   \n",
       "4             1          0            0      0      0     0   0     0   \n",
       "...         ...        ...          ...    ...    ...   ...  ..   ...   \n",
       "1507          0          0            0      1      0     0   0     0   \n",
       "1508          0          0            0      0      0     0   0     0   \n",
       "1509          0          0            0      0      0     0   0     0   \n",
       "1510          0          0            1      0      0     0   0     0   \n",
       "1511          0          0            0      1      0     0   0     0   \n",
       "\n",
       "      websocket  csharp  ...  отчеты  анализ требований  html css  github  \\\n",
       "0             1       0  ...       0                  0         0       0   \n",
       "1             0       0  ...       0                  0         0       0   \n",
       "2             0       1  ...       0                  0         0       0   \n",
       "3             0       0  ...       0                  0         0       0   \n",
       "4             0       0  ...       0                  0         0       0   \n",
       "...         ...     ...  ...     ...                ...       ...     ...   \n",
       "1507          0       0  ...       0                  0         0       0   \n",
       "1508          0       0  ...       0                  0         0       0   \n",
       "1509          0       0  ...       0                  0         0       0   \n",
       "1510          0       0  ...       0                  0         0       0   \n",
       "1511          0       0  ...       0                  0         0       0   \n",
       "\n",
       "      communication skills  код ревью  dry  microsoft  mobile  внимательность  \n",
       "0                        0          0    0          0       0               0  \n",
       "1                        0          0    0          0       0               0  \n",
       "2                        0          0    0          0       0               0  \n",
       "3                        0          0    0          0       0               0  \n",
       "4                        0          0    1          0       0               0  \n",
       "...                    ...        ...  ...        ...     ...             ...  \n",
       "1507                     0          0    0          0       0               0  \n",
       "1508                     0          0    0          0       0               0  \n",
       "1509                     0          0    0          0       0               0  \n",
       "1510                     0          0    0          0       0               0  \n",
       "1511                     0          0    0          0       0               0  \n",
       "\n",
       "[1229 rows x 280 columns]"
      ]
     },
     "execution_count": 60,
     "metadata": {},
     "output_type": "execute_result"
    }
   ],
   "source": [
    "data = vacances_in_skills_opt.drop(index = index_del)\n",
    "data\n"
   ]
  },
  {
   "cell_type": "code",
   "execution_count": null,
   "metadata": {},
   "outputs": [],
   "source": []
  },
  {
   "cell_type": "code",
   "execution_count": 61,
   "metadata": {},
   "outputs": [],
   "source": [
    "# Сохраним получившиеся данные в файлы:\n",
    "\n",
    "data.to_csv('vectors_data.csv')\n",
    "df.iloc[data.index.tolist()].to_csv('data_vacances.csv')\n"
   ]
  },
  {
   "cell_type": "code",
   "execution_count": null,
   "metadata": {},
   "outputs": [],
   "source": []
  },
  {
   "cell_type": "markdown",
   "metadata": {},
   "source": [
    "### Посмотрим на коррелирующие данные"
   ]
  },
  {
   "cell_type": "markdown",
   "metadata": {},
   "source": [
    "С помощью корреляции было найдено много навыков с опечатками и разным написанием, что вылилось в большой словарь \"erratum\", который использовался для предобработки данных."
   ]
  },
  {
   "cell_type": "code",
   "execution_count": 70,
   "metadata": {
    "scrolled": false
   },
   "outputs": [
    {
     "name": "stdout",
     "output_type": "stream",
     "text": [
      "html5 --> css3 : R = 0.8215390485080104\n",
      "sql server --> server : R = 0.8266089802405546\n",
      "pl sql --> pl : R = 0.9269330876716637\n",
      "яндекс метрика --> google analytics : R = 0.8870583142956777\n"
     ]
    }
   ],
   "source": [
    "Corr = data.corr()\n",
    "\n",
    "CorField = []\n",
    "CorPairs = []\n",
    "CorrDel = []\n",
    "\n",
    "for i in Corr:\n",
    "    for j in Corr.index[Corr[i] > 0.80]:\n",
    "        if i != j and j not in CorField and i not in CorField:\n",
    "            CorField.append(j)\n",
    "            CorPairs.append([i, j, Corr[i][Corr.index == j].values[0]])\n",
    "            CorrDel.append(j)\n",
    "            print (i, '-->', j, ': R =', Corr[i][Corr.index == j].values[0])\n"
   ]
  },
  {
   "cell_type": "code",
   "execution_count": null,
   "metadata": {},
   "outputs": [],
   "source": []
  },
  {
   "cell_type": "code",
   "execution_count": null,
   "metadata": {},
   "outputs": [],
   "source": []
  },
  {
   "cell_type": "code",
   "execution_count": null,
   "metadata": {},
   "outputs": [],
   "source": []
  }
 ],
 "metadata": {
  "kernelspec": {
   "display_name": "Python 3",
   "language": "python",
   "name": "python3"
  },
  "language_info": {
   "codemirror_mode": {
    "name": "ipython",
    "version": 3
   },
   "file_extension": ".py",
   "mimetype": "text/x-python",
   "name": "python",
   "nbconvert_exporter": "python",
   "pygments_lexer": "ipython3",
   "version": "3.7.6"
  }
 },
 "nbformat": 4,
 "nbformat_minor": 4
}
